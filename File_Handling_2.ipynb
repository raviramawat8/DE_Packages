{
 "cells": [
  {
   "cell_type": "code",
   "execution_count": 6,
   "id": "c95c48b4",
   "metadata": {},
   "outputs": [],
   "source": [
    "from random import randint\n",
    "f = open(\"random.txt\",\"w\")\n",
    "s=\"\"\n",
    "for var in range(100):\n",
    "    s = s+ f\"{randint(1,100)}\\t\"\n",
    "f.write(s)\n",
    "f.close()"
   ]
  },
  {
   "cell_type": "code",
   "execution_count": 7,
   "id": "5b7e957a",
   "metadata": {},
   "outputs": [
    {
     "data": {
      "text/plain": [
       "'17\\t39\\t42\\t36\\t5\\t88\\t95\\t40\\t18\\t55\\t27\\t59\\t57\\t35\\t90\\t40\\t20\\t48\\t29\\t43\\t19\\t97\\t31\\t29\\t100\\t92\\t10\\t59\\t65\\t27\\t18\\t39\\t7\\t19\\t100\\t75\\t83\\t88\\t44\\t10\\t80\\t55\\t27\\t15\\t40\\t30\\t15\\t19\\t31\\t64\\t17\\t50\\t99\\t27\\t24\\t44\\t62\\t43\\t85\\t51\\t64\\t67\\t64\\t94\\t33\\t42\\t29\\t82\\t61\\t88\\t88\\t68\\t54\\t8\\t13\\t58\\t33\\t45\\t40\\t3\\t18\\t41\\t31\\t61\\t21\\t29\\t54\\t35\\t56\\t45\\t3\\t43\\t50\\t69\\t23\\t96\\t35\\t51\\t71\\t99\\t'"
      ]
     },
     "execution_count": 7,
     "metadata": {},
     "output_type": "execute_result"
    }
   ],
   "source": [
    "s"
   ]
  },
  {
   "cell_type": "code",
   "execution_count": 8,
   "id": "0b19fdbe",
   "metadata": {},
   "outputs": [],
   "source": [
    "f=open(\"random.txt\",\"r+\")"
   ]
  },
  {
   "cell_type": "code",
   "execution_count": 9,
   "id": "59b482fe",
   "metadata": {},
   "outputs": [
    {
     "data": {
      "text/plain": [
       "True"
      ]
     },
     "execution_count": 9,
     "metadata": {},
     "output_type": "execute_result"
    }
   ],
   "source": [
    "f.readable()"
   ]
  },
  {
   "cell_type": "code",
   "execution_count": 10,
   "id": "c390577f",
   "metadata": {},
   "outputs": [
    {
     "data": {
      "text/plain": [
       "True"
      ]
     },
     "execution_count": 10,
     "metadata": {},
     "output_type": "execute_result"
    }
   ],
   "source": [
    "f.writable()"
   ]
  },
  {
   "cell_type": "code",
   "execution_count": 18,
   "id": "926e6964",
   "metadata": {},
   "outputs": [
    {
     "name": "stdout",
     "output_type": "stream",
     "text": [
      "The Lion and the Mouse: \n",
      "    One day, a lion was sleeping in the forest when a little mouse accidentally ran over his nose. \n",
      "    The lion woke up and was about to eat the mouse, but the mouse pleaded for his life, promising to help the lion someday. \n",
      "    The lion, amused by the idea, let the mouse go. Later, the lion was caught in a hunter's net. \n",
      "    The mouse heard the lion's roars and rushed to help. He gnawed through the ropes of the net, freeing the lion.\n",
      "    Moral: Kindness is never wasted. Even the smallest creature can help the mightiest.\n"
     ]
    }
   ],
   "source": [
    "with open(\"story.txt\",'w+') as f:\n",
    "    f.write(\"\"\"The Lion and the Mouse: \n",
    "    One day, a lion was sleeping in the forest when a little mouse accidentally ran over his nose. \n",
    "    The lion woke up and was about to eat the mouse, but the mouse pleaded for his life, promising to help the lion someday. \n",
    "    The lion, amused by the idea, let the mouse go. Later, the lion was caught in a hunter's net. \n",
    "    The mouse heard the lion's roars and rushed to help. He gnawed through the ropes of the net, freeing the lion.\n",
    "    Moral: Kindness is never wasted. Even the smallest creature can help the mightiest.\"\"\")\n",
    "    f.seek(0)\n",
    "    d = f.read()\n",
    "    print(d)"
   ]
  },
  {
   "cell_type": "code",
   "execution_count": 19,
   "id": "ab640302",
   "metadata": {},
   "outputs": [
    {
     "name": "stdout",
     "output_type": "stream",
     "text": [
      "The Lion and the Mouse: \n",
      "\n"
     ]
    }
   ],
   "source": [
    "f = open(\"story.txt\",\"r\")\n",
    "line = f.readline()\n",
    "print(line)"
   ]
  },
  {
   "cell_type": "code",
   "execution_count": 29,
   "id": "cf63ad9b",
   "metadata": {},
   "outputs": [
    {
     "data": {
      "text/plain": [
       "\"The Lion and the Mouse: \\n    One day, a lion was sleeping in the forest when a little mouse accidentally ran over his nose. \\n    The lion woke up and was about to eat the mouse, but the mouse pleaded for his life, promising to help the lion someday. \\n    The lion, amused by the idea, let the mouse go. Later, the lion was caught in a hunter's net. \\n    The mouse heard the lion's roars and rushed to help. He gnawed through the ropes of the net, freeing the lion.\\n    Moral: Kindness is never wasted. Even the smallest creature can help the mightiest.\""
      ]
     },
     "execution_count": 29,
     "metadata": {},
     "output_type": "execute_result"
    }
   ],
   "source": [
    "f.seek(0)\n",
    "f.read()"
   ]
  },
  {
   "cell_type": "code",
   "execution_count": 31,
   "id": "7fac1bef",
   "metadata": {},
   "outputs": [
    {
     "name": "stdout",
     "output_type": "stream",
     "text": [
      "Name,Batch,English,Maths,Hindi,Computer,Science\n",
      "Ravi,A,12,12,53,96,54\n",
      "Vishal,B,56,7,3,59,67\n",
      "Vikash,C,12,56,65,72,29\n",
      "Rohit,A,90,41,60,71,25\n",
      "Aman,B,47,65,1,65,97\n",
      "Shreyansh,C,94,23,19,83,53\n",
      "Akshita,A,21,15,60,4,27\n",
      "Vipul,B,23,64,42,36,100\n",
      "Mohit,C,33,89,8,57,20\n",
      "Rajan,A,29,31,79,88,49\n",
      "\n"
     ]
    }
   ],
   "source": [
    "f = open(\"students.csv\",'r')\n",
    "data = f.read()\n",
    "print(data)"
   ]
  },
  {
   "cell_type": "code",
   "execution_count": 36,
   "id": "3358e1f7",
   "metadata": {},
   "outputs": [],
   "source": [
    "#WAF \n",
    "#read --> students.csv --> process --> write ---> result.csv\n",
    "#def file_processor(source,destination)\n",
    "#Name,Batch,Percentage"
   ]
  },
  {
   "cell_type": "code",
   "execution_count": 33,
   "id": "bd95a958",
   "metadata": {},
   "outputs": [],
   "source": [
    "def marks_calc(source,dest):\n",
    "    with open(source,'r') as f:\n",
    "        data=f.read()\n",
    "        d = data.split('\\n')\n",
    "        with open(dest,'w') as f1:\n",
    "            f1.write(\"Name,Batch,Percentage\\n\")\n",
    "            for var in range(1,len(d)-1):\n",
    "                name = d[var].split(',')[0]\n",
    "                batch = d[var].split(',')[1]\n",
    "                per = sum(map(int,d[var].split(',')[2:]))/500\n",
    "                f1.write(f\"{name},{batch},{per:.2%}\\n\")\n",
    "            else:\n",
    "                print(\"Succusfully Write the file!!\")"
   ]
  },
  {
   "cell_type": "code",
   "execution_count": 34,
   "id": "f035bce0",
   "metadata": {},
   "outputs": [
    {
     "name": "stdout",
     "output_type": "stream",
     "text": [
      "Succusfully Write the file!!\n"
     ]
    }
   ],
   "source": [
    "marks_calc(\"students.csv\",\"results.csv\")"
   ]
  },
  {
   "cell_type": "code",
   "execution_count": 35,
   "id": "d7b02dd3",
   "metadata": {},
   "outputs": [
    {
     "name": "stdout",
     "output_type": "stream",
     "text": [
      " Volume in drive C is OS\n",
      " Volume Serial Number is 0EB4-89ED\n",
      "\n",
      " Directory of C:\\Users\\Ravi Ramawat\\OneDrive - Grras Solution Pvt. Ltd\\Data_Engineering_Batch_5_30\n",
      "\n",
      "23-05-2025  18:03    <DIR>          .\n",
      "23-05-2025  16:33    <DIR>          ..\n",
      "10-04-2025  17:54             2,269 .abc.py.un~\n",
      "22-05-2025  18:16    <DIR>          .ipynb_checkpoints\n",
      "10-04-2025  17:54                76 abc.py\n",
      "20-05-2025  19:20            11,333 Closures and Decorators.ipynb\n",
      "25-04-2025  18:56             9,822 Conditional_Statements.ipynb\n",
      "28-04-2025  19:01             3,205 Conditonal Statements.ipynb\n",
      "10-04-2025  19:10            22,203 Data Types in Python.ipynb\n",
      "17-04-2025  19:05            14,960 Data_Types_List.ipynb\n",
      "18-04-2025  19:00            32,950 Data_Types_List2_Tuple.ipynb\n",
      "14-04-2025  19:19            10,606 Data_Types_Strings.ipynb\n",
      "15-04-2025  18:53            29,757 Data_Types_Strings_2.ipynb\n",
      "29-04-2025  19:13         4,023,115 DE.pdf\n",
      "21-05-2025  19:08            10,246 File Handling.ipynb\n",
      "23-05-2025  18:03             8,478 File_Handling_2.ipynb\n",
      "07-05-2025  18:55             9,934 For_Loop.ipynb\n",
      "08-05-2025  18:54            12,150 For_Loop2.ipynb\n",
      "15-05-2025  19:04             9,661 Function_3.ipynb\n",
      "13-05-2025  18:40            10,344 Functions in Python.ipynb\n",
      "14-05-2025  19:05            12,283 Functions_2.ipynb\n",
      "16-05-2025  19:11             9,483 Functions_3.ipynb\n",
      "21-05-2025  18:43                68 hello.py\n",
      "09-04-2025  18:57            71,843 Introduction to Python.ipynb\n",
      "29-04-2025  19:11             5,841 Iteration_Statements.ipynb\n",
      "12-05-2025  18:28            10,709 Loop_Final.ipynb\n",
      "21-04-2025  19:15            15,970 Operators in Python.ipynb\n",
      "22-05-2025  18:19               297 random.txt\n",
      "23-05-2025  18:04               189 results.csv\n",
      "22-05-2025  18:30               557 story.txt\n",
      "22-05-2025  18:34               291 students.csv\n",
      "21-05-2025  18:52               407 students.txt\n",
      "03-05-2025  16:58             8,838 while_loop.ipynb\n",
      "              30 File(s)      4,357,885 bytes\n",
      "               3 Dir(s)  284,030,418,944 bytes free\n"
     ]
    }
   ],
   "source": [
    "ls"
   ]
  },
  {
   "cell_type": "code",
   "execution_count": 45,
   "id": "0b59f6bd",
   "metadata": {},
   "outputs": [
    {
     "name": "stdout",
     "output_type": "stream",
     "text": [
      "Name,Batch,English,Maths,Hindi,Computer,Science\n",
      "Ravi,A,12,12,53,96,54\n",
      "Vishal,B,56,7,3,59,67\n",
      "Vikash,C,12,56,65,72,29\n",
      "Rohit,A,90,41,60,71,25\n",
      "Aman,B,47,65,1,65,97\n",
      "Shreyansh,C,94,23,19,83,53\n",
      "Akshita,A,21,15,60,4,27\n",
      "Vipul,B,23,64,42,36,100\n",
      "Mohit,C,33,89,8,57,20\n",
      "Rajan,A,29,31,79,88,49\n",
      "\n"
     ]
    }
   ],
   "source": [
    "f = open(\"students.csv\",'r')\n",
    "while True:\n",
    "    line = f.read()\n",
    "    if line:\n",
    "        print(line)\n",
    "    else:\n",
    "        break"
   ]
  },
  {
   "cell_type": "code",
   "execution_count": 55,
   "id": "5e088272",
   "metadata": {},
   "outputs": [
    {
     "name": "stdout",
     "output_type": "stream",
     "text": [
      "b'ID3\\x03\\x00\\x00\\x00\\x03\\x15\\x1bTALB\\x00\\x00\\x00\\x1b\\x00\\x00\\x01\\xff\\xfeH\\x00o\\x00u\\x00s\\x00e\\x00f\\x00u\\x00l\\x00l\\x00 \\x005\\x00\\x00\\x00TPE1\\x00\\x00\\x00O\\x00\\x00\\x01\\xff\\xfeY\\x00o\\x00 \\x00Y\\x00o\\x00 \\x00H\\x00o\\x00n\\x00e\\x00y\\x00 \\x00S\\x00i\\x00n\\x00g\\x00h\\x00,\\x00 \\x00A\\x00'\n"
     ]
    }
   ],
   "source": [
    "with open(\"C:\\\\Users\\\\Ravi Ramawat\\\\Downloads\\\\128-Laal Pari - Housefull 5 128 Kbps.mp3\",'rb') as f:\n",
    "    data = f.read()\n",
    "    print(data[:100])"
   ]
  },
  {
   "cell_type": "code",
   "execution_count": 56,
   "id": "1562f742",
   "metadata": {},
   "outputs": [],
   "source": [
    "with open(\"C:\\\\Users\\\\Ravi Ramawat\\\\OneDrive - Grras Solution Pvt. Ltd\\\\Desktop\\\\laal_pari.mp3\",\"wb\") as f:\n",
    "    f.write(data)"
   ]
  },
  {
   "cell_type": "code",
   "execution_count": 57,
   "id": "1ed47b47",
   "metadata": {},
   "outputs": [],
   "source": [
    "with open(\"C:\\\\Users\\\\Ravi Ramawat\\\\Downloads\\\\128-Chor Bazari Phir Se - Bhool Chuk Maaf 128 Kbps.mp3\",'rb') as f:\n",
    "    data = f.read()"
   ]
  },
  {
   "cell_type": "code",
   "execution_count": 58,
   "id": "ed2f5760",
   "metadata": {},
   "outputs": [],
   "source": [
    "with open(\"C:\\\\Users\\\\Ravi Ramawat\\\\OneDrive - Grras Solution Pvt. Ltd\\\\Desktop\\\\laal_pari.mp3\",\"ab\") as f:\n",
    "    f.write(data)"
   ]
  },
  {
   "cell_type": "code",
   "execution_count": 59,
   "id": "8069295a",
   "metadata": {},
   "outputs": [],
   "source": [
    "#JSON --> JAVA SCRIPT OBJECT NOTATION"
   ]
  },
  {
   "cell_type": "code",
   "execution_count": null,
   "id": "1e2f3d91",
   "metadata": {},
   "outputs": [],
   "source": [
    "f = open(\"bankapp.txt\",\"r\")\n",
    "bank = f.read()"
   ]
  },
  {
   "cell_type": "code",
   "execution_count": 60,
   "id": "83121f1d",
   "metadata": {},
   "outputs": [],
   "source": [
    "bank = {'acc':[1001,1002],\n",
    "        'bal':[12123.12312,4123.12312],\n",
    "        'pass':['abc@123','hi@123']}"
   ]
  },
  {
   "cell_type": "code",
   "execution_count": 61,
   "id": "1f6798fb",
   "metadata": {},
   "outputs": [
    {
     "ename": "TypeError",
     "evalue": "write() argument must be str, not dict",
     "output_type": "error",
     "traceback": [
      "\u001b[1;31m---------------------------------------------------------------------------\u001b[0m",
      "\u001b[1;31mTypeError\u001b[0m                                 Traceback (most recent call last)",
      "Cell \u001b[1;32mIn[61], line 2\u001b[0m\n\u001b[0;32m      1\u001b[0m f \u001b[38;5;241m=\u001b[39m \u001b[38;5;28mopen\u001b[39m(\u001b[38;5;124m\"\u001b[39m\u001b[38;5;124mbankapp.txt\u001b[39m\u001b[38;5;124m\"\u001b[39m,\u001b[38;5;124m'\u001b[39m\u001b[38;5;124mw\u001b[39m\u001b[38;5;124m'\u001b[39m)\n\u001b[1;32m----> 2\u001b[0m f\u001b[38;5;241m.\u001b[39mwrite(bank)\n",
      "\u001b[1;31mTypeError\u001b[0m: write() argument must be str, not dict"
     ]
    }
   ],
   "source": [
    "f = open(\"bankapp.txt\",'w')\n",
    "f.write(bank)"
   ]
  },
  {
   "cell_type": "code",
   "execution_count": 62,
   "id": "2379da92",
   "metadata": {},
   "outputs": [],
   "source": [
    "#JSON | Pickle"
   ]
  },
  {
   "cell_type": "code",
   "execution_count": 64,
   "id": "43581523",
   "metadata": {},
   "outputs": [
    {
     "data": {
      "text/plain": [
       "'Fri May 23 19:04:52 2025'"
      ]
     },
     "execution_count": 64,
     "metadata": {},
     "output_type": "execute_result"
    }
   ],
   "source": [
    "import time\n",
    "time.ctime()"
   ]
  },
  {
   "cell_type": "code",
   "execution_count": null,
   "id": "871ff406",
   "metadata": {},
   "outputs": [],
   "source": []
  }
 ],
 "metadata": {
  "kernelspec": {
   "display_name": "Python 3 (ipykernel)",
   "language": "python",
   "name": "python3"
  },
  "language_info": {
   "codemirror_mode": {
    "name": "ipython",
    "version": 3
   },
   "file_extension": ".py",
   "mimetype": "text/x-python",
   "name": "python",
   "nbconvert_exporter": "python",
   "pygments_lexer": "ipython3",
   "version": "3.11.4"
  }
 },
 "nbformat": 4,
 "nbformat_minor": 5
}
