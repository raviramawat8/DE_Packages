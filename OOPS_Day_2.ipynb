{
 "cells": [
  {
   "cell_type": "markdown",
   "id": "af1cd817",
   "metadata": {},
   "source": [
    "### Features of Object Oriented Programming\n",
    "\n",
    "- Classes\n",
    "- Objects\n",
    "- Encapsulation\n",
    "- Data Hiding\n",
    "- Abstraction\n",
    "- Inheritance\n",
    "    - Single Level\n",
    "    - Multi Level\n",
    "    - Mulitple\n",
    "    - Hierarchical\n",
    "    - Hybrid\n",
    "- Polymorphism"
   ]
  },
  {
   "cell_type": "code",
   "execution_count": 1,
   "id": "4460c53e",
   "metadata": {},
   "outputs": [],
   "source": [
    "class Person:\n",
    "    def set_values(self,name,age,gender):\n",
    "        self.name = name\n",
    "        self.age = age\n",
    "        self.gender = gender\n",
    "    def get_values(self):\n",
    "        print(f\"\"\"\n",
    "        Name --> {self.name}\n",
    "        Age --> {self.age}\n",
    "        Gender --> {self.gender}\"\"\")"
   ]
  },
  {
   "cell_type": "code",
   "execution_count": 2,
   "id": "25f8614a",
   "metadata": {},
   "outputs": [],
   "source": [
    "p1 = Person() #obj1\n",
    "p2 = Person() #obj2"
   ]
  },
  {
   "cell_type": "code",
   "execution_count": 4,
   "id": "92c0dee6",
   "metadata": {},
   "outputs": [],
   "source": [
    "p1.set_values('Ravi Ramawat',28,'Male')\n",
    "p2.set_values('Sachin',29,'Male')"
   ]
  },
  {
   "cell_type": "code",
   "execution_count": 5,
   "id": "512fe89c",
   "metadata": {},
   "outputs": [
    {
     "name": "stdout",
     "output_type": "stream",
     "text": [
      "\n",
      "        Name --> Ravi Ramawat\n",
      "        Age --> 28\n",
      "        Gender --> Male\n"
     ]
    }
   ],
   "source": [
    "p1.get_values()"
   ]
  },
  {
   "cell_type": "code",
   "execution_count": 6,
   "id": "5b669f88",
   "metadata": {},
   "outputs": [
    {
     "name": "stdout",
     "output_type": "stream",
     "text": [
      "\n",
      "        Name --> Sachin\n",
      "        Age --> 29\n",
      "        Gender --> Male\n"
     ]
    }
   ],
   "source": [
    "p2.get_values()"
   ]
  },
  {
   "cell_type": "code",
   "execution_count": 8,
   "id": "ad391a6e",
   "metadata": {},
   "outputs": [
    {
     "data": {
      "text/plain": [
       "True"
      ]
     },
     "execution_count": 8,
     "metadata": {},
     "output_type": "execute_result"
    }
   ],
   "source": [
    "hasattr(p2,'get_values')"
   ]
  },
  {
   "cell_type": "code",
   "execution_count": 9,
   "id": "c730a6ef",
   "metadata": {},
   "outputs": [
    {
     "data": {
      "text/plain": [
       "True"
      ]
     },
     "execution_count": 9,
     "metadata": {},
     "output_type": "execute_result"
    }
   ],
   "source": [
    "hasattr(p1,'set_values')"
   ]
  },
  {
   "cell_type": "code",
   "execution_count": 11,
   "id": "691a982f",
   "metadata": {},
   "outputs": [
    {
     "data": {
      "text/plain": [
       "True"
      ]
     },
     "execution_count": 11,
     "metadata": {},
     "output_type": "execute_result"
    }
   ],
   "source": [
    "l1 = [35,45,56,76,767]\n",
    "hasattr(l1,'append')"
   ]
  },
  {
   "cell_type": "code",
   "execution_count": 12,
   "id": "34018f78",
   "metadata": {},
   "outputs": [
    {
     "data": {
      "text/plain": [
       "False"
      ]
     },
     "execution_count": 12,
     "metadata": {},
     "output_type": "execute_result"
    }
   ],
   "source": [
    "hasattr(l1,'delete')"
   ]
  },
  {
   "cell_type": "code",
   "execution_count": 13,
   "id": "8689b913",
   "metadata": {},
   "outputs": [
    {
     "data": {
      "text/plain": [
       "True"
      ]
     },
     "execution_count": 13,
     "metadata": {},
     "output_type": "execute_result"
    }
   ],
   "source": [
    "hasattr(l1,'pop')"
   ]
  },
  {
   "cell_type": "code",
   "execution_count": 14,
   "id": "c23fe1d0",
   "metadata": {},
   "outputs": [
    {
     "name": "stdout",
     "output_type": "stream",
     "text": [
      "['__class__', '__delattr__', '__dict__', '__dir__', '__doc__', '__eq__', '__format__', '__ge__', '__getattribute__', '__getstate__', '__gt__', '__hash__', '__init__', '__init_subclass__', '__le__', '__lt__', '__module__', '__ne__', '__new__', '__reduce__', '__reduce_ex__', '__repr__', '__setattr__', '__sizeof__', '__str__', '__subclasshook__', '__weakref__', 'age', 'gender', 'get_values', 'name', 'set_values']\n"
     ]
    }
   ],
   "source": [
    "print(dir(p1))"
   ]
  },
  {
   "cell_type": "markdown",
   "id": "73191e28",
   "metadata": {},
   "source": [
    "# Constructor "
   ]
  },
  {
   "cell_type": "code",
   "execution_count": 15,
   "id": "15f2f4fd",
   "metadata": {},
   "outputs": [],
   "source": [
    "class Person:\n",
    "    def __init__(self,name,age,gender):\n",
    "        self.name=name\n",
    "        self.age=age\n",
    "        self.gender=gender\n",
    "    def get_values(self):\n",
    "        print(f\"\"\"\n",
    "        Name --> {self.name}\n",
    "        Age --> {self.age}\n",
    "        Gender --> {self.gender}\"\"\")"
   ]
  },
  {
   "cell_type": "code",
   "execution_count": 17,
   "id": "140ee0d3",
   "metadata": {},
   "outputs": [],
   "source": [
    "p1 = Person('Ravi Ramawat',28,'Male')\n",
    "p2 = Person('Sachin Yadav',29,'Male')"
   ]
  },
  {
   "cell_type": "code",
   "execution_count": 18,
   "id": "9ef01281",
   "metadata": {},
   "outputs": [
    {
     "name": "stdout",
     "output_type": "stream",
     "text": [
      "\n",
      "        Name --> Ravi Ramawat\n",
      "        Age --> 28\n",
      "        Gender --> Male\n"
     ]
    }
   ],
   "source": [
    "p1.get_values()"
   ]
  },
  {
   "cell_type": "code",
   "execution_count": 19,
   "id": "fb6cb93f",
   "metadata": {},
   "outputs": [
    {
     "name": "stdout",
     "output_type": "stream",
     "text": [
      "\n",
      "        Name --> Sachin Yadav\n",
      "        Age --> 29\n",
      "        Gender --> Male\n"
     ]
    }
   ],
   "source": [
    "p2.get_values()"
   ]
  },
  {
   "cell_type": "markdown",
   "id": "55c720f0",
   "metadata": {},
   "source": [
    "### Destructor"
   ]
  },
  {
   "cell_type": "code",
   "execution_count": 20,
   "id": "d517afed",
   "metadata": {},
   "outputs": [
    {
     "name": "stdout",
     "output_type": "stream",
     "text": [
      "33 <class 'int'>\n"
     ]
    }
   ],
   "source": [
    "a = 33\n",
    "print(a,type(a))"
   ]
  },
  {
   "cell_type": "code",
   "execution_count": 21,
   "id": "b1f4ce05",
   "metadata": {},
   "outputs": [],
   "source": [
    "del a"
   ]
  },
  {
   "cell_type": "code",
   "execution_count": 22,
   "id": "0854aaf6",
   "metadata": {},
   "outputs": [
    {
     "ename": "NameError",
     "evalue": "name 'a' is not defined",
     "output_type": "error",
     "traceback": [
      "\u001b[1;31m---------------------------------------------------------------------------\u001b[0m",
      "\u001b[1;31mNameError\u001b[0m                                 Traceback (most recent call last)",
      "Cell \u001b[1;32mIn[22], line 1\u001b[0m\n\u001b[1;32m----> 1\u001b[0m \u001b[38;5;28mprint\u001b[39m(a,\u001b[38;5;28mtype\u001b[39m(a))\n",
      "\u001b[1;31mNameError\u001b[0m: name 'a' is not defined"
     ]
    }
   ],
   "source": [
    "print(a,type(a))"
   ]
  },
  {
   "cell_type": "code",
   "execution_count": 1,
   "id": "3f297e81",
   "metadata": {},
   "outputs": [],
   "source": [
    "from time import sleep\n",
    "class Grras:\n",
    "    def __init__(self,name,desgination,experience,role,subject):\n",
    "        self.name = name\n",
    "        self.desgination = desgination\n",
    "        self.experience = experience\n",
    "        self.role = role\n",
    "        self.subject=subject\n",
    "    def training(self):\n",
    "        print(f\"\"\"{self.name} will provide training to the students who enrolled in {self.subject}\"\"\")\n",
    "    def trainer_profile(self):\n",
    "        print(f\"\"\"\n",
    "        Name ---> {self.name}\n",
    "        Designation --> {self.desgination}\n",
    "        Experience --> {self.experience}\n",
    "        Job Role --> {self.role}\n",
    "        Subject --> {self.subject}\"\"\")\n",
    "    def __del__(self):\n",
    "        print(f\"Deleting Name ---> {self.name}\")\n",
    "        del self.name\n",
    "        sleep(2)\n",
    "        print(f\"Deleting Designation ---> {self.desgination}\")\n",
    "        del self.desgination\n",
    "        sleep(2)\n",
    "        print(f\"Deleting Experience ---> {self.experience}\")\n",
    "        del self.experience\n",
    "        sleep(2)\n",
    "        print(f\"Deleting Role ---> {self.role}\")\n",
    "        del self.role\n",
    "        sleep(2)\n",
    "        print(f\"Deleting Subject ---> {self.subject}\")\n",
    "        del self.subject\n",
    "        sleep(2)\n",
    "        print(f\"Deleting the whole object\")\n",
    "        del self\n",
    "    def __str__(self):\n",
    "        return f\"\"\"\n",
    "        This is an object of class Grras Which contains\n",
    "         \n",
    "        Name ---> {self.name}\n",
    "        Designation --> {self.desgination}\n",
    "        Experience --> {self.experience}\n",
    "        Job Role --> {self.role}\n",
    "        Subject --> {self.subject}\n",
    "        \n",
    "        these data memebers.\"\"\"\n"
   ]
  },
  {
   "cell_type": "code",
   "execution_count": 2,
   "id": "e8d1dd17",
   "metadata": {},
   "outputs": [],
   "source": [
    "t1 = Grras(\"Ravi Ramawat\",\"Senior Manager\",7,\"Data Scientist\",\"Data Engineering\")"
   ]
  },
  {
   "cell_type": "code",
   "execution_count": 3,
   "id": "ef373fcd",
   "metadata": {},
   "outputs": [
    {
     "name": "stdout",
     "output_type": "stream",
     "text": [
      "\n",
      "        Name ---> Ravi Ramawat\n",
      "        Designation --> Senior Manager\n",
      "        Experience --> 7\n",
      "        Job Role --> Data Scientist\n",
      "        Subject --> Data Engineering\n"
     ]
    }
   ],
   "source": [
    "t1.trainer_profile()"
   ]
  },
  {
   "cell_type": "code",
   "execution_count": 4,
   "id": "a071e76b",
   "metadata": {},
   "outputs": [
    {
     "name": "stdout",
     "output_type": "stream",
     "text": [
      "Ravi Ramawat will provide training to the students who enrolled in Data Engineering\n"
     ]
    }
   ],
   "source": [
    "t1.training()"
   ]
  },
  {
   "cell_type": "code",
   "execution_count": 5,
   "id": "054e7605",
   "metadata": {},
   "outputs": [
    {
     "name": "stdout",
     "output_type": "stream",
     "text": [
      "\n",
      "        This is an object of class Grras Which contains\n",
      "         \n",
      "        Name ---> Ravi Ramawat\n",
      "        Designation --> Senior Manager\n",
      "        Experience --> 7\n",
      "        Job Role --> Data Scientist\n",
      "        Subject --> Data Engineering\n",
      "        \n",
      "        these data memebers.\n"
     ]
    }
   ],
   "source": [
    "print(t1)"
   ]
  },
  {
   "cell_type": "code",
   "execution_count": 6,
   "id": "8c39c94b",
   "metadata": {},
   "outputs": [
    {
     "name": "stdout",
     "output_type": "stream",
     "text": [
      "Deleting Name ---> Ravi Ramawat\n",
      "Deleting Designation ---> Senior Manager\n",
      "Deleting Experience ---> 7\n",
      "Deleting Role ---> Data Scientist\n",
      "Deleting Subject ---> Data Engineering\n",
      "Deleting the whole object\n"
     ]
    }
   ],
   "source": [
    "del t1"
   ]
  },
  {
   "cell_type": "code",
   "execution_count": 24,
   "id": "1aeaa664",
   "metadata": {},
   "outputs": [
    {
     "name": "stdout",
     "output_type": "stream",
     "text": [
      "Loading....."
     ]
    }
   ],
   "source": [
    "from time import sleep\n",
    "print(\"Loading\",end=\"\")\n",
    "for var in range(5):\n",
    "    sleep(5)\n",
    "    print(\".\",end=\"\")"
   ]
  },
  {
   "cell_type": "code",
   "execution_count": 31,
   "id": "6f445784",
   "metadata": {},
   "outputs": [
    {
     "name": "stdout",
     "output_type": "stream",
     "text": [
      "<__main__.Person object at 0x000001B456690190>\n"
     ]
    }
   ],
   "source": [
    "print(p1)"
   ]
  },
  {
   "cell_type": "code",
   "execution_count": 7,
   "id": "6b60b2f4",
   "metadata": {},
   "outputs": [
    {
     "ename": "NameError",
     "evalue": "name 't1' is not defined",
     "output_type": "error",
     "traceback": [
      "\u001b[1;31m---------------------------------------------------------------------------\u001b[0m",
      "\u001b[1;31mNameError\u001b[0m                                 Traceback (most recent call last)",
      "Cell \u001b[1;32mIn[7], line 1\u001b[0m\n\u001b[1;32m----> 1\u001b[0m \u001b[38;5;28mprint\u001b[39m(t1)\n",
      "\u001b[1;31mNameError\u001b[0m: name 't1' is not defined"
     ]
    }
   ],
   "source": [
    "print(t1)"
   ]
  },
  {
   "cell_type": "code",
   "execution_count": null,
   "id": "78f0d9cc",
   "metadata": {},
   "outputs": [],
   "source": []
  }
 ],
 "metadata": {
  "kernelspec": {
   "display_name": "Python 3 (ipykernel)",
   "language": "python",
   "name": "python3"
  },
  "language_info": {
   "codemirror_mode": {
    "name": "ipython",
    "version": 3
   },
   "file_extension": ".py",
   "mimetype": "text/x-python",
   "name": "python",
   "nbconvert_exporter": "python",
   "pygments_lexer": "ipython3",
   "version": "3.11.4"
  }
 },
 "nbformat": 4,
 "nbformat_minor": 5
}
