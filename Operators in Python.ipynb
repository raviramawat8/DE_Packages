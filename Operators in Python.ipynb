{
 "cells": [
  {
   "cell_type": "markdown",
   "id": "50720c21",
   "metadata": {},
   "source": [
    "# Operators in Python"
   ]
  },
  {
   "cell_type": "markdown",
   "id": "772880ce",
   "metadata": {},
   "source": [
    "- Arithmatic Operators (+,-,*,/, //, **, %)\n",
    "- Logical Operators (and, or, not)\n",
    "- Relational Operators (>,<,>=,<=,==,!=)\n",
    "- Assignment Operators (=, +=, -=, /=, *=)\n",
    "- Membership Operators (in, not in)\n",
    "- Identity Operators (is, is not)\n",
    "- Bitwise Operators (&,|,^ , >>, <<,~)"
   ]
  },
  {
   "cell_type": "code",
   "execution_count": 3,
   "id": "f9e155da",
   "metadata": {},
   "outputs": [],
   "source": [
    "#arithmatic operators\n",
    "a = 3\n",
    "b = 7"
   ]
  },
  {
   "cell_type": "code",
   "execution_count": 2,
   "id": "fae035fb",
   "metadata": {},
   "outputs": [
    {
     "name": "stdout",
     "output_type": "stream",
     "text": [
      "343\n"
     ]
    }
   ],
   "source": [
    "print(b**a) #exponent"
   ]
  },
  {
   "cell_type": "code",
   "execution_count": 6,
   "id": "9c167920",
   "metadata": {},
   "outputs": [
    {
     "name": "stdout",
     "output_type": "stream",
     "text": [
      "3.142857142857143\n"
     ]
    }
   ],
   "source": [
    "#true division\n",
    "a = 22\n",
    "b = 7\n",
    "print(a/b)"
   ]
  },
  {
   "cell_type": "code",
   "execution_count": 7,
   "id": "07df6e71",
   "metadata": {},
   "outputs": [
    {
     "name": "stdout",
     "output_type": "stream",
     "text": [
      "3\n"
     ]
    }
   ],
   "source": [
    "print(a//b) #floor division"
   ]
  },
  {
   "cell_type": "code",
   "execution_count": 11,
   "id": "0a5ec989",
   "metadata": {},
   "outputs": [],
   "source": [
    "a = 50\n",
    "b = 98"
   ]
  },
  {
   "cell_type": "code",
   "execution_count": 12,
   "id": "37b07c43",
   "metadata": {},
   "outputs": [
    {
     "name": "stdout",
     "output_type": "stream",
     "text": [
      "50\n"
     ]
    }
   ],
   "source": [
    "print(a%b)"
   ]
  },
  {
   "cell_type": "code",
   "execution_count": 14,
   "id": "4e5d58cb",
   "metadata": {},
   "outputs": [
    {
     "name": "stdout",
     "output_type": "stream",
     "text": [
      "48\n"
     ]
    }
   ],
   "source": [
    "print(b%a) #remainder"
   ]
  },
  {
   "cell_type": "code",
   "execution_count": 15,
   "id": "d36da5fa",
   "metadata": {},
   "outputs": [],
   "source": [
    "#logical"
   ]
  },
  {
   "cell_type": "code",
   "execution_count": 16,
   "id": "1522d970",
   "metadata": {},
   "outputs": [],
   "source": [
    "a = 4\n",
    "b = 3\n",
    "c = 9"
   ]
  },
  {
   "cell_type": "code",
   "execution_count": 17,
   "id": "1e13c86d",
   "metadata": {},
   "outputs": [
    {
     "name": "stdout",
     "output_type": "stream",
     "text": [
      "True\n"
     ]
    }
   ],
   "source": [
    "print(a>b and b!=a)"
   ]
  },
  {
   "cell_type": "code",
   "execution_count": 18,
   "id": "9b57dedf",
   "metadata": {},
   "outputs": [
    {
     "name": "stdout",
     "output_type": "stream",
     "text": [
      "True\n"
     ]
    }
   ],
   "source": [
    "print(a!=a or a>=a)"
   ]
  },
  {
   "cell_type": "code",
   "execution_count": 19,
   "id": "58994163",
   "metadata": {},
   "outputs": [
    {
     "name": "stdout",
     "output_type": "stream",
     "text": [
      "False\n"
     ]
    }
   ],
   "source": [
    "print(a<=b and b>=a)"
   ]
  },
  {
   "cell_type": "code",
   "execution_count": 20,
   "id": "9e976773",
   "metadata": {},
   "outputs": [
    {
     "name": "stdout",
     "output_type": "stream",
     "text": [
      "Ravi is Awesome\n"
     ]
    }
   ],
   "source": [
    "print(\"Ravi is Awesome\") and print(\"Python is Awesome\")"
   ]
  },
  {
   "cell_type": "code",
   "execution_count": 21,
   "id": "ab47354a",
   "metadata": {},
   "outputs": [
    {
     "name": "stdout",
     "output_type": "stream",
     "text": [
      "Ravi is Awesome\n",
      "Python is Awesome\n"
     ]
    }
   ],
   "source": [
    "print(\"Ravi is Awesome\") or print(\"Python is Awesome\")"
   ]
  },
  {
   "cell_type": "code",
   "execution_count": 22,
   "id": "5bb8ad9a",
   "metadata": {},
   "outputs": [],
   "source": [
    "#NOTE:- Everything is True in Python except:-\n",
    "# False, None, 0, '', [], {}, ()"
   ]
  },
  {
   "cell_type": "code",
   "execution_count": 31,
   "id": "3509d756",
   "metadata": {},
   "outputs": [
    {
     "data": {
      "text/plain": [
       "True"
      ]
     },
     "execution_count": 31,
     "metadata": {},
     "output_type": "execute_result"
    }
   ],
   "source": [
    "bool([1])"
   ]
  },
  {
   "cell_type": "code",
   "execution_count": 34,
   "id": "e53e7a92",
   "metadata": {},
   "outputs": [],
   "source": [
    "#relational operators"
   ]
  },
  {
   "cell_type": "code",
   "execution_count": 37,
   "id": "36804077",
   "metadata": {},
   "outputs": [
    {
     "data": {
      "text/plain": [
       "False"
      ]
     },
     "execution_count": 37,
     "metadata": {},
     "output_type": "execute_result"
    }
   ],
   "source": [
    "a!=a #not equals to"
   ]
  },
  {
   "cell_type": "code",
   "execution_count": 38,
   "id": "757c758b",
   "metadata": {},
   "outputs": [
    {
     "data": {
      "text/plain": [
       "False"
      ]
     },
     "execution_count": 38,
     "metadata": {},
     "output_type": "execute_result"
    }
   ],
   "source": [
    "a == b  #comparison"
   ]
  },
  {
   "cell_type": "code",
   "execution_count": 41,
   "id": "3ddff3e4",
   "metadata": {},
   "outputs": [
    {
     "name": "stdout",
     "output_type": "stream",
     "text": [
      "30.0\n"
     ]
    }
   ],
   "source": [
    "#assignment operators\n",
    "\n",
    "a = 5\n",
    "a += 9  #a = a+9\n",
    "a -= 2 #a = a-2\n",
    "a /= 2 \n",
    "a *= 5\n",
    "print(a)"
   ]
  },
  {
   "cell_type": "code",
   "execution_count": 42,
   "id": "63b08e10",
   "metadata": {},
   "outputs": [],
   "source": [
    "#membership"
   ]
  },
  {
   "cell_type": "markdown",
   "id": "44fd5b1a",
   "metadata": {},
   "source": [
    "- in\n",
    "- not in"
   ]
  },
  {
   "cell_type": "code",
   "execution_count": 45,
   "id": "8b36dfbb",
   "metadata": {},
   "outputs": [
    {
     "name": "stdout",
     "output_type": "stream",
     "text": [
      "False\n"
     ]
    }
   ],
   "source": [
    "l = [1,2,132,14,122,33412,4,]\n",
    "print(22 in l)"
   ]
  },
  {
   "cell_type": "code",
   "execution_count": 46,
   "id": "c2da02f6",
   "metadata": {},
   "outputs": [
    {
     "name": "stdout",
     "output_type": "stream",
     "text": [
      "Element Found!!\n"
     ]
    }
   ],
   "source": [
    "if 2 in l:\n",
    "    print(\"Element Found!!\")"
   ]
  },
  {
   "cell_type": "code",
   "execution_count": 47,
   "id": "985a7b1f",
   "metadata": {},
   "outputs": [
    {
     "data": {
      "text/plain": [
       "True"
      ]
     },
     "execution_count": 47,
     "metadata": {},
     "output_type": "execute_result"
    }
   ],
   "source": [
    "22 not in l"
   ]
  },
  {
   "cell_type": "code",
   "execution_count": 49,
   "id": "5c3c28be",
   "metadata": {},
   "outputs": [
    {
     "name": "stdout",
     "output_type": "stream",
     "text": [
      "Not Found!!\n"
     ]
    }
   ],
   "source": [
    "if \"a\" not in \"Rvi\":\n",
    "    print(\"Not Found!!\")"
   ]
  },
  {
   "cell_type": "code",
   "execution_count": 50,
   "id": "29e98e41",
   "metadata": {},
   "outputs": [],
   "source": [
    "#identity"
   ]
  },
  {
   "cell_type": "markdown",
   "id": "3bdd941f",
   "metadata": {},
   "source": [
    "- is\n",
    "- is not"
   ]
  },
  {
   "cell_type": "code",
   "execution_count": 51,
   "id": "94681968",
   "metadata": {},
   "outputs": [
    {
     "name": "stdout",
     "output_type": "stream",
     "text": [
      "44 140722489235592\n"
     ]
    }
   ],
   "source": [
    "a = 44\n",
    "print(a,id(a))"
   ]
  },
  {
   "cell_type": "code",
   "execution_count": 52,
   "id": "f4d83125",
   "metadata": {},
   "outputs": [
    {
     "name": "stdout",
     "output_type": "stream",
     "text": [
      "44 140722489235592\n"
     ]
    }
   ],
   "source": [
    "b = 44\n",
    "print(b,id(b))"
   ]
  },
  {
   "cell_type": "code",
   "execution_count": 53,
   "id": "ffa30fa9",
   "metadata": {},
   "outputs": [
    {
     "name": "stdout",
     "output_type": "stream",
     "text": [
      "Ravi 1730673680624\n",
      "Ravi 1730673680624\n"
     ]
    }
   ],
   "source": [
    "a = \"Ravi\"\n",
    "b = \"Ravi\"\n",
    "print(a,id(a))\n",
    "print(b,id(b))"
   ]
  },
  {
   "cell_type": "code",
   "execution_count": 54,
   "id": "4d8029e8",
   "metadata": {},
   "outputs": [
    {
     "name": "stdout",
     "output_type": "stream",
     "text": [
      "Ravi Ramawat 1730673669552\n",
      "Ravi Ramawat 1730673634608\n"
     ]
    }
   ],
   "source": [
    "c = \"Ravi Ramawat\"\n",
    "d = \"Ravi Ramawat\"\n",
    "print(c,id(c))\n",
    "print(d,id(d))"
   ]
  },
  {
   "cell_type": "code",
   "execution_count": 55,
   "id": "2d897b27",
   "metadata": {},
   "outputs": [
    {
     "name": "stdout",
     "output_type": "stream",
     "text": [
      "Hello_World 1730673678512\n",
      "Hello_World 1730673678512\n"
     ]
    }
   ],
   "source": [
    "e = \"Hello_World\"\n",
    "f = \"Hello_World\"\n",
    "print(e,id(e))\n",
    "print(f,id(f))"
   ]
  },
  {
   "cell_type": "code",
   "execution_count": 59,
   "id": "a98a0022",
   "metadata": {},
   "outputs": [
    {
     "name": "stdout",
     "output_type": "stream",
     "text": [
      "1730669667184\n",
      "1730669667504\n"
     ]
    }
   ],
   "source": [
    "g = 257\n",
    "h = 257\n",
    "print(id(g))\n",
    "print(id(h))"
   ]
  },
  {
   "cell_type": "code",
   "execution_count": 61,
   "id": "7f1f8327",
   "metadata": {},
   "outputs": [
    {
     "name": "stdout",
     "output_type": "stream",
     "text": [
      "False\n"
     ]
    }
   ],
   "source": [
    "print(g is h)"
   ]
  },
  {
   "cell_type": "code",
   "execution_count": 62,
   "id": "4eb70621",
   "metadata": {},
   "outputs": [
    {
     "name": "stdout",
     "output_type": "stream",
     "text": [
      "True\n"
     ]
    }
   ],
   "source": [
    "print(e is f)"
   ]
  },
  {
   "cell_type": "code",
   "execution_count": 63,
   "id": "fefc77b0",
   "metadata": {},
   "outputs": [],
   "source": [
    "l1 = [1,2,3]\n",
    "l2 = [1,2,3]"
   ]
  },
  {
   "cell_type": "code",
   "execution_count": 66,
   "id": "adadd4b3",
   "metadata": {},
   "outputs": [
    {
     "name": "stdout",
     "output_type": "stream",
     "text": [
      "False\n",
      "True\n"
     ]
    }
   ],
   "source": [
    "print(l1 is l2) #id check\n",
    "print(l1 == l2) #value check"
   ]
  },
  {
   "cell_type": "code",
   "execution_count": 67,
   "id": "b31b6d5c",
   "metadata": {},
   "outputs": [
    {
     "name": "stdout",
     "output_type": "stream",
     "text": [
      "True\n"
     ]
    }
   ],
   "source": [
    "print(l1[0] is l2[0])"
   ]
  },
  {
   "cell_type": "code",
   "execution_count": 68,
   "id": "65f3b7d3",
   "metadata": {},
   "outputs": [
    {
     "name": "stdout",
     "output_type": "stream",
     "text": [
      "True\n"
     ]
    }
   ],
   "source": [
    "print(l1 is not l2)"
   ]
  },
  {
   "cell_type": "code",
   "execution_count": 69,
   "id": "521b010d",
   "metadata": {},
   "outputs": [],
   "source": [
    "#bitwise operators"
   ]
  },
  {
   "cell_type": "code",
   "execution_count": 81,
   "id": "fe8a5e5a",
   "metadata": {},
   "outputs": [
    {
     "name": "stdout",
     "output_type": "stream",
     "text": [
      "0b1111100111\n"
     ]
    }
   ],
   "source": [
    "print(bin(999)) #decimal to bin"
   ]
  },
  {
   "cell_type": "code",
   "execution_count": 82,
   "id": "c658c89c",
   "metadata": {},
   "outputs": [
    {
     "name": "stdout",
     "output_type": "stream",
     "text": [
      "999\n"
     ]
    }
   ],
   "source": [
    "print(0b1111100111) #bin to decimal"
   ]
  },
  {
   "cell_type": "code",
   "execution_count": 83,
   "id": "84b5690f",
   "metadata": {},
   "outputs": [],
   "source": [
    "#BITWISE AND(&)"
   ]
  },
  {
   "cell_type": "code",
   "execution_count": 91,
   "id": "23e414db",
   "metadata": {},
   "outputs": [
    {
     "name": "stdout",
     "output_type": "stream",
     "text": [
      "4\n"
     ]
    }
   ],
   "source": [
    "print(12&7)"
   ]
  },
  {
   "cell_type": "code",
   "execution_count": 94,
   "id": "cade8421",
   "metadata": {},
   "outputs": [
    {
     "name": "stdout",
     "output_type": "stream",
     "text": [
      "13\n"
     ]
    }
   ],
   "source": [
    "print(12|9) #OR"
   ]
  },
  {
   "cell_type": "code",
   "execution_count": 95,
   "id": "e3dad068",
   "metadata": {},
   "outputs": [],
   "source": [
    "#Complement"
   ]
  },
  {
   "cell_type": "markdown",
   "id": "2d2e2f08",
   "metadata": {},
   "source": [
    "-(x+1)"
   ]
  },
  {
   "cell_type": "code",
   "execution_count": 98,
   "id": "fcbc3bab",
   "metadata": {},
   "outputs": [
    {
     "name": "stdout",
     "output_type": "stream",
     "text": [
      "6\n"
     ]
    }
   ],
   "source": [
    "print(~-7)"
   ]
  },
  {
   "cell_type": "code",
   "execution_count": 99,
   "id": "463996f1",
   "metadata": {},
   "outputs": [
    {
     "name": "stdout",
     "output_type": "stream",
     "text": [
      "-12\n"
     ]
    }
   ],
   "source": [
    "print(~11)"
   ]
  },
  {
   "cell_type": "code",
   "execution_count": 100,
   "id": "dd202f8f",
   "metadata": {},
   "outputs": [
    {
     "name": "stdout",
     "output_type": "stream",
     "text": [
      "-4\n"
     ]
    }
   ],
   "source": [
    "print(~~-4)"
   ]
  },
  {
   "cell_type": "code",
   "execution_count": 101,
   "id": "04784858",
   "metadata": {},
   "outputs": [],
   "source": [
    "#right shift"
   ]
  },
  {
   "cell_type": "code",
   "execution_count": 103,
   "id": "4045da9c",
   "metadata": {},
   "outputs": [
    {
     "name": "stdout",
     "output_type": "stream",
     "text": [
      "27\n"
     ]
    }
   ],
   "source": [
    "print(55>>1)"
   ]
  },
  {
   "cell_type": "code",
   "execution_count": 102,
   "id": "5a571784",
   "metadata": {},
   "outputs": [
    {
     "name": "stdout",
     "output_type": "stream",
     "text": [
      "4\n"
     ]
    }
   ],
   "source": [
    "print(33>>3)"
   ]
  },
  {
   "cell_type": "code",
   "execution_count": 108,
   "id": "a7f2d634",
   "metadata": {},
   "outputs": [
    {
     "data": {
      "text/plain": [
       "31"
      ]
     },
     "execution_count": 108,
     "metadata": {},
     "output_type": "execute_result"
    }
   ],
   "source": [
    "1000 >> 5"
   ]
  },
  {
   "cell_type": "code",
   "execution_count": 113,
   "id": "4cbb1b05",
   "metadata": {},
   "outputs": [
    {
     "data": {
      "text/plain": [
       "640"
      ]
     },
     "execution_count": 113,
     "metadata": {},
     "output_type": "execute_result"
    }
   ],
   "source": [
    "10 << 6"
   ]
  },
  {
   "cell_type": "code",
   "execution_count": 114,
   "id": "ced49e59",
   "metadata": {},
   "outputs": [
    {
     "data": {
      "text/plain": [
       "160"
      ]
     },
     "execution_count": 114,
     "metadata": {},
     "output_type": "execute_result"
    }
   ],
   "source": [
    "5 << 5"
   ]
  }
 ],
 "metadata": {
  "kernelspec": {
   "display_name": "Python 3 (ipykernel)",
   "language": "python",
   "name": "python3"
  },
  "language_info": {
   "codemirror_mode": {
    "name": "ipython",
    "version": 3
   },
   "file_extension": ".py",
   "mimetype": "text/x-python",
   "name": "python",
   "nbconvert_exporter": "python",
   "pygments_lexer": "ipython3",
   "version": "3.11.4"
  }
 },
 "nbformat": 4,
 "nbformat_minor": 5
}
