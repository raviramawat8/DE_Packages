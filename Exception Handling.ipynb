{
 "cells": [
  {
   "cell_type": "markdown",
   "id": "8dae4278",
   "metadata": {},
   "source": [
    "# Exception Handling "
   ]
  },
  {
   "cell_type": "code",
   "execution_count": 1,
   "id": "4bd8a5d6",
   "metadata": {},
   "outputs": [],
   "source": [
    "#ERROR"
   ]
  },
  {
   "cell_type": "code",
   "execution_count": 2,
   "id": "fc4abe7b",
   "metadata": {},
   "outputs": [
    {
     "ename": "ZeroDivisionError",
     "evalue": "division by zero",
     "output_type": "error",
     "traceback": [
      "\u001b[1;31m---------------------------------------------------------------------------\u001b[0m",
      "\u001b[1;31mZeroDivisionError\u001b[0m                         Traceback (most recent call last)",
      "Cell \u001b[1;32mIn[2], line 1\u001b[0m\n\u001b[1;32m----> 1\u001b[0m \u001b[38;5;241m4\u001b[39m\u001b[38;5;241m/\u001b[39m\u001b[38;5;241m0\u001b[39m\n",
      "\u001b[1;31mZeroDivisionError\u001b[0m: division by zero"
     ]
    }
   ],
   "source": [
    "4/0"
   ]
  },
  {
   "cell_type": "code",
   "execution_count": 3,
   "id": "0199dda7",
   "metadata": {},
   "outputs": [
    {
     "name": "stdout",
     "output_type": "stream",
     "text": [
      "Enter a number --> r\n"
     ]
    },
    {
     "ename": "ValueError",
     "evalue": "invalid literal for int() with base 10: 'r'",
     "output_type": "error",
     "traceback": [
      "\u001b[1;31m---------------------------------------------------------------------------\u001b[0m",
      "\u001b[1;31mValueError\u001b[0m                                Traceback (most recent call last)",
      "Cell \u001b[1;32mIn[3], line 1\u001b[0m\n\u001b[1;32m----> 1\u001b[0m s \u001b[38;5;241m=\u001b[39m \u001b[38;5;28mint\u001b[39m(\u001b[38;5;28minput\u001b[39m(\u001b[38;5;124m\"\u001b[39m\u001b[38;5;124mEnter a number --> \u001b[39m\u001b[38;5;124m\"\u001b[39m))\n",
      "\u001b[1;31mValueError\u001b[0m: invalid literal for int() with base 10: 'r'"
     ]
    }
   ],
   "source": [
    "s = int(input(\"Enter a number --> \"))"
   ]
  },
  {
   "cell_type": "code",
   "execution_count": 4,
   "id": "bf1760f3",
   "metadata": {},
   "outputs": [
    {
     "ename": "NameError",
     "evalue": "name 'Ravi' is not defined",
     "output_type": "error",
     "traceback": [
      "\u001b[1;31m---------------------------------------------------------------------------\u001b[0m",
      "\u001b[1;31mNameError\u001b[0m                                 Traceback (most recent call last)",
      "Cell \u001b[1;32mIn[4], line 1\u001b[0m\n\u001b[1;32m----> 1\u001b[0m \u001b[38;5;28mprint\u001b[39m(Ravi)\n",
      "\u001b[1;31mNameError\u001b[0m: name 'Ravi' is not defined"
     ]
    }
   ],
   "source": [
    "print(Ravi)"
   ]
  },
  {
   "cell_type": "code",
   "execution_count": 5,
   "id": "65fdc203",
   "metadata": {},
   "outputs": [
    {
     "ename": "FileNotFoundError",
     "evalue": "[Errno 2] No such file or directory: 'abc'",
     "output_type": "error",
     "traceback": [
      "\u001b[1;31m---------------------------------------------------------------------------\u001b[0m",
      "\u001b[1;31mFileNotFoundError\u001b[0m                         Traceback (most recent call last)",
      "Cell \u001b[1;32mIn[5], line 1\u001b[0m\n\u001b[1;32m----> 1\u001b[0m \u001b[38;5;28mopen\u001b[39m(\u001b[38;5;124m'\u001b[39m\u001b[38;5;124mabc\u001b[39m\u001b[38;5;124m'\u001b[39m)\n",
      "File \u001b[1;32m~\\anaconda3\\Lib\\site-packages\\IPython\\core\\interactiveshell.py:284\u001b[0m, in \u001b[0;36m_modified_open\u001b[1;34m(file, *args, **kwargs)\u001b[0m\n\u001b[0;32m    277\u001b[0m \u001b[38;5;28;01mif\u001b[39;00m file \u001b[38;5;129;01min\u001b[39;00m {\u001b[38;5;241m0\u001b[39m, \u001b[38;5;241m1\u001b[39m, \u001b[38;5;241m2\u001b[39m}:\n\u001b[0;32m    278\u001b[0m     \u001b[38;5;28;01mraise\u001b[39;00m \u001b[38;5;167;01mValueError\u001b[39;00m(\n\u001b[0;32m    279\u001b[0m         \u001b[38;5;124mf\u001b[39m\u001b[38;5;124m\"\u001b[39m\u001b[38;5;124mIPython won\u001b[39m\u001b[38;5;124m'\u001b[39m\u001b[38;5;124mt let you open fd=\u001b[39m\u001b[38;5;132;01m{\u001b[39;00mfile\u001b[38;5;132;01m}\u001b[39;00m\u001b[38;5;124m by default \u001b[39m\u001b[38;5;124m\"\u001b[39m\n\u001b[0;32m    280\u001b[0m         \u001b[38;5;124m\"\u001b[39m\u001b[38;5;124mas it is likely to crash IPython. If you know what you are doing, \u001b[39m\u001b[38;5;124m\"\u001b[39m\n\u001b[0;32m    281\u001b[0m         \u001b[38;5;124m\"\u001b[39m\u001b[38;5;124myou can use builtins\u001b[39m\u001b[38;5;124m'\u001b[39m\u001b[38;5;124m open.\u001b[39m\u001b[38;5;124m\"\u001b[39m\n\u001b[0;32m    282\u001b[0m     )\n\u001b[1;32m--> 284\u001b[0m \u001b[38;5;28;01mreturn\u001b[39;00m io_open(file, \u001b[38;5;241m*\u001b[39margs, \u001b[38;5;241m*\u001b[39m\u001b[38;5;241m*\u001b[39mkwargs)\n",
      "\u001b[1;31mFileNotFoundError\u001b[0m: [Errno 2] No such file or directory: 'abc'"
     ]
    }
   ],
   "source": [
    "open('abc')"
   ]
  },
  {
   "cell_type": "code",
   "execution_count": 6,
   "id": "988361a9",
   "metadata": {},
   "outputs": [
    {
     "ename": "IndexError",
     "evalue": "list index out of range",
     "output_type": "error",
     "traceback": [
      "\u001b[1;31m---------------------------------------------------------------------------\u001b[0m",
      "\u001b[1;31mIndexError\u001b[0m                                Traceback (most recent call last)",
      "Cell \u001b[1;32mIn[6], line 2\u001b[0m\n\u001b[0;32m      1\u001b[0m l \u001b[38;5;241m=\u001b[39m [\u001b[38;5;241m1\u001b[39m,\u001b[38;5;241m2\u001b[39m,\u001b[38;5;241m3\u001b[39m]\n\u001b[1;32m----> 2\u001b[0m \u001b[38;5;28mprint\u001b[39m(l[\u001b[38;5;241m11\u001b[39m])\n",
      "\u001b[1;31mIndexError\u001b[0m: list index out of range"
     ]
    }
   ],
   "source": [
    "l = [1,2,3]\n",
    "print(l[11])"
   ]
  },
  {
   "cell_type": "code",
   "execution_count": 7,
   "id": "0a9bc2be",
   "metadata": {},
   "outputs": [
    {
     "ename": "IndentationError",
     "evalue": "expected an indented block after 'while' statement on line 1 (2441004479.py, line 2)",
     "output_type": "error",
     "traceback": [
      "\u001b[1;36m  Cell \u001b[1;32mIn[7], line 2\u001b[1;36m\u001b[0m\n\u001b[1;33m    print(\"Hello World\")\u001b[0m\n\u001b[1;37m    ^\u001b[0m\n\u001b[1;31mIndentationError\u001b[0m\u001b[1;31m:\u001b[0m expected an indented block after 'while' statement on line 1\n"
     ]
    }
   ],
   "source": [
    "while True:\n",
    "print(\"Hello World\")"
   ]
  },
  {
   "cell_type": "code",
   "execution_count": 9,
   "id": "668ddeda",
   "metadata": {},
   "outputs": [
    {
     "ename": "SyntaxError",
     "evalue": "invalid syntax (1360933542.py, line 1)",
     "output_type": "error",
     "traceback": [
      "\u001b[1;36m  Cell \u001b[1;32mIn[9], line 1\u001b[1;36m\u001b[0m\n\u001b[1;33m    while for:\u001b[0m\n\u001b[1;37m          ^\u001b[0m\n\u001b[1;31mSyntaxError\u001b[0m\u001b[1;31m:\u001b[0m invalid syntax\n"
     ]
    }
   ],
   "source": [
    "while for:\n",
    "    print(hi)"
   ]
  },
  {
   "cell_type": "markdown",
   "id": "e3658018",
   "metadata": {},
   "source": [
    "- Error - That cannot be handled eg - Syntax Error\n",
    "- Exception - That can be handled by the Program, eg - Division by 0"
   ]
  },
  {
   "cell_type": "markdown",
   "id": "24b94054",
   "metadata": {},
   "source": [
    "Error --> Exception object --> Handling Exception if not --> Program will Crash"
   ]
  },
  {
   "cell_type": "markdown",
   "id": "0d3f4eec",
   "metadata": {},
   "source": [
    "### Keywords"
   ]
  },
  {
   "cell_type": "markdown",
   "id": "5090c786",
   "metadata": {},
   "source": [
    "- try\n",
    "- except\n",
    "- else\n",
    "- finally\n",
    "- raise\n",
    "- assert"
   ]
  },
  {
   "cell_type": "code",
   "execution_count": 26,
   "id": "091c3f47",
   "metadata": {},
   "outputs": [
    {
     "name": "stdout",
     "output_type": "stream",
     "text": [
      "Enter a number --> a\n",
      "ERROR!! -->  invalid literal for int() with base 10: 'a'\n"
     ]
    }
   ],
   "source": [
    "try :\n",
    "    a,b = int(input(\"Enter a number --> \")),int(input(\"Enter a number -->\"))\n",
    "    print(f\"{a} / {b} = {a/b}\")\n",
    "except ZeroDivisionError as e:\n",
    "    print(\"ERROR!!, Can't Divide a number by 0\\n\",e)\n",
    "except ValueError as e:\n",
    "    print(\"ERROR!! --> \",e)"
   ]
  },
  {
   "cell_type": "code",
   "execution_count": 29,
   "id": "68bc62af",
   "metadata": {},
   "outputs": [
    {
     "name": "stdout",
     "output_type": "stream",
     "text": [
      "Enter a number --> 4\n",
      "Enter a number -->5\n",
      "4 / 5 = 0.8\n",
      "Enter a file name to open --> hello\n",
      "ERROR!! --> [Errno 2] No such file or directory: 'hello'\n"
     ]
    }
   ],
   "source": [
    "try :\n",
    "    a,b = int(input(\"Enter a number --> \")),int(input(\"Enter a number -->\"))\n",
    "    print(f\"{a} / {b} = {a/b}\")\n",
    "    f = open(input(\"Enter a file name to open --> \"),'r')\n",
    "except ZeroDivisionError as e:\n",
    "    print(\"ERROR!!, Can't Divide a number by 0\\n\",e)\n",
    "except ValueError as e:\n",
    "    print(\"ERROR!! --> \",e)\n",
    "except FileNotFoundError as e:\n",
    "    print(\"ERROR!! -->\",e)\n",
    "else:\n",
    "    print(\"Everything is Good!!\")"
   ]
  },
  {
   "cell_type": "code",
   "execution_count": 30,
   "id": "2a553a54",
   "metadata": {},
   "outputs": [
    {
     "name": "stdout",
     "output_type": "stream",
     "text": [
      "Enter a number --> 4\n",
      "Enter a number -->5\n",
      "4 / 5 = 0.8\n",
      "Enter a file name to open --> ravi\n",
      "ERROR!! --> [Errno 2] No such file or directory: 'ravi'\n",
      "All iz Well\n"
     ]
    }
   ],
   "source": [
    "try :\n",
    "    a,b = int(input(\"Enter a number --> \")),int(input(\"Enter a number -->\"))\n",
    "    print(f\"{a} / {b} = {a/b}\")\n",
    "    f = open(input(\"Enter a file name to open --> \"),'r')\n",
    "except ZeroDivisionError as e:\n",
    "    print(\"ERROR!!, Can't Divide a number by 0\\n\",e)\n",
    "except ValueError as e:\n",
    "    print(\"ERROR!! --> \",e)\n",
    "except FileNotFoundError as e:\n",
    "    print(\"ERROR!! -->\",e)\n",
    "else:\n",
    "    print(\"Everything is Good!!\")\n",
    "finally:\n",
    "    print(\"All iz Well\")"
   ]
  },
  {
   "cell_type": "code",
   "execution_count": 33,
   "id": "46c54dc9",
   "metadata": {},
   "outputs": [
    {
     "name": "stdout",
     "output_type": "stream",
     "text": [
      "Enter a number --> 4\n",
      "Enter a number -->5\n",
      "4 / 5 = 0.8\n",
      "Enter a file name to open --> asfas\n",
      "ERROR!! [Errno 2] No such file or directory: 'asfas'\n",
      "All iz Well\n"
     ]
    }
   ],
   "source": [
    "try :\n",
    "    a,b = int(input(\"Enter a number --> \")),int(input(\"Enter a number -->\"))\n",
    "    print(f\"{a} / {b} = {a/b}\")\n",
    "    f = open(input(\"Enter a file name to open --> \"),'r')\n",
    "except Exception as e:\n",
    "    print(\"ERROR!!\",e)\n",
    "else:\n",
    "    print(\"Everything is Good!!\")\n",
    "finally:\n",
    "    print(\"All iz Well\")"
   ]
  },
  {
   "cell_type": "code",
   "execution_count": 45,
   "id": "f8f7a7b6",
   "metadata": {},
   "outputs": [
    {
     "name": "stdout",
     "output_type": "stream",
     "text": [
      "Enter a number --> -44\n"
     ]
    },
    {
     "ename": "ValueError",
     "evalue": "I asked for positive number!!!",
     "output_type": "error",
     "traceback": [
      "\u001b[1;31m---------------------------------------------------------------------------\u001b[0m",
      "\u001b[1;31mValueError\u001b[0m                                Traceback (most recent call last)",
      "Cell \u001b[1;32mIn[45], line 3\u001b[0m\n\u001b[0;32m      1\u001b[0m a \u001b[38;5;241m=\u001b[39m \u001b[38;5;28mint\u001b[39m(\u001b[38;5;28minput\u001b[39m(\u001b[38;5;124m\"\u001b[39m\u001b[38;5;124mEnter a number --> \u001b[39m\u001b[38;5;124m\"\u001b[39m))\n\u001b[0;32m      2\u001b[0m \u001b[38;5;28;01mif\u001b[39;00m a\u001b[38;5;241m<\u001b[39m\u001b[38;5;241m0\u001b[39m:\n\u001b[1;32m----> 3\u001b[0m     \u001b[38;5;28;01mraise\u001b[39;00m \u001b[38;5;167;01mValueError\u001b[39;00m(\u001b[38;5;124m\"\u001b[39m\u001b[38;5;124mI asked for positive number!!!\u001b[39m\u001b[38;5;124m\"\u001b[39m)\n",
      "\u001b[1;31mValueError\u001b[0m: I asked for positive number!!!"
     ]
    }
   ],
   "source": [
    "a = int(input(\"Enter a number --> \"))\n",
    "if a<0:\n",
    "    raise ValueError(\"I asked for positive number!!!\")    "
   ]
  },
  {
   "cell_type": "code",
   "execution_count": 53,
   "id": "567164d2",
   "metadata": {},
   "outputs": [
    {
     "name": "stdout",
     "output_type": "stream",
     "text": [
      "Enter a number --> -77\n",
      "Error!!! -->  I asked for positive number!!!\n"
     ]
    }
   ],
   "source": [
    "try:\n",
    "    a = int(input(\"Enter a number --> \"))\n",
    "    assert a>0, \"I asked for positive number!!!\"\n",
    "except AssertionError as e:\n",
    "    print(\"Error!!! --> \",e)"
   ]
  },
  {
   "cell_type": "code",
   "execution_count": null,
   "id": "c0d044b2",
   "metadata": {},
   "outputs": [],
   "source": []
  }
 ],
 "metadata": {
  "kernelspec": {
   "display_name": "Python 3 (ipykernel)",
   "language": "python",
   "name": "python3"
  },
  "language_info": {
   "codemirror_mode": {
    "name": "ipython",
    "version": 3
   },
   "file_extension": ".py",
   "mimetype": "text/x-python",
   "name": "python",
   "nbconvert_exporter": "python",
   "pygments_lexer": "ipython3",
   "version": "3.11.4"
  }
 },
 "nbformat": 4,
 "nbformat_minor": 5
}
