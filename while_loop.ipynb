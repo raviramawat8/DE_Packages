{
 "cells": [
  {
   "cell_type": "code",
   "execution_count": 2,
   "id": "be230dfc",
   "metadata": {},
   "outputs": [],
   "source": [
    "#PERFECT NUMBER"
   ]
  },
  {
   "cell_type": "code",
   "execution_count": 3,
   "id": "6206fe3b",
   "metadata": {},
   "outputs": [],
   "source": [
    "# 6  --> 3,2,1 --> 3+2+1 --> 6 (perfect)\n",
    "# 9 --> 3,1 --> 3+1 --> 4 (not perfect)\n",
    "# 28 --> 14,7,4,2,1 --> 28 (perfect)"
   ]
  },
  {
   "cell_type": "code",
   "execution_count": 7,
   "id": "fbd6b0bb",
   "metadata": {},
   "outputs": [
    {
     "name": "stdout",
     "output_type": "stream",
     "text": [
      "Enter a number --> 9\n",
      "9 is Common!!\n"
     ]
    }
   ],
   "source": [
    "num = int(input(\"Enter a number --> \"))\n",
    "c,s = 1,0\n",
    "while c<num:\n",
    "    if num%c==0:\n",
    "        s+=c\n",
    "    c+=1\n",
    "if s==num:\n",
    "    print(f\"{num} is Perfect!!\")\n",
    "else:\n",
    "    print(f\"{num} is Common!!\")"
   ]
  },
  {
   "cell_type": "code",
   "execution_count": 8,
   "id": "3386ddc9",
   "metadata": {},
   "outputs": [],
   "source": [
    "#PRIME NUMBER"
   ]
  },
  {
   "cell_type": "code",
   "execution_count": 13,
   "id": "76a72204",
   "metadata": {},
   "outputs": [
    {
     "name": "stdout",
     "output_type": "stream",
     "text": [
      "Enter a number --> 15\n",
      "15 is Non-Prime\n"
     ]
    }
   ],
   "source": [
    "num = int(input(\"Enter a number --> \"))\n",
    "c,count = 2,0\n",
    "while c<num:\n",
    "    if num%c==0:\n",
    "        count+=1\n",
    "    c+=1\n",
    "if count==0:\n",
    "    print(f\"{num} is Prime\")\n",
    "else:\n",
    "    print(f\"{num} is Non-Prime\")"
   ]
  },
  {
   "cell_type": "code",
   "execution_count": 23,
   "id": "fe146b40",
   "metadata": {},
   "outputs": [
    {
     "name": "stdout",
     "output_type": "stream",
     "text": [
      "Enter a number --> 9\n",
      "Non-Prime\n"
     ]
    }
   ],
   "source": [
    "num = int(input(\"Enter a number --> \"))\n",
    "c = 2\n",
    "while c<num:\n",
    "    if num%c==0:\n",
    "        flag=0\n",
    "        break\n",
    "    else:\n",
    "        flag=1\n",
    "    c+=1\n",
    "if flag==1:\n",
    "    print(\"Prime\")\n",
    "else:\n",
    "    print(\"Non-Prime\")"
   ]
  },
  {
   "cell_type": "code",
   "execution_count": 28,
   "id": "6f4233b0",
   "metadata": {},
   "outputs": [
    {
     "name": "stdout",
     "output_type": "stream",
     "text": [
      "Enter a number --> 61\n",
      "61 is Prime\n"
     ]
    }
   ],
   "source": [
    "num = int(input(\"Enter a number --> \"))\n",
    "c = 2\n",
    "while c<num:\n",
    "    if num%c==0:\n",
    "        print(f\"{num} is Non-prime!!\")\n",
    "        break\n",
    "    c+=1\n",
    "else:\n",
    "    print(f\"{num} is Prime!!\")"
   ]
  },
  {
   "cell_type": "code",
   "execution_count": 29,
   "id": "ce34bed3",
   "metadata": {},
   "outputs": [],
   "source": [
    "from math import sqrt"
   ]
  },
  {
   "cell_type": "code",
   "execution_count": 35,
   "id": "5b1e8651",
   "metadata": {},
   "outputs": [
    {
     "name": "stdout",
     "output_type": "stream",
     "text": [
      "Enter a number --> 161\n",
      "161 is Non-prime!!\n"
     ]
    }
   ],
   "source": [
    "num = int(input(\"Enter a number --> \"))\n",
    "c = 2\n",
    "check = round(sqrt(num))\n",
    "while c<=check:\n",
    "    if num%c==0:\n",
    "        print(f\"{num} is Non-prime!!\")\n",
    "        break\n",
    "    c+=1\n",
    "else:\n",
    "    print(f\"{num} is Prime!!\")"
   ]
  },
  {
   "cell_type": "code",
   "execution_count": 43,
   "id": "a8eed5d0",
   "metadata": {},
   "outputs": [],
   "source": [
    "l,l1 = [],[]\n",
    "s = \"hellO hi bye Bye I am good are you good?\".lower().replace(\" \",\"\")\n",
    "c=0\n",
    "while c<len(s):\n",
    "    if s[c] not in l:\n",
    "        l.append(s[c])\n",
    "        l1.append(s.count(s[c]))\n",
    "    c+=1"
   ]
  },
  {
   "cell_type": "code",
   "execution_count": 46,
   "id": "03d3861d",
   "metadata": {},
   "outputs": [],
   "source": [
    "d = dict(zip(l,l1))"
   ]
  },
  {
   "cell_type": "code",
   "execution_count": 47,
   "id": "03194b61",
   "metadata": {},
   "outputs": [
    {
     "name": "stdout",
     "output_type": "stream",
     "text": [
      "{'h': 2, 'e': 4, 'l': 2, 'o': 6, 'i': 2, 'b': 2, 'y': 3, 'a': 2, 'm': 1, 'g': 2, 'd': 2, 'r': 1, 'u': 1, '?': 1}\n"
     ]
    }
   ],
   "source": [
    "print(d)"
   ]
  },
  {
   "cell_type": "code",
   "execution_count": 17,
   "id": "4ab819dd",
   "metadata": {},
   "outputs": [
    {
     "name": "stdout",
     "output_type": "stream",
     "text": [
      "['Hey', 'Ravi', 'Hi', 'cry', 'dry', 'fry', 'hello', 'hi', 'try']\n"
     ]
    }
   ],
   "source": [
    "s = \"Hey Ravi Hi cry dry fry hello hi try\".split()\n",
    "print(s)"
   ]
  },
  {
   "cell_type": "code",
   "execution_count": 20,
   "id": "79d0d42c",
   "metadata": {},
   "outputs": [
    {
     "name": "stdout",
     "output_type": "stream",
     "text": [
      "Hey\n",
      "Ravi\n",
      "Hi\n",
      "hello\n",
      "hi\n"
     ]
    }
   ],
   "source": [
    "c=0\n",
    "while c<len(s):\n",
    "    d=0\n",
    "    while d<len(s[c]):\n",
    "        if s[c][d].lower() in \"aeiou\":\n",
    "            print(s[c])\n",
    "            break\n",
    "        d+=1\n",
    "    c+=1"
   ]
  },
  {
   "cell_type": "code",
   "execution_count": 23,
   "id": "5262b32a",
   "metadata": {},
   "outputs": [
    {
     "name": "stdout",
     "output_type": "stream",
     "text": [
      "Enter a string -->hello hey\n",
      "o\n"
     ]
    }
   ],
   "source": [
    "s = input(\"Enter a string -->\")\n",
    "c=0\n",
    "while c<len(s):\n",
    "    if s.count(s[c])==1:\n",
    "        print(s[c])\n",
    "        break\n",
    "    c+=1"
   ]
  },
  {
   "cell_type": "code",
   "execution_count": 31,
   "id": "80f570cc",
   "metadata": {},
   "outputs": [
    {
     "name": "stdout",
     "output_type": "stream",
     "text": [
      "Ravi is Awesome "
     ]
    }
   ],
   "source": [
    "l = [\"Ra\",\"i\",\"Awe\"]\n",
    "l1 = [\"vi\",\"s\",\"some\"]\n",
    "c=0\n",
    "while c<len(l):\n",
    "    print(l[c]+l1[c],end=\" \")\n",
    "    c+=1"
   ]
  },
  {
   "cell_type": "code",
   "execution_count": 35,
   "id": "8b6edea4",
   "metadata": {},
   "outputs": [
    {
     "name": "stdout",
     "output_type": "stream",
     "text": [
      "2\n"
     ]
    }
   ],
   "source": [
    "s = \"ABCDCDC\"\n",
    "s1=\"CDC\"\n",
    "count=0\n",
    "c=0\n",
    "while c<len(s)-len(s1)+1:\n",
    "    if s[c:c+len(s1)] == s1:\n",
    "        count+=1\n",
    "    c+=1\n",
    "print(count)"
   ]
  },
  {
   "cell_type": "markdown",
   "id": "d86011e7",
   "metadata": {},
   "source": [
    "    *\n",
    "    * *\n",
    "    * * *\n",
    "    * * * *\n",
    "    * * * * *"
   ]
  },
  {
   "cell_type": "code",
   "execution_count": 39,
   "id": "7d061ec9",
   "metadata": {},
   "outputs": [
    {
     "name": "stdout",
     "output_type": "stream",
     "text": [
      "Enter the number of lines -->10\n",
      "* \n",
      "* * \n",
      "* * * \n",
      "* * * * \n",
      "* * * * * \n",
      "* * * * * * \n",
      "* * * * * * * \n",
      "* * * * * * * * \n",
      "* * * * * * * * * \n",
      "* * * * * * * * * * \n"
     ]
    }
   ],
   "source": [
    "n = int(input(\"Enter the number of lines -->\"))\n",
    "i=0\n",
    "while i<n:\n",
    "    j=0\n",
    "    while j<=i:\n",
    "        print(\"*\",end=\"\")\n",
    "        j+=1\n",
    "    print()\n",
    "    i+=1"
   ]
  },
  {
   "cell_type": "code",
   "execution_count": 54,
   "id": "8259cafa",
   "metadata": {},
   "outputs": [
    {
     "name": "stdout",
     "output_type": "stream",
     "text": [
      "         *\n",
      "        **\n",
      "       ***\n",
      "      ****\n",
      "     *****\n",
      "    ******\n",
      "   *******\n",
      "  ********\n",
      " *********\n",
      "**********\n"
     ]
    }
   ],
   "source": [
    "s=\"*\"\n",
    "for var in range(1,11):\n",
    "    print(f\"{var*s:>10}\")"
   ]
  },
  {
   "cell_type": "code",
   "execution_count": null,
   "id": "c131a66b",
   "metadata": {},
   "outputs": [],
   "source": []
  }
 ],
 "metadata": {
  "kernelspec": {
   "display_name": "Python 3 (ipykernel)",
   "language": "python",
   "name": "python3"
  },
  "language_info": {
   "codemirror_mode": {
    "name": "ipython",
    "version": 3
   },
   "file_extension": ".py",
   "mimetype": "text/x-python",
   "name": "python",
   "nbconvert_exporter": "python",
   "pygments_lexer": "ipython3",
   "version": "3.11.4"
  }
 },
 "nbformat": 4,
 "nbformat_minor": 5
}
