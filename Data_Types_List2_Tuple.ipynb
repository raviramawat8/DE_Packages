{
 "cells": [
  {
   "cell_type": "code",
   "execution_count": 2,
   "id": "48aada69",
   "metadata": {},
   "outputs": [],
   "source": [
    "from random import randint"
   ]
  },
  {
   "cell_type": "code",
   "execution_count": 9,
   "id": "2848ca6b",
   "metadata": {},
   "outputs": [],
   "source": [
    "l = [randint(1,100) for var in range(100)]"
   ]
  },
  {
   "cell_type": "code",
   "execution_count": 10,
   "id": "687ea926",
   "metadata": {},
   "outputs": [
    {
     "name": "stdout",
     "output_type": "stream",
     "text": [
      "[23, 77, 85, 3, 48, 96, 71, 57, 61, 58, 25, 2, 96, 23, 84, 25, 44, 70, 68, 27, 7, 88, 44, 26, 67, 49, 23, 16, 48, 13, 81, 90, 64, 35, 87, 65, 81, 84, 83, 1, 40, 7, 43, 44, 82, 77, 73, 24, 6, 59, 63, 39, 81, 33, 5, 64, 60, 61, 29, 89, 74, 69, 41, 36, 9, 35, 61, 58, 21, 93, 76, 60, 40, 90, 7, 93, 63, 72, 2, 64, 84, 88, 3, 57, 2, 2, 4, 8, 18, 29, 39, 73, 65, 73, 77, 27, 44, 46, 80, 53]\n"
     ]
    }
   ],
   "source": [
    "print(l)"
   ]
  },
  {
   "cell_type": "code",
   "execution_count": 12,
   "id": "1e6f2033",
   "metadata": {},
   "outputs": [
    {
     "data": {
      "text/plain": [
       "4"
      ]
     },
     "execution_count": 12,
     "metadata": {},
     "output_type": "execute_result"
    }
   ],
   "source": [
    "l.count(2)"
   ]
  },
  {
   "cell_type": "code",
   "execution_count": 15,
   "id": "e8e3ca57",
   "metadata": {},
   "outputs": [
    {
     "data": {
      "text/plain": [
       "4"
      ]
     },
     "execution_count": 15,
     "metadata": {},
     "output_type": "execute_result"
    }
   ],
   "source": [
    "l.index(48)"
   ]
  },
  {
   "cell_type": "code",
   "execution_count": 16,
   "id": "7c0800b9",
   "metadata": {},
   "outputs": [],
   "source": [
    "l.insert(3,999)"
   ]
  },
  {
   "cell_type": "code",
   "execution_count": 17,
   "id": "c4c3acce",
   "metadata": {},
   "outputs": [
    {
     "name": "stdout",
     "output_type": "stream",
     "text": [
      "[23, 77, 85, 999, 3, 48, 96, 71, 57, 61, 58, 25, 2, 96, 23, 84, 25, 44, 70, 68, 27, 7, 88, 44, 26, 67, 49, 23, 16, 48, 13, 81, 90, 64, 35, 87, 65, 81, 84, 83, 1, 40, 7, 43, 44, 82, 77, 73, 24, 6, 59, 63, 39, 81, 33, 5, 64, 60, 61, 29, 89, 74, 69, 41, 36, 9, 35, 61, 58, 21, 93, 76, 60, 40, 90, 7, 93, 63, 72, 2, 64, 84, 88, 3, 57, 2, 2, 4, 8, 18, 29, 39, 73, 65, 73, 77, 27, 44, 46, 80, 53]\n"
     ]
    }
   ],
   "source": [
    "print(l)"
   ]
  },
  {
   "cell_type": "code",
   "execution_count": 18,
   "id": "7b478c11",
   "metadata": {},
   "outputs": [
    {
     "name": "stdout",
     "output_type": "stream",
     "text": [
      "101\n"
     ]
    }
   ],
   "source": [
    "print(len(l))"
   ]
  },
  {
   "cell_type": "code",
   "execution_count": 19,
   "id": "63e21d4b",
   "metadata": {},
   "outputs": [],
   "source": [
    "l.insert(-1,2222)"
   ]
  },
  {
   "cell_type": "code",
   "execution_count": 20,
   "id": "9c44f4e1",
   "metadata": {},
   "outputs": [
    {
     "name": "stdout",
     "output_type": "stream",
     "text": [
      "[23, 77, 85, 999, 3, 48, 96, 71, 57, 61, 58, 25, 2, 96, 23, 84, 25, 44, 70, 68, 27, 7, 88, 44, 26, 67, 49, 23, 16, 48, 13, 81, 90, 64, 35, 87, 65, 81, 84, 83, 1, 40, 7, 43, 44, 82, 77, 73, 24, 6, 59, 63, 39, 81, 33, 5, 64, 60, 61, 29, 89, 74, 69, 41, 36, 9, 35, 61, 58, 21, 93, 76, 60, 40, 90, 7, 93, 63, 72, 2, 64, 84, 88, 3, 57, 2, 2, 4, 8, 18, 29, 39, 73, 65, 73, 77, 27, 44, 46, 80, 2222, 53]\n"
     ]
    }
   ],
   "source": [
    "print(l)"
   ]
  },
  {
   "cell_type": "code",
   "execution_count": 21,
   "id": "af6385c7",
   "metadata": {},
   "outputs": [
    {
     "name": "stdout",
     "output_type": "stream",
     "text": [
      "102\n"
     ]
    }
   ],
   "source": [
    "print(len(l))"
   ]
  },
  {
   "cell_type": "code",
   "execution_count": 22,
   "id": "a08e5092",
   "metadata": {},
   "outputs": [],
   "source": [
    "l.insert(102,1111)"
   ]
  },
  {
   "cell_type": "code",
   "execution_count": 23,
   "id": "1c20becb",
   "metadata": {},
   "outputs": [
    {
     "name": "stdout",
     "output_type": "stream",
     "text": [
      "[23, 77, 85, 999, 3, 48, 96, 71, 57, 61, 58, 25, 2, 96, 23, 84, 25, 44, 70, 68, 27, 7, 88, 44, 26, 67, 49, 23, 16, 48, 13, 81, 90, 64, 35, 87, 65, 81, 84, 83, 1, 40, 7, 43, 44, 82, 77, 73, 24, 6, 59, 63, 39, 81, 33, 5, 64, 60, 61, 29, 89, 74, 69, 41, 36, 9, 35, 61, 58, 21, 93, 76, 60, 40, 90, 7, 93, 63, 72, 2, 64, 84, 88, 3, 57, 2, 2, 4, 8, 18, 29, 39, 73, 65, 73, 77, 27, 44, 46, 80, 2222, 53, 1111]\n"
     ]
    }
   ],
   "source": [
    "print(l)"
   ]
  },
  {
   "cell_type": "code",
   "execution_count": 24,
   "id": "6617743c",
   "metadata": {},
   "outputs": [
    {
     "data": {
      "text/plain": [
       "1111"
      ]
     },
     "execution_count": 24,
     "metadata": {},
     "output_type": "execute_result"
    }
   ],
   "source": [
    "l.pop()"
   ]
  },
  {
   "cell_type": "code",
   "execution_count": 25,
   "id": "9181586d",
   "metadata": {},
   "outputs": [
    {
     "data": {
      "text/plain": [
       "77"
      ]
     },
     "execution_count": 25,
     "metadata": {},
     "output_type": "execute_result"
    }
   ],
   "source": [
    "l.pop(1)"
   ]
  },
  {
   "cell_type": "code",
   "execution_count": 26,
   "id": "9aba15b2",
   "metadata": {},
   "outputs": [
    {
     "name": "stdout",
     "output_type": "stream",
     "text": [
      "[23, 85, 999, 3, 48, 96, 71, 57, 61, 58, 25, 2, 96, 23, 84, 25, 44, 70, 68, 27, 7, 88, 44, 26, 67, 49, 23, 16, 48, 13, 81, 90, 64, 35, 87, 65, 81, 84, 83, 1, 40, 7, 43, 44, 82, 77, 73, 24, 6, 59, 63, 39, 81, 33, 5, 64, 60, 61, 29, 89, 74, 69, 41, 36, 9, 35, 61, 58, 21, 93, 76, 60, 40, 90, 7, 93, 63, 72, 2, 64, 84, 88, 3, 57, 2, 2, 4, 8, 18, 29, 39, 73, 65, 73, 77, 27, 44, 46, 80, 2222, 53]\n"
     ]
    }
   ],
   "source": [
    "print(l)"
   ]
  },
  {
   "cell_type": "code",
   "execution_count": 28,
   "id": "c9f354b4",
   "metadata": {},
   "outputs": [],
   "source": [
    "l.remove(999)"
   ]
  },
  {
   "cell_type": "code",
   "execution_count": 29,
   "id": "ead4ec06",
   "metadata": {},
   "outputs": [
    {
     "name": "stdout",
     "output_type": "stream",
     "text": [
      "[23, 85, 3, 48, 96, 71, 57, 61, 58, 25, 2, 96, 23, 84, 25, 44, 70, 68, 27, 7, 88, 44, 26, 67, 49, 23, 16, 48, 13, 81, 90, 64, 35, 87, 65, 81, 84, 83, 1, 40, 7, 43, 44, 82, 77, 73, 24, 6, 59, 63, 39, 81, 33, 5, 64, 60, 61, 29, 89, 74, 69, 41, 36, 9, 35, 61, 58, 21, 93, 76, 60, 40, 90, 7, 93, 63, 72, 2, 64, 84, 88, 3, 57, 2, 2, 4, 8, 18, 29, 39, 73, 65, 73, 77, 27, 44, 46, 80, 2222, 53]\n"
     ]
    }
   ],
   "source": [
    "print(l)"
   ]
  },
  {
   "cell_type": "code",
   "execution_count": 30,
   "id": "12a93ad3",
   "metadata": {},
   "outputs": [],
   "source": [
    "l.reverse()"
   ]
  },
  {
   "cell_type": "code",
   "execution_count": 31,
   "id": "f18f5b8e",
   "metadata": {},
   "outputs": [
    {
     "name": "stdout",
     "output_type": "stream",
     "text": [
      "[53, 2222, 80, 46, 44, 27, 77, 73, 65, 73, 39, 29, 18, 8, 4, 2, 2, 57, 3, 88, 84, 64, 2, 72, 63, 93, 7, 90, 40, 60, 76, 93, 21, 58, 61, 35, 9, 36, 41, 69, 74, 89, 29, 61, 60, 64, 5, 33, 81, 39, 63, 59, 6, 24, 73, 77, 82, 44, 43, 7, 40, 1, 83, 84, 81, 65, 87, 35, 64, 90, 81, 13, 48, 16, 23, 49, 67, 26, 44, 88, 7, 27, 68, 70, 44, 25, 84, 23, 96, 2, 25, 58, 61, 57, 71, 96, 48, 3, 85, 23]\n"
     ]
    }
   ],
   "source": [
    "print(l)"
   ]
  },
  {
   "cell_type": "code",
   "execution_count": 32,
   "id": "490d7eca",
   "metadata": {},
   "outputs": [],
   "source": [
    "l.sort() #ascending"
   ]
  },
  {
   "cell_type": "code",
   "execution_count": 33,
   "id": "c9319fc9",
   "metadata": {},
   "outputs": [
    {
     "name": "stdout",
     "output_type": "stream",
     "text": [
      "[1, 2, 2, 2, 2, 3, 3, 4, 5, 6, 7, 7, 7, 8, 9, 13, 16, 18, 21, 23, 23, 23, 24, 25, 25, 26, 27, 27, 29, 29, 33, 35, 35, 36, 39, 39, 40, 40, 41, 43, 44, 44, 44, 44, 46, 48, 48, 49, 53, 57, 57, 58, 58, 59, 60, 60, 61, 61, 61, 63, 63, 64, 64, 64, 65, 65, 67, 68, 69, 70, 71, 72, 73, 73, 73, 74, 76, 77, 77, 80, 81, 81, 81, 82, 83, 84, 84, 84, 85, 87, 88, 88, 89, 90, 90, 93, 93, 96, 96, 2222]\n"
     ]
    }
   ],
   "source": [
    "print(l)"
   ]
  },
  {
   "cell_type": "code",
   "execution_count": 36,
   "id": "c4793095",
   "metadata": {},
   "outputs": [],
   "source": [
    "l.sort(reverse=True) #descending"
   ]
  },
  {
   "cell_type": "code",
   "execution_count": 35,
   "id": "191b47b4",
   "metadata": {},
   "outputs": [
    {
     "name": "stdout",
     "output_type": "stream",
     "text": [
      "[2222, 96, 96, 93, 93, 90, 90, 89, 88, 88, 87, 85, 84, 84, 84, 83, 82, 81, 81, 81, 80, 77, 77, 76, 74, 73, 73, 73, 72, 71, 70, 69, 68, 67, 65, 65, 64, 64, 64, 63, 63, 61, 61, 61, 60, 60, 59, 58, 58, 57, 57, 53, 49, 48, 48, 46, 44, 44, 44, 44, 43, 41, 40, 40, 39, 39, 36, 35, 35, 33, 29, 29, 27, 27, 26, 25, 25, 24, 23, 23, 23, 21, 18, 16, 13, 9, 8, 7, 7, 7, 6, 5, 4, 3, 3, 2, 2, 2, 2, 1]\n"
     ]
    }
   ],
   "source": [
    "print(l)"
   ]
  },
  {
   "cell_type": "code",
   "execution_count": 37,
   "id": "8c58b316",
   "metadata": {},
   "outputs": [],
   "source": [
    "l1 = [\"Raj\",\"Rahul\",\"anjali\",\"simran\",\"Veer\",\"zara\"]"
   ]
  },
  {
   "cell_type": "code",
   "execution_count": 38,
   "id": "58aeadcc",
   "metadata": {},
   "outputs": [],
   "source": [
    "l1.sort()"
   ]
  },
  {
   "cell_type": "code",
   "execution_count": 39,
   "id": "4d0afebe",
   "metadata": {},
   "outputs": [
    {
     "name": "stdout",
     "output_type": "stream",
     "text": [
      "['Rahul', 'Raj', 'Veer', 'anjali', 'simran', 'zara']\n"
     ]
    }
   ],
   "source": [
    "print(l1)"
   ]
  },
  {
   "cell_type": "code",
   "execution_count": 40,
   "id": "9f3db146",
   "metadata": {},
   "outputs": [],
   "source": [
    "l1.sort(key=len)"
   ]
  },
  {
   "cell_type": "code",
   "execution_count": 41,
   "id": "fc1730bc",
   "metadata": {},
   "outputs": [
    {
     "name": "stdout",
     "output_type": "stream",
     "text": [
      "['Raj', 'Veer', 'zara', 'Rahul', 'anjali', 'simran']\n"
     ]
    }
   ],
   "source": [
    "print(l1)"
   ]
  },
  {
   "cell_type": "markdown",
   "id": "95452685",
   "metadata": {},
   "source": [
    "# Tuple"
   ]
  },
  {
   "cell_type": "code",
   "execution_count": 42,
   "id": "5866a1ee",
   "metadata": {},
   "outputs": [],
   "source": [
    "#DBMS"
   ]
  },
  {
   "cell_type": "code",
   "execution_count": 43,
   "id": "909be34d",
   "metadata": {},
   "outputs": [],
   "source": [
    "#rows --> tuples"
   ]
  },
  {
   "cell_type": "code",
   "execution_count": 44,
   "id": "30bc391e",
   "metadata": {},
   "outputs": [
    {
     "name": "stdout",
     "output_type": "stream",
     "text": [
      "<class 'tuple'>\n"
     ]
    }
   ],
   "source": [
    "t = ()\n",
    "print(type(t))"
   ]
  },
  {
   "cell_type": "code",
   "execution_count": 46,
   "id": "cca13c7c",
   "metadata": {},
   "outputs": [
    {
     "name": "stdout",
     "output_type": "stream",
     "text": [
      "(4,) <class 'tuple'>\n"
     ]
    }
   ],
   "source": [
    "t = (4,)\n",
    "print(t,type(t))"
   ]
  },
  {
   "cell_type": "code",
   "execution_count": 47,
   "id": "dc0df6c4",
   "metadata": {},
   "outputs": [
    {
     "name": "stdout",
     "output_type": "stream",
     "text": [
      "(234, 23, 5, 24, 523) <class 'tuple'>\n"
     ]
    }
   ],
   "source": [
    "a = 234,23,5,24,523\n",
    "print(a,type(a))"
   ]
  },
  {
   "cell_type": "code",
   "execution_count": 48,
   "id": "54512b19",
   "metadata": {},
   "outputs": [
    {
     "name": "stdout",
     "output_type": "stream",
     "text": [
      "('Ravi', 'Ramawat') <class 'tuple'>\n"
     ]
    }
   ],
   "source": [
    "b = \"Ravi\",\"Ramawat\"\n",
    "print(b,type(b))"
   ]
  },
  {
   "cell_type": "code",
   "execution_count": 50,
   "id": "0cc107f5",
   "metadata": {},
   "outputs": [],
   "source": [
    "#Sequential --> indexing\n",
    "#Ordered\n",
    "#Immutable"
   ]
  },
  {
   "cell_type": "code",
   "execution_count": 52,
   "id": "030fc596",
   "metadata": {},
   "outputs": [
    {
     "name": "stdout",
     "output_type": "stream",
     "text": [
      "['__add__', '__class__', '__class_getitem__', '__contains__', '__delattr__', '__dir__', '__doc__', '__eq__', '__format__', '__ge__', '__getattribute__', '__getitem__', '__getnewargs__', '__getstate__', '__gt__', '__hash__', '__init__', '__init_subclass__', '__iter__', '__le__', '__len__', '__lt__', '__mul__', '__ne__', '__new__', '__reduce__', '__reduce_ex__', '__repr__', '__rmul__', '__setattr__', '__sizeof__', '__str__', '__subclasshook__', 'count', 'index']\n"
     ]
    }
   ],
   "source": [
    "print(dir(t))"
   ]
  },
  {
   "cell_type": "code",
   "execution_count": 55,
   "id": "659ecae0",
   "metadata": {},
   "outputs": [
    {
     "name": "stdout",
     "output_type": "stream",
     "text": [
      "(1, 23, 12, 4, 12, 4134, 32, 54, 23, 4, 12, 1, 14, 23, 4, 23, 432, 4, 11)\n"
     ]
    }
   ],
   "source": [
    "a = (1,23,12,4,12,4134,32,54,23,4,12,1,14,23,4,23,432,4,11)\n",
    "print(a)"
   ]
  },
  {
   "cell_type": "code",
   "execution_count": 56,
   "id": "b2178437",
   "metadata": {},
   "outputs": [
    {
     "data": {
      "text/plain": [
       "3"
      ]
     },
     "execution_count": 56,
     "metadata": {},
     "output_type": "execute_result"
    }
   ],
   "source": [
    "a.count(12)"
   ]
  },
  {
   "cell_type": "code",
   "execution_count": 57,
   "id": "136fffbb",
   "metadata": {},
   "outputs": [
    {
     "data": {
      "text/plain": [
       "2"
      ]
     },
     "execution_count": 57,
     "metadata": {},
     "output_type": "execute_result"
    }
   ],
   "source": [
    "a.index(12)"
   ]
  },
  {
   "cell_type": "code",
   "execution_count": 58,
   "id": "b9e24c89",
   "metadata": {},
   "outputs": [],
   "source": [
    "t = (1,(2,3))"
   ]
  },
  {
   "cell_type": "code",
   "execution_count": 65,
   "id": "4e221491",
   "metadata": {},
   "outputs": [
    {
     "name": "stdout",
     "output_type": "stream",
     "text": [
      "2\n"
     ]
    }
   ],
   "source": [
    "t1 = ([1,2,3],[4,5,6])\n",
    "print(len(t1))"
   ]
  },
  {
   "cell_type": "code",
   "execution_count": 64,
   "id": "f2d92417",
   "metadata": {},
   "outputs": [
    {
     "name": "stdout",
     "output_type": "stream",
     "text": [
      "<class 'tuple'>\n",
      "<class 'tuple'>\n"
     ]
    }
   ],
   "source": [
    "print(type(t))\n",
    "print(type(t1))"
   ]
  },
  {
   "cell_type": "markdown",
   "id": "72907318",
   "metadata": {},
   "source": [
    "# Dictionary"
   ]
  },
  {
   "cell_type": "code",
   "execution_count": 67,
   "id": "e3f27090",
   "metadata": {},
   "outputs": [],
   "source": [
    "#key values"
   ]
  },
  {
   "cell_type": "code",
   "execution_count": 72,
   "id": "c366ec17",
   "metadata": {},
   "outputs": [
    {
     "name": "stdout",
     "output_type": "stream",
     "text": [
      "{} <class 'dict'>\n",
      "{'word': 'meaning'} <class 'dict'>\n",
      "{'key': 'value'} <class 'dict'>\n"
     ]
    }
   ],
   "source": [
    "d = {}\n",
    "print(d,type(d))\n",
    "a = {'word':'meaning'}\n",
    "b = {'key':'value'}\n",
    "print(a,type(a))\n",
    "print(b,type(b))"
   ]
  },
  {
   "cell_type": "code",
   "execution_count": 74,
   "id": "b7391833",
   "metadata": {},
   "outputs": [
    {
     "name": "stdout",
     "output_type": "stream",
     "text": [
      "{'a': 12, 'b': [44, 34], 'c': 22}\n"
     ]
    }
   ],
   "source": [
    "d = {'a':12,'b':[44,34],'c':22}\n",
    "print(d)"
   ]
  },
  {
   "cell_type": "code",
   "execution_count": 77,
   "id": "b20cd98a",
   "metadata": {},
   "outputs": [
    {
     "name": "stdout",
     "output_type": "stream",
     "text": [
      "{'a': 105, 'd': 44, 'e': 105}\n"
     ]
    }
   ],
   "source": [
    "d = {'a':34,'a':101,'a':105,'d':44,'e':105}\n",
    "print(d)"
   ]
  },
  {
   "cell_type": "code",
   "execution_count": 79,
   "id": "ae335eeb",
   "metadata": {},
   "outputs": [],
   "source": [
    "d1 = {'Name':'Python',\n",
    "     'Purpose':['OOPS','Functional','Scripting'],\n",
    "     'Versions':[1,2,3],\n",
    "     'Frame-Works':['Django','Pyramid','Flask'],\n",
    "     'Developer':'Guido Van Rossum'}"
   ]
  },
  {
   "cell_type": "code",
   "execution_count": 80,
   "id": "73e121d9",
   "metadata": {},
   "outputs": [
    {
     "name": "stdout",
     "output_type": "stream",
     "text": [
      "{'Name': 'Python', 'Purpose': ['OOPS', 'Functional', 'Scripting'], 'Versions': [1, 2, 3], 'Frame-Works': ['Django', 'Pyramid', 'Flask'], 'Developer': 'Guido Van Rossum'}\n"
     ]
    }
   ],
   "source": [
    "print(d1)"
   ]
  },
  {
   "cell_type": "code",
   "execution_count": 81,
   "id": "fac73548",
   "metadata": {},
   "outputs": [],
   "source": [
    "#Non-Sequential\n",
    "#Unordered\n",
    "#Mutable"
   ]
  },
  {
   "cell_type": "code",
   "execution_count": 86,
   "id": "8bc58686",
   "metadata": {},
   "outputs": [
    {
     "name": "stdout",
     "output_type": "stream",
     "text": [
      "Python\n",
      "['OOPS', 'Functional', 'Scripting']\n",
      "Guido Van Rossum\n"
     ]
    }
   ],
   "source": [
    "print(d1['Name'])\n",
    "print(d1['Purpose'])\n",
    "print(d1['Developer'])"
   ]
  },
  {
   "cell_type": "code",
   "execution_count": 94,
   "id": "431fbc29",
   "metadata": {},
   "outputs": [
    {
     "name": "stdout",
     "output_type": "stream",
     "text": [
      "ognajD\n"
     ]
    }
   ],
   "source": [
    "print(d1['Frame-Works'][0][::-1])"
   ]
  },
  {
   "cell_type": "code",
   "execution_count": 95,
   "id": "8724fb56",
   "metadata": {},
   "outputs": [],
   "source": [
    "#nested dictionaries"
   ]
  },
  {
   "cell_type": "code",
   "execution_count": 96,
   "id": "6cce4abf",
   "metadata": {},
   "outputs": [],
   "source": [
    "#JavaScript Object Notation"
   ]
  },
  {
   "cell_type": "code",
   "execution_count": 98,
   "id": "24469f5d",
   "metadata": {},
   "outputs": [],
   "source": [
    "d = {'Grras':{'Courses':{'Data_Eng':{'Trainers':'Ravi Ramawat'},\n",
    "                     'Python':{'Trainers':['Gaurav','Deep']},\n",
    "                     'DS & ML':{'Trainers':['Sachin','Simran','Deep']},\n",
    "                     'Gen AI':{'Trainers':['Ravi','Sachin','Simran']},\n",
    "                     'FullStack':{'Trainers':['Shubham','Aman','Shiryansh','Ritesh']},\n",
    "                     'CEH':{'Trainers':['Yogesh','Dennis']}}}}"
   ]
  },
  {
   "cell_type": "code",
   "execution_count": 99,
   "id": "20246b0a",
   "metadata": {},
   "outputs": [
    {
     "name": "stdout",
     "output_type": "stream",
     "text": [
      "{'Grras': {'Courses': {'Data_Eng': {'Trainers': 'Ravi Ramawat'}, 'Python': {'Trainers': ['Gaurav', 'Deep']}, 'DS & ML': {'Trainers': ['Sachin', 'Simran', 'Deep']}, 'Gen AI': {'Trainers': ['Ravi', 'Sachin', 'Simran']}, 'FullStack': {'Trainers': ['Shubham', 'Aman', 'Shiryansh', 'Ritesh']}, 'CEH': {'Trainers': ['Yogesh', 'Dennis']}}}}\n"
     ]
    }
   ],
   "source": [
    "print(d)"
   ]
  },
  {
   "cell_type": "code",
   "execution_count": 100,
   "id": "2201770c",
   "metadata": {},
   "outputs": [
    {
     "data": {
      "text/plain": [
       "dict_keys(['Grras'])"
      ]
     },
     "execution_count": 100,
     "metadata": {},
     "output_type": "execute_result"
    }
   ],
   "source": [
    "d.keys()"
   ]
  },
  {
   "cell_type": "code",
   "execution_count": 107,
   "id": "50d36e2b",
   "metadata": {},
   "outputs": [
    {
     "name": "stdout",
     "output_type": "stream",
     "text": [
      "Dennis\n"
     ]
    }
   ],
   "source": [
    "print(d['Grras']['Courses']['CEH']['Trainers'][1])"
   ]
  },
  {
   "cell_type": "code",
   "execution_count": 108,
   "id": "2079c190",
   "metadata": {},
   "outputs": [
    {
     "name": "stdout",
     "output_type": "stream",
     "text": [
      "{'Grras': {'Courses': {'Data_Eng': {'Trainers': 'Ravi Ramawat'}, 'Python': {'Trainers': ['Gaurav', 'Deep']}, 'DS & ML': {'Trainers': ['Sachin', 'Simran', 'Deep']}, 'Gen AI': {'Trainers': ['Ravi', 'Sachin', 'Simran']}, 'FullStack': {'Trainers': ['Shubham', 'Aman', 'Shiryansh', 'Ritesh']}, 'CEH': {'Trainers': ['Yogesh', 'Dennis']}}}}\n"
     ]
    }
   ],
   "source": [
    "print(d)"
   ]
  },
  {
   "cell_type": "code",
   "execution_count": 109,
   "id": "1d37a3b3",
   "metadata": {},
   "outputs": [],
   "source": [
    "from pprint import pprint"
   ]
  },
  {
   "cell_type": "code",
   "execution_count": 110,
   "id": "754e9a59",
   "metadata": {},
   "outputs": [
    {
     "name": "stdout",
     "output_type": "stream",
     "text": [
      "{'Grras': {'Courses': {'CEH': {'Trainers': ['Yogesh', 'Dennis']},\n",
      "                       'DS & ML': {'Trainers': ['Sachin', 'Simran', 'Deep']},\n",
      "                       'Data_Eng': {'Trainers': 'Ravi Ramawat'},\n",
      "                       'FullStack': {'Trainers': ['Shubham',\n",
      "                                                  'Aman',\n",
      "                                                  'Shiryansh',\n",
      "                                                  'Ritesh']},\n",
      "                       'Gen AI': {'Trainers': ['Ravi', 'Sachin', 'Simran']},\n",
      "                       'Python': {'Trainers': ['Gaurav', 'Deep']}}}}\n"
     ]
    }
   ],
   "source": [
    "pprint(d)"
   ]
  },
  {
   "cell_type": "code",
   "execution_count": 111,
   "id": "cebe3f3a",
   "metadata": {},
   "outputs": [],
   "source": [
    "#methods of dictionary"
   ]
  },
  {
   "cell_type": "code",
   "execution_count": 114,
   "id": "31a0bcda",
   "metadata": {},
   "outputs": [
    {
     "data": {
      "text/plain": [
       "dict_keys(['Name', 'Purpose', 'Versions', 'Frame-Works', 'Developer'])"
      ]
     },
     "execution_count": 114,
     "metadata": {},
     "output_type": "execute_result"
    }
   ],
   "source": [
    "d1.keys()"
   ]
  },
  {
   "cell_type": "code",
   "execution_count": 115,
   "id": "33858580",
   "metadata": {},
   "outputs": [
    {
     "data": {
      "text/plain": [
       "dict_values(['Python', ['OOPS', 'Functional', 'Scripting'], [1, 2, 3], ['Django', 'Pyramid', 'Flask'], 'Guido Van Rossum'])"
      ]
     },
     "execution_count": 115,
     "metadata": {},
     "output_type": "execute_result"
    }
   ],
   "source": [
    "d1.values()"
   ]
  },
  {
   "cell_type": "code",
   "execution_count": 116,
   "id": "6bb44312",
   "metadata": {},
   "outputs": [
    {
     "data": {
      "text/plain": [
       "dict_items([('Name', 'Python'), ('Purpose', ['OOPS', 'Functional', 'Scripting']), ('Versions', [1, 2, 3]), ('Frame-Works', ['Django', 'Pyramid', 'Flask']), ('Developer', 'Guido Van Rossum')])"
      ]
     },
     "execution_count": 116,
     "metadata": {},
     "output_type": "execute_result"
    }
   ],
   "source": [
    "d1.items()"
   ]
  },
  {
   "cell_type": "code",
   "execution_count": 117,
   "id": "3fd73cb8",
   "metadata": {},
   "outputs": [],
   "source": [
    "d3 = {}"
   ]
  },
  {
   "cell_type": "code",
   "execution_count": 118,
   "id": "5222f4e5",
   "metadata": {},
   "outputs": [],
   "source": [
    "l = ['Hello','Hi','Bye','Bye']"
   ]
  },
  {
   "cell_type": "code",
   "execution_count": 124,
   "id": "b9ab1bdd",
   "metadata": {},
   "outputs": [
    {
     "data": {
      "text/plain": [
       "{'Hello': 0, 'Hi': 0, 'Bye': 0}"
      ]
     },
     "execution_count": 124,
     "metadata": {},
     "output_type": "execute_result"
    }
   ],
   "source": [
    "d3.fromkeys(l,0)"
   ]
  },
  {
   "cell_type": "code",
   "execution_count": 127,
   "id": "77b2646b",
   "metadata": {},
   "outputs": [
    {
     "name": "stdout",
     "output_type": "stream",
     "text": [
      "{'Name': 'Python', 'Purpose': ['OOPS', 'Functional', 'Scripting'], 'Versions': [1, 2, 3], 'Frame-Works': ['Django', 'Pyramid', 'Flask'], 'Developer': 'Guido Van Rossum'}\n",
      "Python\n"
     ]
    }
   ],
   "source": [
    "print(d1)\n",
    "print(d1.get('Name'))"
   ]
  },
  {
   "cell_type": "code",
   "execution_count": 128,
   "id": "0692b3b8",
   "metadata": {},
   "outputs": [],
   "source": [
    "d1.get('Ravi')"
   ]
  },
  {
   "cell_type": "code",
   "execution_count": 129,
   "id": "7154502d",
   "metadata": {},
   "outputs": [
    {
     "ename": "KeyError",
     "evalue": "'Ravi'",
     "output_type": "error",
     "traceback": [
      "\u001b[1;31m---------------------------------------------------------------------------\u001b[0m",
      "\u001b[1;31mKeyError\u001b[0m                                  Traceback (most recent call last)",
      "Cell \u001b[1;32mIn[129], line 1\u001b[0m\n\u001b[1;32m----> 1\u001b[0m d1[\u001b[38;5;124m'\u001b[39m\u001b[38;5;124mRavi\u001b[39m\u001b[38;5;124m'\u001b[39m]\n",
      "\u001b[1;31mKeyError\u001b[0m: 'Ravi'"
     ]
    }
   ],
   "source": [
    "d1['Ravi']"
   ]
  },
  {
   "cell_type": "code",
   "execution_count": 137,
   "id": "377fad29",
   "metadata": {},
   "outputs": [
    {
     "name": "stdout",
     "output_type": "stream",
     "text": [
      "{'a': 12, 'b': [44, 34], 'c': 22}\n"
     ]
    }
   ],
   "source": [
    "c = {'a':12,'b':[44,34],'c':22}\n",
    "print(c)"
   ]
  },
  {
   "cell_type": "code",
   "execution_count": 138,
   "id": "ea953aa3",
   "metadata": {},
   "outputs": [
    {
     "data": {
      "text/plain": [
       "('c', 22)"
      ]
     },
     "execution_count": 138,
     "metadata": {},
     "output_type": "execute_result"
    }
   ],
   "source": [
    "\n",
    "c.popitem()"
   ]
  },
  {
   "cell_type": "code",
   "execution_count": 139,
   "id": "32a9f607",
   "metadata": {},
   "outputs": [
    {
     "name": "stdout",
     "output_type": "stream",
     "text": [
      "{'a': 12, 'b': [44, 34]}\n"
     ]
    }
   ],
   "source": [
    "print(c)"
   ]
  },
  {
   "cell_type": "code",
   "execution_count": 141,
   "id": "eb7318f7",
   "metadata": {},
   "outputs": [
    {
     "data": {
      "text/plain": [
       "12"
      ]
     },
     "execution_count": 141,
     "metadata": {},
     "output_type": "execute_result"
    }
   ],
   "source": [
    "c.pop('a')"
   ]
  },
  {
   "cell_type": "code",
   "execution_count": 144,
   "id": "90f4a6ae",
   "metadata": {},
   "outputs": [
    {
     "name": "stdout",
     "output_type": "stream",
     "text": [
      "{'b': [44, 34]}\n"
     ]
    }
   ],
   "source": [
    "print(c)"
   ]
  },
  {
   "cell_type": "code",
   "execution_count": 145,
   "id": "0e37b50c",
   "metadata": {},
   "outputs": [
    {
     "data": {
      "text/plain": [
       "66"
      ]
     },
     "execution_count": 145,
     "metadata": {},
     "output_type": "execute_result"
    }
   ],
   "source": [
    "c.setdefault('a',66)"
   ]
  },
  {
   "cell_type": "code",
   "execution_count": 146,
   "id": "2baa6ea5",
   "metadata": {},
   "outputs": [
    {
     "name": "stdout",
     "output_type": "stream",
     "text": [
      "{'b': [44, 34], 'a': 66}\n"
     ]
    }
   ],
   "source": [
    "print(c)"
   ]
  },
  {
   "cell_type": "code",
   "execution_count": 147,
   "id": "c94c8e75",
   "metadata": {},
   "outputs": [],
   "source": [
    "c.update([('b',[11,22]),('a',[11,33]),('f',34)])"
   ]
  },
  {
   "cell_type": "code",
   "execution_count": 148,
   "id": "3f194183",
   "metadata": {},
   "outputs": [
    {
     "name": "stdout",
     "output_type": "stream",
     "text": [
      "{'b': [11, 22], 'a': [11, 33], 'f': 34}\n"
     ]
    }
   ],
   "source": [
    "print(c)"
   ]
  },
  {
   "cell_type": "markdown",
   "id": "cb01c547",
   "metadata": {},
   "source": [
    "# SET"
   ]
  },
  {
   "cell_type": "code",
   "execution_count": 149,
   "id": "14878bf6",
   "metadata": {},
   "outputs": [
    {
     "name": "stdout",
     "output_type": "stream",
     "text": [
      "{32, 1, 4, 43, 12, 13, 14, 432, 532, 312, 315} <class 'set'>\n"
     ]
    }
   ],
   "source": [
    "s = {1,1,1,1,1,1,1,12,14,312,43,4,13,4,1,4,315,432,4,32,532}\n",
    "print(s,type(s))"
   ]
  },
  {
   "cell_type": "code",
   "execution_count": 150,
   "id": "d1fc648f",
   "metadata": {},
   "outputs": [],
   "source": [
    "s1 = {1,2,3,4}\n",
    "s2 = {4,5,6,7}"
   ]
  },
  {
   "cell_type": "code",
   "execution_count": 151,
   "id": "f05ecc5a",
   "metadata": {},
   "outputs": [
    {
     "data": {
      "text/plain": [
       "{1, 2, 3, 4, 5, 6, 7}"
      ]
     },
     "execution_count": 151,
     "metadata": {},
     "output_type": "execute_result"
    }
   ],
   "source": [
    "s1.union(s2)"
   ]
  },
  {
   "cell_type": "code",
   "execution_count": 152,
   "id": "cba3e9f7",
   "metadata": {},
   "outputs": [
    {
     "data": {
      "text/plain": [
       "{4}"
      ]
     },
     "execution_count": 152,
     "metadata": {},
     "output_type": "execute_result"
    }
   ],
   "source": [
    "s1.intersection(s2)"
   ]
  },
  {
   "cell_type": "code",
   "execution_count": 153,
   "id": "d00038c8",
   "metadata": {},
   "outputs": [
    {
     "data": {
      "text/plain": [
       "{1, 2, 3}"
      ]
     },
     "execution_count": 153,
     "metadata": {},
     "output_type": "execute_result"
    }
   ],
   "source": [
    "s1.difference(s2)"
   ]
  },
  {
   "cell_type": "code",
   "execution_count": 154,
   "id": "3f691758",
   "metadata": {},
   "outputs": [
    {
     "data": {
      "text/plain": [
       "{5, 6, 7}"
      ]
     },
     "execution_count": 154,
     "metadata": {},
     "output_type": "execute_result"
    }
   ],
   "source": [
    "s2.difference(s1)"
   ]
  },
  {
   "cell_type": "code",
   "execution_count": 155,
   "id": "6229f679",
   "metadata": {},
   "outputs": [
    {
     "data": {
      "text/plain": [
       "{1, 2, 3, 5, 6, 7}"
      ]
     },
     "execution_count": 155,
     "metadata": {},
     "output_type": "execute_result"
    }
   ],
   "source": [
    "s1.symmetric_difference(s2)"
   ]
  },
  {
   "cell_type": "code",
   "execution_count": 159,
   "id": "1d46fa74",
   "metadata": {},
   "outputs": [
    {
     "data": {
      "text/plain": [
       "1"
      ]
     },
     "execution_count": 159,
     "metadata": {},
     "output_type": "execute_result"
    }
   ],
   "source": [
    "s1.pop()"
   ]
  },
  {
   "cell_type": "code",
   "execution_count": 160,
   "id": "a0573245",
   "metadata": {},
   "outputs": [
    {
     "name": "stdout",
     "output_type": "stream",
     "text": [
      "{2, 3, 4}\n"
     ]
    }
   ],
   "source": [
    "print(s1)"
   ]
  },
  {
   "cell_type": "code",
   "execution_count": 161,
   "id": "f3c175ba",
   "metadata": {},
   "outputs": [],
   "source": [
    "s1.discard(4)"
   ]
  },
  {
   "cell_type": "code",
   "execution_count": 162,
   "id": "279b24a0",
   "metadata": {},
   "outputs": [
    {
     "name": "stdout",
     "output_type": "stream",
     "text": [
      "{2, 3}\n"
     ]
    }
   ],
   "source": [
    "print(s1)"
   ]
  },
  {
   "cell_type": "code",
   "execution_count": 163,
   "id": "f245509c",
   "metadata": {},
   "outputs": [],
   "source": [
    "s1.add(1)"
   ]
  },
  {
   "cell_type": "code",
   "execution_count": 164,
   "id": "71920095",
   "metadata": {},
   "outputs": [
    {
     "name": "stdout",
     "output_type": "stream",
     "text": [
      "{1, 2, 3}\n"
     ]
    }
   ],
   "source": [
    "print(s1)"
   ]
  },
  {
   "cell_type": "code",
   "execution_count": 165,
   "id": "eef6724e",
   "metadata": {},
   "outputs": [],
   "source": [
    "#immutable set --> frozen set"
   ]
  },
  {
   "cell_type": "code",
   "execution_count": 167,
   "id": "0f024a5f",
   "metadata": {},
   "outputs": [],
   "source": [
    "s1 = frozenset({1,2,3,4,5,6,7})"
   ]
  },
  {
   "cell_type": "code",
   "execution_count": 168,
   "id": "239730fd",
   "metadata": {},
   "outputs": [
    {
     "name": "stdout",
     "output_type": "stream",
     "text": [
      "frozenset({1, 2, 3, 4, 5, 6, 7})\n"
     ]
    }
   ],
   "source": [
    "print(s1)"
   ]
  },
  {
   "cell_type": "markdown",
   "id": "9ae1e434",
   "metadata": {},
   "source": [
    "# Boolean "
   ]
  },
  {
   "cell_type": "markdown",
   "id": "a45470cb",
   "metadata": {},
   "source": [
    "1. True\n",
    "2. False"
   ]
  }
 ],
 "metadata": {
  "kernelspec": {
   "display_name": "Python 3 (ipykernel)",
   "language": "python",
   "name": "python3"
  },
  "language_info": {
   "codemirror_mode": {
    "name": "ipython",
    "version": 3
   },
   "file_extension": ".py",
   "mimetype": "text/x-python",
   "name": "python",
   "nbconvert_exporter": "python",
   "pygments_lexer": "ipython3",
   "version": "3.11.4"
  }
 },
 "nbformat": 4,
 "nbformat_minor": 5
}
