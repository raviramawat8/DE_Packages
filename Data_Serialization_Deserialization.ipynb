{
 "cells": [
  {
   "cell_type": "code",
   "execution_count": 1,
   "id": "36871133",
   "metadata": {},
   "outputs": [],
   "source": [
    "from random import randint"
   ]
  },
  {
   "cell_type": "code",
   "execution_count": 29,
   "id": "de4590c1",
   "metadata": {},
   "outputs": [],
   "source": [
    "l = [randint(1,10) for var in range(50)]\n",
    "d = {'Name':'Ravi',\n",
    "     'Age':11,\n",
    "     'Class':8,\n",
    "     'Subjects':['English','Maths','Hindi','Grammar','Moral','Computer','GK','SST','Science'],\n",
    "     'Marks':[randint(1,100) for var in range(9)],\n",
    "     'Grade A':True}"
   ]
  },
  {
   "cell_type": "code",
   "execution_count": 30,
   "id": "b8126b8d",
   "metadata": {},
   "outputs": [
    {
     "name": "stdout",
     "output_type": "stream",
     "text": [
      "[8, 2, 3, 2, 6, 10, 5, 1, 10, 8, 7, 2, 6, 7, 2, 5, 2, 4, 4, 6, 4, 10, 7, 10, 5, 6, 8, 7, 4, 9, 3, 1, 10, 3, 2, 5, 8, 3, 2, 4, 2, 2, 4, 6, 3, 9, 6, 10, 4, 7]\n"
     ]
    }
   ],
   "source": [
    "print(l)"
   ]
  },
  {
   "cell_type": "code",
   "execution_count": 31,
   "id": "88e490de",
   "metadata": {},
   "outputs": [
    {
     "name": "stdout",
     "output_type": "stream",
     "text": [
      "{'Name': 'Ravi', 'Age': 11, 'Class': 8, 'Subjects': ['English', 'Maths', 'Hindi', 'Grammar', 'Moral', 'Computer', 'GK', 'SST', 'Science'], 'Marks': [65, 52, 35, 20, 65, 88, 5, 9, 15], 'Grade A': True}\n"
     ]
    }
   ],
   "source": [
    "print(d)"
   ]
  },
  {
   "cell_type": "code",
   "execution_count": 32,
   "id": "b79936b3",
   "metadata": {},
   "outputs": [],
   "source": [
    "import json"
   ]
  },
  {
   "cell_type": "code",
   "execution_count": 33,
   "id": "86646bd8",
   "metadata": {},
   "outputs": [],
   "source": [
    "f = open(\"bank.txt\",'w+')\n",
    "json.dump(d,f)\n",
    "f.close()"
   ]
  },
  {
   "cell_type": "code",
   "execution_count": 34,
   "id": "45212ee1",
   "metadata": {},
   "outputs": [
    {
     "name": "stdout",
     "output_type": "stream",
     "text": [
      "{'Name': 'Ravi', 'Age': 11, 'Class': 8, 'Subjects': ['English', 'Maths', 'Hindi', 'Grammar', 'Moral', 'Computer', 'GK', 'SST', 'Science'], 'Marks': [65, 52, 35, 20, 65, 88, 5, 9, 15], 'Grade A': True} <class 'dict'>\n"
     ]
    }
   ],
   "source": [
    "f=open(\"bank.txt\",\"r\")\n",
    "data = json.load(f)\n",
    "print(data,type(data))"
   ]
  },
  {
   "cell_type": "code",
   "execution_count": 27,
   "id": "282c002f",
   "metadata": {},
   "outputs": [],
   "source": [
    "f = open(\"bank.txt\",'w+')\n",
    "json.dump(l,f)\n",
    "f.close()"
   ]
  },
  {
   "cell_type": "code",
   "execution_count": 28,
   "id": "547b7dbf",
   "metadata": {},
   "outputs": [
    {
     "name": "stdout",
     "output_type": "stream",
     "text": [
      "[5, 9, 8, 6, 3, 10, 5, 4, 9, 10, 8, 7, 1, 7, 8, 3, 9, 10, 1, 3, 6, 7, 2, 6, 4, 8, 6, 6, 7, 5, 7, 4, 10, 2, 1, 9, 8, 10, 2, 10, 3, 7, 6, 6, 10, 4, 1, 2, 2, 7] <class 'list'>\n"
     ]
    }
   ],
   "source": [
    "f=open(\"bank.txt\",\"r\")\n",
    "data = json.load(f)\n",
    "print(data,type(data))"
   ]
  },
  {
   "cell_type": "code",
   "execution_count": 36,
   "id": "9efa5c2b",
   "metadata": {},
   "outputs": [
    {
     "name": "stdout",
     "output_type": "stream",
     "text": [
      "{'name': 'John', 'age': 25, 'city': 'Sampleville', 'married': False, 'hobbies': ['reading', 'traveling', 'programming'], 'address': {'street': '123 Main Street', 'city': 'Sample City', 'postal_code': '12345'}} <class 'dict'>\n"
     ]
    }
   ],
   "source": [
    "with open(\"C:\\\\Users\\\\Ravi Ramawat\\\\Downloads\\\\sample1.json\",\"r\") as f1:\n",
    "    data = json.load(f1)\n",
    "    print(data,type(data))"
   ]
  },
  {
   "cell_type": "code",
   "execution_count": 37,
   "id": "ee1950ef",
   "metadata": {},
   "outputs": [],
   "source": [
    "#pickle"
   ]
  },
  {
   "cell_type": "code",
   "execution_count": 39,
   "id": "d4ab97c6",
   "metadata": {},
   "outputs": [],
   "source": [
    "import pickle"
   ]
  },
  {
   "cell_type": "code",
   "execution_count": 41,
   "id": "0a01cf47",
   "metadata": {},
   "outputs": [
    {
     "data": {
      "text/plain": [
       "180"
      ]
     },
     "execution_count": 41,
     "metadata": {},
     "output_type": "execute_result"
    }
   ],
   "source": [
    "new_d = pickle.dumps(d)\n",
    "f = open(\"pickle_object.txt\",\"wb\")\n",
    "f.write(new_d)"
   ]
  },
  {
   "cell_type": "code",
   "execution_count": 42,
   "id": "046189d8",
   "metadata": {},
   "outputs": [],
   "source": [
    "f.close()"
   ]
  },
  {
   "cell_type": "code",
   "execution_count": 43,
   "id": "46b30c40",
   "metadata": {},
   "outputs": [
    {
     "data": {
      "text/plain": [
       "{'Name': 'Ravi',\n",
       " 'Age': 11,\n",
       " 'Class': 8,\n",
       " 'Subjects': ['English',\n",
       "  'Maths',\n",
       "  'Hindi',\n",
       "  'Grammar',\n",
       "  'Moral',\n",
       "  'Computer',\n",
       "  'GK',\n",
       "  'SST',\n",
       "  'Science'],\n",
       " 'Marks': [65, 52, 35, 20, 65, 88, 5, 9, 15],\n",
       " 'Grade A': True}"
      ]
     },
     "execution_count": 43,
     "metadata": {},
     "output_type": "execute_result"
    }
   ],
   "source": [
    "pickle.loads(new_d)"
   ]
  },
  {
   "cell_type": "code",
   "execution_count": 44,
   "id": "4ed6d5e4",
   "metadata": {},
   "outputs": [],
   "source": [
    "f = open(\"pickle_object.txt\",\"wb\")\n",
    "pickle.dump(d,f)\n",
    "f.close()"
   ]
  },
  {
   "cell_type": "code",
   "execution_count": 45,
   "id": "c87eb264",
   "metadata": {},
   "outputs": [],
   "source": [
    "#OOPS"
   ]
  },
  {
   "cell_type": "code",
   "execution_count": 47,
   "id": "9c1743c8",
   "metadata": {},
   "outputs": [],
   "source": [
    "def hello():\n",
    "    pass"
   ]
  },
  {
   "cell_type": "code",
   "execution_count": 48,
   "id": "c89cda8f",
   "metadata": {},
   "outputs": [
    {
     "name": "stdout",
     "output_type": "stream",
     "text": [
      "<class 'function'>\n"
     ]
    }
   ],
   "source": [
    "print(type(hello))"
   ]
  },
  {
   "cell_type": "code",
   "execution_count": null,
   "id": "189e1a8f",
   "metadata": {},
   "outputs": [],
   "source": []
  }
 ],
 "metadata": {
  "kernelspec": {
   "display_name": "Python 3 (ipykernel)",
   "language": "python",
   "name": "python3"
  },
  "language_info": {
   "codemirror_mode": {
    "name": "ipython",
    "version": 3
   },
   "file_extension": ".py",
   "mimetype": "text/x-python",
   "name": "python",
   "nbconvert_exporter": "python",
   "pygments_lexer": "ipython3",
   "version": "3.11.4"
  }
 },
 "nbformat": 4,
 "nbformat_minor": 5
}
