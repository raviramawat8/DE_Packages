{
 "cells": [
  {
   "cell_type": "code",
   "execution_count": 1,
   "id": "316c1564",
   "metadata": {},
   "outputs": [
    {
     "data": {
      "text/plain": [
       "[5, 14, 32, 32, 35, 123, 34412, 324542]"
      ]
     },
     "execution_count": 1,
     "metadata": {},
     "output_type": "execute_result"
    }
   ],
   "source": [
    "l = [123,32,14,32,5,34412,35,324542]\n",
    "sorted(l)"
   ]
  },
  {
   "cell_type": "code",
   "execution_count": 4,
   "id": "ad3cc24e",
   "metadata": {},
   "outputs": [
    {
     "name": "stdout",
     "output_type": "stream",
     "text": [
      "[23, 4, 34, 56, 543, 34, 34, 314, 5, 23, 34]\n"
     ]
    }
   ],
   "source": [
    "l1 = [34,23,5,314,34,34,543,56,34,4,23]\n",
    "print(list(reversed(l1)))"
   ]
  },
  {
   "cell_type": "markdown",
   "id": "672804f7",
   "metadata": {},
   "source": [
    "### User Defined Functions "
   ]
  },
  {
   "cell_type": "code",
   "execution_count": 11,
   "id": "27f891fb",
   "metadata": {},
   "outputs": [],
   "source": [
    "def hello():\n",
    "    \"\"\"\n",
    "    hello() --> Hello World!!\n",
    "    \n",
    "    This is hello function and this \n",
    "    function will print hello world to the output stream\n",
    "    \n",
    "    you can call this function without any argument\"\"\"\n",
    "    print(\"Hello World!!\")"
   ]
  },
  {
   "cell_type": "code",
   "execution_count": 20,
   "id": "f128a385",
   "metadata": {},
   "outputs": [
    {
     "name": "stdout",
     "output_type": "stream",
     "text": [
      "<function hello at 0x00000213714C4900>\n"
     ]
    }
   ],
   "source": [
    "print(hello)"
   ]
  },
  {
   "cell_type": "code",
   "execution_count": 21,
   "id": "abb435ea",
   "metadata": {},
   "outputs": [
    {
     "name": "stdout",
     "output_type": "stream",
     "text": [
      "Hello World!!\n"
     ]
    }
   ],
   "source": [
    "r = hello()"
   ]
  },
  {
   "cell_type": "code",
   "execution_count": 22,
   "id": "4a9366df",
   "metadata": {},
   "outputs": [
    {
     "name": "stdout",
     "output_type": "stream",
     "text": [
      "None\n"
     ]
    }
   ],
   "source": [
    "print(r)"
   ]
  },
  {
   "cell_type": "code",
   "execution_count": 15,
   "id": "3c351f42",
   "metadata": {},
   "outputs": [],
   "source": [
    "def hi():\n",
    "    \"\"\"hi () --> this function will return hi world\"\"\"\n",
    "    return \"hi world\""
   ]
  },
  {
   "cell_type": "code",
   "execution_count": 17,
   "id": "f81c7e69",
   "metadata": {},
   "outputs": [],
   "source": [
    "r = hi()"
   ]
  },
  {
   "cell_type": "code",
   "execution_count": 18,
   "id": "8a409ab9",
   "metadata": {},
   "outputs": [
    {
     "name": "stdout",
     "output_type": "stream",
     "text": [
      "hi world\n"
     ]
    }
   ],
   "source": [
    "print(r)"
   ]
  },
  {
   "cell_type": "code",
   "execution_count": 28,
   "id": "9a8aeb6d",
   "metadata": {},
   "outputs": [],
   "source": [
    "def hi():\n",
    "    for var in range(1,9):\n",
    "        if var%4==0:\n",
    "            return \"All iz well\"\n",
    "        elif var%3 ==0:\n",
    "            return \"All iz Not well\"\n",
    "        else:\n",
    "            print(\"HI WORLD\")"
   ]
  },
  {
   "cell_type": "code",
   "execution_count": 29,
   "id": "c2dafcf7",
   "metadata": {},
   "outputs": [
    {
     "name": "stdout",
     "output_type": "stream",
     "text": [
      "HI WORLD\n",
      "HI WORLD\n",
      "All iz Not well\n"
     ]
    }
   ],
   "source": [
    "r=hi()\n",
    "print(r)"
   ]
  },
  {
   "cell_type": "code",
   "execution_count": 27,
   "id": "60005101",
   "metadata": {},
   "outputs": [
    {
     "data": {
      "text/plain": [
       "0"
      ]
     },
     "execution_count": 27,
     "metadata": {},
     "output_type": "execute_result"
    }
   ],
   "source": [
    "0%4"
   ]
  },
  {
   "cell_type": "code",
   "execution_count": 30,
   "id": "13ad56f9",
   "metadata": {},
   "outputs": [],
   "source": [
    "#formal parameters or positional arguments"
   ]
  },
  {
   "cell_type": "code",
   "execution_count": 37,
   "id": "671bd7a4",
   "metadata": {},
   "outputs": [],
   "source": [
    "def add(a,b):\n",
    "    return f\"{a} + {b} = {a+b}\"\n",
    "    return f\"{a} - {b} = {a-b}\""
   ]
  },
  {
   "cell_type": "code",
   "execution_count": 36,
   "id": "82b11821",
   "metadata": {},
   "outputs": [
    {
     "name": "stdout",
     "output_type": "stream",
     "text": [
      "3 + 5 = 8\n"
     ]
    }
   ],
   "source": [
    "#add(3)\n",
    "print(add(3,5))"
   ]
  },
  {
   "cell_type": "code",
   "execution_count": 39,
   "id": "93d5c843",
   "metadata": {},
   "outputs": [
    {
     "name": "stdout",
     "output_type": "stream",
     "text": [
      "9 + 4 = 13\n"
     ]
    }
   ],
   "source": [
    "print(add(9,4))"
   ]
  },
  {
   "cell_type": "code",
   "execution_count": 40,
   "id": "97c42a97",
   "metadata": {},
   "outputs": [],
   "source": [
    "#WAF to print reverse or a given string"
   ]
  },
  {
   "cell_type": "code",
   "execution_count": 46,
   "id": "f4c319ba",
   "metadata": {},
   "outputs": [
    {
     "name": "stdout",
     "output_type": "stream",
     "text": [
      "lleW Zi llA\n"
     ]
    }
   ],
   "source": [
    "def reverse(s):\n",
    "    r = \"\"\n",
    "    for var in range(len(s)-1,-1,-1):\n",
    "        r=r+s[var]\n",
    "    return r\n",
    "\n",
    "print(reverse(\"All iZ Well\"))"
   ]
  },
  {
   "cell_type": "code",
   "execution_count": 47,
   "id": "58d24213",
   "metadata": {},
   "outputs": [],
   "source": [
    "#WAF to check whether a number is prime or non-prime"
   ]
  },
  {
   "cell_type": "code",
   "execution_count": 48,
   "id": "46343ff5",
   "metadata": {},
   "outputs": [],
   "source": [
    "from math import sqrt\n",
    "def prime(num):\n",
    "    check = round(sqrt(num))\n",
    "    for var in range(2,check+1):\n",
    "        if num%var==0:\n",
    "            return False\n",
    "    return True"
   ]
  },
  {
   "cell_type": "code",
   "execution_count": 53,
   "id": "52b3fc44",
   "metadata": {},
   "outputs": [
    {
     "name": "stdout",
     "output_type": "stream",
     "text": [
      "Enter a number  --> 61\n",
      "61 is Prime\n"
     ]
    }
   ],
   "source": [
    "def main():\n",
    "    num = int(input(\"Enter a number  --> \"))\n",
    "    if prime(num):\n",
    "        print(f\"{num} is Prime\")\n",
    "    else:\n",
    "        print(f\"{num} is Non-Prime\")\n",
    "        \n",
    "main()"
   ]
  },
  {
   "cell_type": "code",
   "execution_count": 54,
   "id": "257dd687",
   "metadata": {},
   "outputs": [],
   "source": [
    "#prime in a range"
   ]
  },
  {
   "cell_type": "code",
   "execution_count": 55,
   "id": "9f305bf5",
   "metadata": {},
   "outputs": [],
   "source": [
    "def prime_range(s,e):\n",
    "    for num in range(s,e+1):\n",
    "        if prime(num):\n",
    "            print(num,end=\"\\t\")"
   ]
  },
  {
   "cell_type": "code",
   "execution_count": 56,
   "id": "eccd3c2b",
   "metadata": {},
   "outputs": [
    {
     "name": "stdout",
     "output_type": "stream",
     "text": [
      "5\t7\t11\t13\t17\t19\t23\t29\t31\t37\t41\t43\t47\t53\t59\t61\t67\t71\t73\t79\t83\t89\t97\t101\t103\t107\t109\t113\t127\t131\t137\t139\t149\t151\t157\t163\t167\t173\t179\t181\t191\t193\t197\t199\t211\t223\t227\t229\t233\t239\t241\t251\t257\t263\t269\t271\t277\t281\t283\t293\t307\t311\t313\t317\t331\t337\t347\t349\t353\t359\t367\t373\t379\t383\t389\t397\t401\t409\t419\t421\t431\t433\t439\t443\t449\t457\t461\t463\t467\t479\t487\t491\t499\t503\t509\t521\t523\t541\t547\t557\t563\t569\t571\t577\t587\t593\t599\t601\t607\t613\t617\t619\t631\t641\t643\t647\t653\t659\t661\t673\t677\t683\t691\t701\t709\t719\t727\t733\t739\t743\t751\t757\t761\t769\t773\t787\t797\t809\t811\t821\t823\t827\t829\t839\t853\t857\t859\t863\t877\t881\t883\t887\t907\t911\t919\t929\t937\t941\t947\t953\t967\t971\t977\t983\t991\t997\t1009\t1013\t1019\t1021\t1031\t1033\t1039\t1049\t1051\t1061\t1063\t1069\t1087\t1091\t1093\t1097\t1103\t1109\t1117\t1123\t1129\t1151\t1153\t1163\t1171\t1181\t1187\t1193\t1201\t1213\t1217\t1223\t1229\t1231\t1237\t1249\t1259\t1277\t1279\t1283\t1289\t1291\t1297\t1301\t1303\t1307\t1319\t1321\t1327\t1361\t1367\t1373\t1381\t1399\t1409\t1423\t1427\t1429\t1433\t1439\t1447\t1451\t1453\t1459\t1471\t1481\t1483\t1487\t1489\t1493\t1499\t1511\t1523\t1531\t1543\t1549\t1553\t1559\t1567\t1571\t1579\t1583\t1597\t1601\t1607\t1609\t1613\t1619\t1621\t1627\t1637\t1657\t1663\t1667\t1669\t1693\t1697\t1699\t1709\t1721\t1723\t1733\t1741\t1747\t1753\t1759\t1777\t1783\t1787\t1789\t1801\t1811\t1823\t1831\t1847\t1861\t1867\t1871\t1873\t1877\t1879\t1889\t1901\t1907\t1913\t1931\t1933\t1949\t1951\t1973\t1979\t1987\t1993\t1997\t1999\t2003\t2011\t2017\t2027\t2029\t2039\t2053\t2063\t2069\t2081\t2083\t2087\t2089\t2099\t2111\t2113\t2129\t2131\t2137\t2141\t2143\t2153\t2161\t2179\t2203\t2207\t2213\t2221\t2237\t2239\t2243\t2251\t2267\t2269\t2273\t2281\t2287\t2293\t2297\t2309\t2311\t2333\t2339\t2341\t2347\t2351\t2357\t2371\t2377\t2381\t2383\t2389\t2393\t2399\t2411\t2417\t2423\t2437\t2441\t2447\t2459\t2467\t2473\t2477\t2503\t2521\t2531\t2539\t2543\t2549\t2551\t2557\t2579\t2591\t2593\t2609\t2617\t2621\t2633\t2647\t2657\t2659\t2663\t2671\t2677\t2683\t2687\t2689\t2693\t2699\t2707\t2711\t2713\t2719\t2729\t2731\t2741\t2749\t2753\t2767\t2777\t2789\t2791\t2797\t2801\t2803\t2819\t2833\t2837\t2843\t2851\t2857\t2861\t2879\t2887\t2897\t2903\t2909\t2917\t2927\t2939\t2953\t2957\t2963\t2969\t2971\t2999\t3001\t3011\t3019\t3023\t3037\t3041\t3049\t3061\t3067\t3079\t3083\t3089\t3109\t3119\t3121\t3137\t3163\t3167\t3169\t3181\t3187\t3191\t3203\t3209\t3217\t3221\t3229\t3251\t3253\t3257\t3259\t3271\t3299\t3301\t3307\t3313\t3319\t3323\t3329\t3331\t3343\t3347\t3359\t3361\t3371\t3373\t3389\t3391\t3407\t3413\t3433\t3449\t3457\t3461\t3463\t3467\t3469\t3491\t3499\t3511\t3517\t3527\t3529\t3533\t3539\t3541\t3547\t3557\t3559\t3571\t3581\t3583\t3593\t3607\t3613\t3617\t3623\t3631\t3637\t3643\t3659\t3671\t3673\t3677\t3691\t3697\t3701\t3709\t3719\t3727\t3733\t3739\t3761\t3767\t3769\t3779\t3793\t3797\t3803\t3821\t3823\t3833\t3847\t3851\t3853\t3863\t3877\t3881\t3889\t3907\t3911\t3917\t3919\t3923\t3929\t3931\t3943\t3947\t3967\t3989\t4001\t4003\t4007\t4013\t4019\t4021\t4027\t4049\t4051\t4057\t4073\t4079\t4091\t4093\t4099\t4111\t4127\t4129\t4133\t4139\t4153\t4157\t4159\t4177\t4201\t4211\t4217\t4219\t4229\t4231\t4241\t4243\t4253\t4259\t4261\t4271\t4273\t4283\t4289\t4297\t4327\t4337\t4339\t4349\t4357\t4363\t4373\t4391\t4397\t4409\t4421\t4423\t4441\t4447\t4451\t4457\t4463\t4481\t4483\t4493\t4507\t4513\t4517\t4519\t4523\t4547\t4549\t4561\t4567\t4583\t4591\t4597\t4603\t4621\t4637\t4639\t4643\t4649\t4651\t4657\t4663\t4673\t4679\t4691\t4703\t4721\t4723\t4729\t4733\t4751\t4759\t4783\t4787\t4789\t4793\t4799\t4801\t4813\t4817\t4831\t4861\t4871\t4877\t4889\t4903\t4909\t4919\t4931\t4933\t4937\t4943\t4951\t4957\t4967\t4969\t4973\t4987\t4993\t4999\t"
     ]
    }
   ],
   "source": [
    "prime_range(5,5000)"
   ]
  },
  {
   "cell_type": "code",
   "execution_count": 60,
   "id": "abc37233",
   "metadata": {},
   "outputs": [],
   "source": [
    "def fibo(a,b,n):\n",
    "    for var in range(n):\n",
    "        print(a,end=\"\\t\")\n",
    "        b,a = a+b,b"
   ]
  },
  {
   "cell_type": "code",
   "execution_count": 62,
   "id": "21161a56",
   "metadata": {},
   "outputs": [
    {
     "name": "stdout",
     "output_type": "stream",
     "text": [
      "3\t6\t9\t15\t24\t39\t63\t102\t165\t267\t432\t699\t1131\t1830\t2961\t"
     ]
    }
   ],
   "source": [
    "fibo(3,6,15)"
   ]
  },
  {
   "cell_type": "code",
   "execution_count": null,
   "id": "6b72488b",
   "metadata": {},
   "outputs": [],
   "source": []
  }
 ],
 "metadata": {
  "kernelspec": {
   "display_name": "Python 3 (ipykernel)",
   "language": "python",
   "name": "python3"
  },
  "language_info": {
   "codemirror_mode": {
    "name": "ipython",
    "version": 3
   },
   "file_extension": ".py",
   "mimetype": "text/x-python",
   "name": "python",
   "nbconvert_exporter": "python",
   "pygments_lexer": "ipython3",
   "version": "3.11.4"
  }
 },
 "nbformat": 4,
 "nbformat_minor": 5
}
