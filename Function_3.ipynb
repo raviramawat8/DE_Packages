{
 "cells": [
  {
   "cell_type": "code",
   "execution_count": 13,
   "id": "77c3235e",
   "metadata": {},
   "outputs": [
    {
     "name": "stdout",
     "output_type": "stream",
     "text": [
      "12\n"
     ]
    }
   ],
   "source": [
    "names1 = ['Amir', 'Bear', 'Charlton', 'Daman']\n",
    "names2 = names1\n",
    "names3 = names1[:]\n",
    "\n",
    " \n",
    "names2[0] = 'Alice'\n",
    "names3[1] = 'Bob'\n",
    "\n",
    "s = 0\n",
    "for ls in (names1, names2, names3):\n",
    "    if ls[0] == 'Alice':\n",
    "        s += 1\n",
    "    if ls[1] == 'Bob':\n",
    "        s += 10\n",
    "print(s)"
   ]
  },
  {
   "cell_type": "code",
   "execution_count": 14,
   "id": "56230a4e",
   "metadata": {},
   "outputs": [],
   "source": [
    "#WAF to print Armstrong number in a given range"
   ]
  },
  {
   "cell_type": "code",
   "execution_count": 15,
   "id": "47c645ef",
   "metadata": {},
   "outputs": [],
   "source": [
    "#default arguments or parameter"
   ]
  },
  {
   "cell_type": "code",
   "execution_count": 16,
   "id": "e8ff6898",
   "metadata": {},
   "outputs": [],
   "source": [
    "def add(a,b=5):\n",
    "    return f\"{a} + {b} = {a+b}\""
   ]
  },
  {
   "cell_type": "code",
   "execution_count": 19,
   "id": "a5d8c08c",
   "metadata": {},
   "outputs": [
    {
     "name": "stdout",
     "output_type": "stream",
     "text": [
      "4 + 5 = 9\n"
     ]
    }
   ],
   "source": [
    "print(add(4))"
   ]
  },
  {
   "cell_type": "code",
   "execution_count": 20,
   "id": "9451f47a",
   "metadata": {},
   "outputs": [
    {
     "ename": "SyntaxError",
     "evalue": "non-default argument follows default argument (458371365.py, line 1)",
     "output_type": "error",
     "traceback": [
      "\u001b[1;36m  Cell \u001b[1;32mIn[20], line 1\u001b[1;36m\u001b[0m\n\u001b[1;33m    def add(a=2,b):\u001b[0m\n\u001b[1;37m                ^\u001b[0m\n\u001b[1;31mSyntaxError\u001b[0m\u001b[1;31m:\u001b[0m non-default argument follows default argument\n"
     ]
    }
   ],
   "source": [
    "def add(a=2,b):\n",
    "    return f\"{a} + {b} = {a+b}\""
   ]
  },
  {
   "cell_type": "code",
   "execution_count": 21,
   "id": "8517dd1e",
   "metadata": {},
   "outputs": [],
   "source": [
    "def area_rectangle(l = 10,b = 10):\n",
    "    return f\"Area for given rectangle of length {l} and breadth {b} is {l*b}\""
   ]
  },
  {
   "cell_type": "code",
   "execution_count": 25,
   "id": "cc5d59f3",
   "metadata": {},
   "outputs": [
    {
     "name": "stdout",
     "output_type": "stream",
     "text": [
      "Area for given rectangle of length 33 and breadth 99 is 3267\n"
     ]
    }
   ],
   "source": [
    "print(area_rectangle(33,99))"
   ]
  },
  {
   "cell_type": "code",
   "execution_count": 26,
   "id": "2ea7bc38",
   "metadata": {},
   "outputs": [],
   "source": [
    "a = \"Ravi Ramawat\""
   ]
  },
  {
   "cell_type": "code",
   "execution_count": null,
   "id": "ddd1bd35",
   "metadata": {},
   "outputs": [],
   "source": [
    "a.split()"
   ]
  },
  {
   "cell_type": "code",
   "execution_count": 27,
   "id": "6066de6c",
   "metadata": {},
   "outputs": [],
   "source": [
    "#multiple arguments"
   ]
  },
  {
   "cell_type": "code",
   "execution_count": 36,
   "id": "a6fc471e",
   "metadata": {},
   "outputs": [],
   "source": [
    "def hello(*arg):\n",
    "    for var in arg:\n",
    "        print(var+5,end=\"\\t\")"
   ]
  },
  {
   "cell_type": "code",
   "execution_count": 37,
   "id": "331933dc",
   "metadata": {},
   "outputs": [
    {
     "name": "stdout",
     "output_type": "stream",
     "text": [
      "17\t8\t1329\t8\t29\t239\t10\t40\t37\t10\t39\t57\t39\t17\t39\t240\t9\t53428\t"
     ]
    }
   ],
   "source": [
    "hello(12,3,1324,3,24,234,5,35,32,5,34,52,34,12,34,235,4,53423)"
   ]
  },
  {
   "cell_type": "code",
   "execution_count": 38,
   "id": "fb28016b",
   "metadata": {},
   "outputs": [],
   "source": [
    "#kwargs"
   ]
  },
  {
   "cell_type": "code",
   "execution_count": 42,
   "id": "93a9a623",
   "metadata": {},
   "outputs": [],
   "source": [
    "def abc(**kwargs):\n",
    "    for key,value in kwargs.items():\n",
    "        print(f\"{key} --> {value}\")"
   ]
  },
  {
   "cell_type": "code",
   "execution_count": 43,
   "id": "bd6f0f59",
   "metadata": {},
   "outputs": [
    {
     "name": "stdout",
     "output_type": "stream",
     "text": [
      "name --> Python\n",
      "Type --> Programming\n"
     ]
    }
   ],
   "source": [
    "abc(name='Python',Type='Programming')"
   ]
  },
  {
   "cell_type": "markdown",
   "id": "5fddd92a",
   "metadata": {},
   "source": [
    "# LAMBDA"
   ]
  },
  {
   "cell_type": "markdown",
   "id": "f9d3739f",
   "metadata": {},
   "source": [
    "Anonymous function and One Line Function"
   ]
  },
  {
   "cell_type": "code",
   "execution_count": 49,
   "id": "43805e98",
   "metadata": {},
   "outputs": [],
   "source": [
    "a = lambda :\"Hello World\""
   ]
  },
  {
   "cell_type": "code",
   "execution_count": 51,
   "id": "c149f781",
   "metadata": {},
   "outputs": [
    {
     "name": "stdout",
     "output_type": "stream",
     "text": [
      "Hello World\n"
     ]
    }
   ],
   "source": [
    "print(a())"
   ]
  },
  {
   "cell_type": "code",
   "execution_count": 60,
   "id": "d38a625e",
   "metadata": {},
   "outputs": [],
   "source": [
    "check = lambda num : f\"{num} is Even\" if num%2==0 else f\"{num} is Odd\""
   ]
  },
  {
   "cell_type": "code",
   "execution_count": 61,
   "id": "cf48cd70",
   "metadata": {},
   "outputs": [
    {
     "name": "stdout",
     "output_type": "stream",
     "text": [
      "5 is Odd\n"
     ]
    }
   ],
   "source": [
    "print(check(5))"
   ]
  },
  {
   "cell_type": "code",
   "execution_count": 62,
   "id": "915c2da2",
   "metadata": {},
   "outputs": [],
   "source": [
    "f = lambda s: [word[0] for word in s.split()]"
   ]
  },
  {
   "cell_type": "code",
   "execution_count": 63,
   "id": "b9cc6437",
   "metadata": {},
   "outputs": [
    {
     "data": {
      "text/plain": [
       "['R', 'i', 'A']"
      ]
     },
     "execution_count": 63,
     "metadata": {},
     "output_type": "execute_result"
    }
   ],
   "source": [
    "f(\"Ravi is Awesome\")"
   ]
  },
  {
   "cell_type": "code",
   "execution_count": 64,
   "id": "b6d41221",
   "metadata": {},
   "outputs": [],
   "source": [
    "from random import randint"
   ]
  },
  {
   "cell_type": "code",
   "execution_count": 65,
   "id": "7ed49c42",
   "metadata": {},
   "outputs": [],
   "source": [
    "myrandint = lambda s,e,n : [randint(s,e) for var in range(n)]"
   ]
  },
  {
   "cell_type": "code",
   "execution_count": 67,
   "id": "6db3372a",
   "metadata": {},
   "outputs": [
    {
     "name": "stdout",
     "output_type": "stream",
     "text": [
      "[2, 5, 5, 8, 2, 7, 5, 1, 5, 9, 2, 3, 4, 10, 1, 8, 9, 4, 8, 10, 8, 9, 3, 8, 1, 8, 4, 5, 6, 4, 6, 5, 1, 3, 6, 2, 3, 4, 2, 3, 5, 9, 4, 2, 5, 10, 5, 10, 9, 7]\n"
     ]
    }
   ],
   "source": [
    "print(myrandint(1,10,50))"
   ]
  },
  {
   "cell_type": "code",
   "execution_count": 68,
   "id": "2f88bb64",
   "metadata": {},
   "outputs": [],
   "source": [
    "#recursion"
   ]
  },
  {
   "cell_type": "code",
   "execution_count": 69,
   "id": "752df61a",
   "metadata": {},
   "outputs": [],
   "source": [
    "def fact(num):\n",
    "    if num==1:\n",
    "        return num\n",
    "    else:\n",
    "        return fact(num-1)*num"
   ]
  },
  {
   "cell_type": "code",
   "execution_count": 70,
   "id": "7b4c3ec9",
   "metadata": {},
   "outputs": [
    {
     "data": {
      "text/plain": [
       "120"
      ]
     },
     "execution_count": 70,
     "metadata": {},
     "output_type": "execute_result"
    }
   ],
   "source": [
    "fact(5)"
   ]
  },
  {
   "cell_type": "code",
   "execution_count": 71,
   "id": "70cfc521",
   "metadata": {},
   "outputs": [],
   "source": [
    "fact = lambda num: num if num==1 else fact(num-1)*num"
   ]
  },
  {
   "cell_type": "code",
   "execution_count": 73,
   "id": "bec3367f",
   "metadata": {},
   "outputs": [
    {
     "data": {
      "text/plain": [
       "720"
      ]
     },
     "execution_count": 73,
     "metadata": {},
     "output_type": "execute_result"
    }
   ],
   "source": [
    "fact(6)"
   ]
  },
  {
   "cell_type": "code",
   "execution_count": 75,
   "id": "7b254b69",
   "metadata": {},
   "outputs": [],
   "source": [
    "#WAF to reverse a given string using recursion"
   ]
  },
  {
   "cell_type": "code",
   "execution_count": 85,
   "id": "9f597b4b",
   "metadata": {},
   "outputs": [],
   "source": [
    "reverse = lambda s: s if len(s)==0 else reverse(s[1:])+s[0]"
   ]
  },
  {
   "cell_type": "code",
   "execution_count": 88,
   "id": "5d80266d",
   "metadata": {},
   "outputs": [
    {
     "data": {
      "text/plain": [
       "'tawamaR ivaR'"
      ]
     },
     "execution_count": 88,
     "metadata": {},
     "output_type": "execute_result"
    }
   ],
   "source": [
    "reverse(\"Ravi Ramawat\") #recursion"
   ]
  },
  {
   "cell_type": "code",
   "execution_count": null,
   "id": "cde65d4c",
   "metadata": {},
   "outputs": [],
   "source": []
  }
 ],
 "metadata": {
  "kernelspec": {
   "display_name": "Python 3 (ipykernel)",
   "language": "python",
   "name": "python3"
  },
  "language_info": {
   "codemirror_mode": {
    "name": "ipython",
    "version": 3
   },
   "file_extension": ".py",
   "mimetype": "text/x-python",
   "name": "python",
   "nbconvert_exporter": "python",
   "pygments_lexer": "ipython3",
   "version": "3.11.4"
  }
 },
 "nbformat": 4,
 "nbformat_minor": 5
}
