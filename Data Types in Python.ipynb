{
 "cells": [
  {
   "cell_type": "markdown",
   "id": "92a1e0c6",
   "metadata": {},
   "source": [
    "# Output / Input "
   ]
  },
  {
   "cell_type": "code",
   "execution_count": 1,
   "id": "5ab731bf",
   "metadata": {},
   "outputs": [
    {
     "name": "stdout",
     "output_type": "stream",
     "text": [
      "This is the output\n"
     ]
    }
   ],
   "source": [
    "print(\"This is the Standard output\") #Standard Output"
   ]
  },
  {
   "cell_type": "code",
   "execution_count": 3,
   "id": "abed4e4f",
   "metadata": {},
   "outputs": [
    {
     "data": {
      "text/plain": [
       "'This is the terminal output'"
      ]
     },
     "execution_count": 3,
     "metadata": {},
     "output_type": "execute_result"
    }
   ],
   "source": [
    "\"This is the terminal output\" #terminal output"
   ]
  },
  {
   "cell_type": "code",
   "execution_count": 4,
   "id": "1d096a37",
   "metadata": {},
   "outputs": [],
   "source": [
    "#IDE --> Integrated Development Environment"
   ]
  },
  {
   "cell_type": "code",
   "execution_count": 5,
   "id": "5eb1a584",
   "metadata": {},
   "outputs": [],
   "source": [
    "#VSCODE\n",
    "#Pycharm\n",
    "#Sublime text\n",
    "#Eclipse"
   ]
  },
  {
   "cell_type": "markdown",
   "id": "b4242b2d",
   "metadata": {},
   "source": [
    "#### Anaconda Package\n",
    "- Jupyter Notebook\n",
    "- Jupyter Lab\n",
    "- Qt Console\n",
    "- Anaconda Shell\n",
    "- Spyder"
   ]
  },
  {
   "cell_type": "code",
   "execution_count": 6,
   "id": "a6946c0b",
   "metadata": {},
   "outputs": [
    {
     "name": "stdout",
     "output_type": "stream",
     "text": [
      "45\n",
      "78\n"
     ]
    }
   ],
   "source": [
    "a = 45\n",
    "b = 78\n",
    "\n",
    "print(a)\n",
    "print(b)"
   ]
  },
  {
   "cell_type": "markdown",
   "id": "9b45cd94",
   "metadata": {},
   "source": [
    "### Input"
   ]
  },
  {
   "cell_type": "code",
   "execution_count": 14,
   "id": "c59496f7",
   "metadata": {},
   "outputs": [
    {
     "name": "stdout",
     "output_type": "stream",
     "text": [
      "Enter the value of a --> 4\n",
      "Enter the value of b --> 5\n",
      "4 + 5 = 45\n"
     ]
    }
   ],
   "source": [
    "a = input(\"Enter the value of a --> \") #string\n",
    "b = input(\"Enter the value of b --> \")\n",
    "print(a,\"+\",b,\"=\",a+b)"
   ]
  },
  {
   "cell_type": "code",
   "execution_count": 15,
   "id": "3a0d8efe",
   "metadata": {},
   "outputs": [
    {
     "name": "stdout",
     "output_type": "stream",
     "text": [
      "Enter the value of a --> 4\n",
      "Enter the value of b --> 5\n",
      "4 + 5 = 9\n"
     ]
    }
   ],
   "source": [
    "a = int(input(\"Enter the value of a --> \")) #int\n",
    "b = int(input(\"Enter the value of b --> \")) #int\n",
    "print(a,\"+\",b,\"=\",a+b)"
   ]
  },
  {
   "cell_type": "code",
   "execution_count": 16,
   "id": "05a0885e",
   "metadata": {},
   "outputs": [
    {
     "name": "stdout",
     "output_type": "stream",
     "text": [
      "45\n"
     ]
    }
   ],
   "source": [
    "a = 23\n",
    "a = 45\n",
    "print(a)"
   ]
  },
  {
   "cell_type": "code",
   "execution_count": 18,
   "id": "0cbbfd11",
   "metadata": {},
   "outputs": [
    {
     "name": "stdout",
     "output_type": "stream",
     "text": [
      "23 140709359621608\n",
      "45 140709359622312\n",
      "23 140709359621608\n"
     ]
    }
   ],
   "source": [
    "a = 23\n",
    "print(a,id(a))\n",
    "a = 45\n",
    "print(a,id(a))\n",
    "b = 23\n",
    "print(b,id(b))"
   ]
  },
  {
   "cell_type": "code",
   "execution_count": 20,
   "id": "0117a654",
   "metadata": {},
   "outputs": [
    {
     "name": "stdout",
     "output_type": "stream",
     "text": [
      "1 140709359620904 1 140709359620904\n"
     ]
    }
   ],
   "source": [
    "a = 1\n",
    "b = 1\n",
    "print(a,id(a),b,id(b))"
   ]
  },
  {
   "cell_type": "code",
   "execution_count": 21,
   "id": "dbb08aee",
   "metadata": {},
   "outputs": [],
   "source": [
    "#This is single line comment"
   ]
  },
  {
   "cell_type": "code",
   "execution_count": 22,
   "id": "583c3beb",
   "metadata": {},
   "outputs": [
    {
     "data": {
      "text/plain": [
       "'This \\nis multiple \\nline \\ncomment'"
      ]
     },
     "execution_count": 22,
     "metadata": {},
     "output_type": "execute_result"
    }
   ],
   "source": [
    "\"\"\"This \n",
    "is multiple \n",
    "line \n",
    "comment\"\"\""
   ]
  },
  {
   "cell_type": "code",
   "execution_count": 23,
   "id": "a96e62e9",
   "metadata": {},
   "outputs": [],
   "source": [
    "# This \n",
    "# is multiple \n",
    "# line \n",
    "# comment"
   ]
  },
  {
   "cell_type": "code",
   "execution_count": 24,
   "id": "4b07998d",
   "metadata": {},
   "outputs": [],
   "source": [
    "#Identifiers"
   ]
  },
  {
   "cell_type": "code",
   "execution_count": 25,
   "id": "7b9b8dc1",
   "metadata": {},
   "outputs": [],
   "source": [
    "#keyword"
   ]
  },
  {
   "cell_type": "code",
   "execution_count": 26,
   "id": "40aa729c",
   "metadata": {},
   "outputs": [
    {
     "name": "stdout",
     "output_type": "stream",
     "text": [
      "\n",
      "Here is a list of the Python keywords.  Enter any keyword to get more help.\n",
      "\n",
      "False               class               from                or\n",
      "None                continue            global              pass\n",
      "True                def                 if                  raise\n",
      "and                 del                 import              return\n",
      "as                  elif                in                  try\n",
      "assert              else                is                  while\n",
      "async               except              lambda              with\n",
      "await               finally             nonlocal            yield\n",
      "break               for                 not                 \n",
      "\n"
     ]
    }
   ],
   "source": [
    "help(\"keywords\")"
   ]
  },
  {
   "cell_type": "markdown",
   "id": "0747cf38",
   "metadata": {},
   "source": [
    "print() #builtins\n",
    "\n",
    "\n",
    "for #keyword"
   ]
  },
  {
   "cell_type": "code",
   "execution_count": 27,
   "id": "974531b1",
   "metadata": {},
   "outputs": [
    {
     "ename": "SyntaxError",
     "evalue": "invalid syntax (3298881240.py, line 1)",
     "output_type": "error",
     "traceback": [
      "\u001b[1;36m  Cell \u001b[1;32mIn[27], line 1\u001b[1;36m\u001b[0m\n\u001b[1;33m    Hello World = 45\u001b[0m\n\u001b[1;37m          ^\u001b[0m\n\u001b[1;31mSyntaxError\u001b[0m\u001b[1;31m:\u001b[0m invalid syntax\n"
     ]
    }
   ],
   "source": [
    "Hello World = 45 #no space"
   ]
  },
  {
   "cell_type": "code",
   "execution_count": 28,
   "id": "f633fe77",
   "metadata": {},
   "outputs": [],
   "source": [
    "hello_world = 45"
   ]
  },
  {
   "cell_type": "code",
   "execution_count": 29,
   "id": "62cfa556",
   "metadata": {},
   "outputs": [
    {
     "name": "stdout",
     "output_type": "stream",
     "text": [
      "45\n"
     ]
    }
   ],
   "source": [
    "print(hello_world)"
   ]
  },
  {
   "cell_type": "code",
   "execution_count": 30,
   "id": "1bc79c24",
   "metadata": {},
   "outputs": [],
   "source": [
    "#a-z,A-Z,0-9,_"
   ]
  },
  {
   "cell_type": "code",
   "execution_count": 31,
   "id": "44b979f6",
   "metadata": {},
   "outputs": [
    {
     "name": "stdout",
     "output_type": "stream",
     "text": [
      "56\n"
     ]
    }
   ],
   "source": [
    "_ = 56\n",
    "print(_)"
   ]
  },
  {
   "cell_type": "code",
   "execution_count": 32,
   "id": "6d4a1830",
   "metadata": {},
   "outputs": [
    {
     "ename": "SyntaxError",
     "evalue": "invalid decimal literal (2046354123.py, line 1)",
     "output_type": "error",
     "traceback": [
      "\u001b[1;36m  Cell \u001b[1;32mIn[32], line 1\u001b[1;36m\u001b[0m\n\u001b[1;33m    934abc = 45\u001b[0m\n\u001b[1;37m      ^\u001b[0m\n\u001b[1;31mSyntaxError\u001b[0m\u001b[1;31m:\u001b[0m invalid decimal literal\n"
     ]
    }
   ],
   "source": [
    "934abc = 45"
   ]
  },
  {
   "cell_type": "code",
   "execution_count": 33,
   "id": "bc30d020",
   "metadata": {},
   "outputs": [
    {
     "ename": "SyntaxError",
     "evalue": "invalid syntax. Maybe you meant '==' or ':=' instead of '='? (2238385264.py, line 1)",
     "output_type": "error",
     "traceback": [
      "\u001b[1;36m  Cell \u001b[1;32mIn[33], line 1\u001b[1;36m\u001b[0m\n\u001b[1;33m    @acs = 34\u001b[0m\n\u001b[1;37m     ^\u001b[0m\n\u001b[1;31mSyntaxError\u001b[0m\u001b[1;31m:\u001b[0m invalid syntax. Maybe you meant '==' or ':=' instead of '='?\n"
     ]
    }
   ],
   "source": [
    "@acs = 34 # no special symbols"
   ]
  },
  {
   "cell_type": "code",
   "execution_count": 35,
   "id": "4d600041",
   "metadata": {},
   "outputs": [
    {
     "ename": "SyntaxError",
     "evalue": "invalid syntax (13801501.py, line 1)",
     "output_type": "error",
     "traceback": [
      "\u001b[1;36m  Cell \u001b[1;32mIn[35], line 1\u001b[1;36m\u001b[0m\n\u001b[1;33m    if = 45 #noo keyword\u001b[0m\n\u001b[1;37m       ^\u001b[0m\n\u001b[1;31mSyntaxError\u001b[0m\u001b[1;31m:\u001b[0m invalid syntax\n"
     ]
    }
   ],
   "source": [
    "if = 45 #no keyword"
   ]
  },
  {
   "cell_type": "markdown",
   "id": "2e9f0b58",
   "metadata": {},
   "source": [
    "# Data Types "
   ]
  },
  {
   "cell_type": "markdown",
   "id": "a5939a7c",
   "metadata": {},
   "source": [
    "- Numbers\n",
    "    - int (234,32,4325,2,-3454,-324,324)\n",
    "    - float(32.4,-343.24,342.34,-2.3,423.4)\n",
    "    - complex (4+2j,6-2j,-4-j)\n",
    "- Sequence\n",
    "    - Strings \"Hello World\"\n",
    "    - Tuple (13,423,5,425)\n",
    "    - List [32423,4,3,42,5,2345]\n",
    "- Dictionary {'a':45,'b':67}\n",
    "- Set {45,34,5,345,45}\n",
    "- Boolean (True False)"
   ]
  },
  {
   "cell_type": "markdown",
   "id": "eb3a0843",
   "metadata": {},
   "source": [
    "### Numbers"
   ]
  },
  {
   "cell_type": "code",
   "execution_count": 36,
   "id": "fc8b47cb",
   "metadata": {},
   "outputs": [
    {
     "name": "stdout",
     "output_type": "stream",
     "text": [
      "2352456324534538252483656892345684598123546278563498659832656 <class 'int'>\n"
     ]
    }
   ],
   "source": [
    "a = 2352456324534538252483656892345684598123546278563498659832656\n",
    "print(a,type(a))"
   ]
  },
  {
   "cell_type": "code",
   "execution_count": 37,
   "id": "b51cdca7",
   "metadata": {},
   "outputs": [
    {
     "name": "stdout",
     "output_type": "stream",
     "text": [
      "(45-3j) <class 'complex'>\n"
     ]
    }
   ],
   "source": [
    "b = 45-3j\n",
    "print(b,type(b))"
   ]
  },
  {
   "cell_type": "code",
   "execution_count": 38,
   "id": "1a3604cb",
   "metadata": {},
   "outputs": [
    {
     "name": "stdout",
     "output_type": "stream",
     "text": [
      "356345.25234235235 <class 'float'>\n"
     ]
    }
   ],
   "source": [
    "c = 356345.25234235235\n",
    "print(c,type(c))"
   ]
  },
  {
   "cell_type": "markdown",
   "id": "81ce51bc",
   "metadata": {},
   "source": [
    "### Sequence"
   ]
  },
  {
   "cell_type": "markdown",
   "id": "261353d4",
   "metadata": {},
   "source": [
    "##### Strings"
   ]
  },
  {
   "cell_type": "code",
   "execution_count": 40,
   "id": "0316e3d6",
   "metadata": {},
   "outputs": [
    {
     "name": "stdout",
     "output_type": "stream",
     "text": [
      "Ravi Ramawat <class 'str'>\n",
      "Ravi Ramawat <class 'str'>\n",
      "Ravi Ramawat <class 'str'>\n",
      "Ravi Ramawat <class 'str'>\n"
     ]
    }
   ],
   "source": [
    "s1 = 'Ravi Ramawat' #single line string\n",
    "s2 = \"Ravi Ramawat\" #single line string\n",
    "s3 = '''Ravi Ramawat''' #multiple line string\n",
    "s4 = \"\"\"Ravi Ramawat\"\"\" #multiple line string\n",
    "\n",
    "print(s1,type(s1))\n",
    "print(s2,type(s2))\n",
    "print(s3,type(s3))\n",
    "print(s4,type(s4))"
   ]
  },
  {
   "cell_type": "code",
   "execution_count": 41,
   "id": "4f0d41fd",
   "metadata": {},
   "outputs": [
    {
     "ename": "SyntaxError",
     "evalue": "unterminated string literal (detected at line 1) (2606807808.py, line 1)",
     "output_type": "error",
     "traceback": [
      "\u001b[1;36m  Cell \u001b[1;32mIn[41], line 1\u001b[1;36m\u001b[0m\n\u001b[1;33m    letter = \"To\u001b[0m\n\u001b[1;37m             ^\u001b[0m\n\u001b[1;31mSyntaxError\u001b[0m\u001b[1;31m:\u001b[0m unterminated string literal (detected at line 1)\n"
     ]
    }
   ],
   "source": [
    "letter = \"To\n",
    "The Principal,\n",
    "\""
   ]
  },
  {
   "cell_type": "code",
   "execution_count": 47,
   "id": "2a56356c",
   "metadata": {},
   "outputs": [],
   "source": [
    "letter = \"\"\"To\n",
    "The Principal,\n",
    "Poornima _______,\n",
    "Jaipur,\n",
    "Rajasthan\n",
    "\n",
    "Subject:-  _______________________________________________\n",
    "\n",
    "Respected Sir,\n",
    "    ____________________________________________________________\n",
    "    ____________________________________________________________\n",
    "    ____________________________________________________________\n",
    "    _____________________________________________________________\n",
    "    \n",
    "Yours Sincerely,\n",
    "XYZ\n",
    "\"\"\""
   ]
  },
  {
   "cell_type": "code",
   "execution_count": 46,
   "id": "c6fde216",
   "metadata": {},
   "outputs": [
    {
     "name": "stdout",
     "output_type": "stream",
     "text": [
      "To\n",
      "The Principal,\n",
      "Poornima _______\n",
      "Jaipur,\n",
      "Rajasthan\n",
      "\n",
      "Subject:-  _______________________________________________\n",
      "\n",
      "Respected Sir,\n",
      "    ____________________________________________________________\n",
      "    ____________________________________________________________\n",
      "    ____________________________________________________________\n",
      "    _____________________________________________________________\n",
      "    \n",
      "Yours Sincerely,\n",
      "XYZ\n",
      "\n"
     ]
    }
   ],
   "source": [
    "print(letter)"
   ]
  },
  {
   "cell_type": "markdown",
   "id": "0a86cd8e",
   "metadata": {},
   "source": [
    "#### Properties of Strings"
   ]
  },
  {
   "cell_type": "markdown",
   "id": "82c5ac84",
   "metadata": {},
   "source": [
    "1. Sequential"
   ]
  },
  {
   "cell_type": "code",
   "execution_count": 58,
   "id": "faf62e8b",
   "metadata": {},
   "outputs": [
    {
     "name": "stdout",
     "output_type": "stream",
     "text": [
      "Hell!\n"
     ]
    }
   ],
   "source": [
    "s = \"Hello World!\"\n",
    "print(s[0],end=\"\")\n",
    "print(s[1],end=\"\")\n",
    "print(s[2],end=\"\")\n",
    "print(s[3],end=\"\")\n",
    "print(s[-1])"
   ]
  },
  {
   "cell_type": "code",
   "execution_count": 59,
   "id": "3ad89013",
   "metadata": {},
   "outputs": [],
   "source": [
    "a = \"Ravi\"\n",
    "b = \"is\"\n",
    "c = \"Awesome\""
   ]
  },
  {
   "cell_type": "code",
   "execution_count": 63,
   "id": "c8a891ca",
   "metadata": {},
   "outputs": [
    {
     "name": "stdout",
     "output_type": "stream",
     "text": [
      "Ravi-------is-------Awesome\n"
     ]
    }
   ],
   "source": [
    "print(a,b,c,sep=\"-------\")"
   ]
  },
  {
   "cell_type": "markdown",
   "id": "a7d5a4f8",
   "metadata": {},
   "source": [
    "2. Ordered"
   ]
  },
  {
   "cell_type": "code",
   "execution_count": 65,
   "id": "08365502",
   "metadata": {},
   "outputs": [
    {
     "name": "stdout",
     "output_type": "stream",
     "text": [
      "Hello World!\n"
     ]
    }
   ],
   "source": [
    "print(s)"
   ]
  },
  {
   "cell_type": "markdown",
   "id": "a683a501",
   "metadata": {},
   "source": [
    "3. Immutable"
   ]
  },
  {
   "cell_type": "code",
   "execution_count": 66,
   "id": "45652734",
   "metadata": {},
   "outputs": [
    {
     "name": "stdout",
     "output_type": "stream",
     "text": [
      "Hello World!\n"
     ]
    }
   ],
   "source": [
    "print(s)"
   ]
  },
  {
   "cell_type": "code",
   "execution_count": 68,
   "id": "8deda417",
   "metadata": {},
   "outputs": [
    {
     "ename": "TypeError",
     "evalue": "'str' object does not support item assignment",
     "output_type": "error",
     "traceback": [
      "\u001b[1;31m---------------------------------------------------------------------------\u001b[0m",
      "\u001b[1;31mTypeError\u001b[0m                                 Traceback (most recent call last)",
      "Cell \u001b[1;32mIn[68], line 1\u001b[0m\n\u001b[1;32m----> 1\u001b[0m s[\u001b[38;5;241m0\u001b[39m] \u001b[38;5;241m=\u001b[39m \u001b[38;5;124m\"\u001b[39m\u001b[38;5;124mZ\u001b[39m\u001b[38;5;124m\"\u001b[39m\n",
      "\u001b[1;31mTypeError\u001b[0m: 'str' object does not support item assignment"
     ]
    }
   ],
   "source": [
    "s[0] = \"Z\""
   ]
  },
  {
   "cell_type": "code",
   "execution_count": 70,
   "id": "5009edb3",
   "metadata": {},
   "outputs": [
    {
     "name": "stdout",
     "output_type": "stream",
     "text": [
      "Hello World! 1305441356336\n",
      "Zello World! 1305441359536\n"
     ]
    }
   ],
   "source": [
    "s = \"Hello World!\"\n",
    "print(s,id(s))\n",
    "s = s.replace(\"H\",\"Z\")\n",
    "print(s,id(s))"
   ]
  },
  {
   "cell_type": "code",
   "execution_count": 71,
   "id": "2d13d0e9",
   "metadata": {},
   "outputs": [],
   "source": [
    "#Escape Sequence"
   ]
  },
  {
   "cell_type": "code",
   "execution_count": 72,
   "id": "d53284bb",
   "metadata": {},
   "outputs": [
    {
     "ename": "SyntaxError",
     "evalue": "invalid syntax (3223732953.py, line 1)",
     "output_type": "error",
     "traceback": [
      "\u001b[1;36m  Cell \u001b[1;32mIn[72], line 1\u001b[1;36m\u001b[0m\n\u001b[1;33m    s = \"He said,\"I am a good boy.\"\"\u001b[0m\n\u001b[1;37m                  ^\u001b[0m\n\u001b[1;31mSyntaxError\u001b[0m\u001b[1;31m:\u001b[0m invalid syntax\n"
     ]
    }
   ],
   "source": [
    "s = \"He said,\"I am a good boy.\"\""
   ]
  },
  {
   "cell_type": "code",
   "execution_count": 74,
   "id": "b9c06c93",
   "metadata": {},
   "outputs": [
    {
     "ename": "SyntaxError",
     "evalue": "unterminated string literal (detected at line 1) (602376399.py, line 1)",
     "output_type": "error",
     "traceback": [
      "\u001b[1;36m  Cell \u001b[1;32mIn[74], line 1\u001b[1;36m\u001b[0m\n\u001b[1;33m    s = 'He said,\"I'm a good boy.\"'\u001b[0m\n\u001b[1;37m                                 ^\u001b[0m\n\u001b[1;31mSyntaxError\u001b[0m\u001b[1;31m:\u001b[0m unterminated string literal (detected at line 1)\n"
     ]
    }
   ],
   "source": [
    "s = 'He said,\"I'm a good boy.\"'\n",
    "print(s)"
   ]
  },
  {
   "cell_type": "code",
   "execution_count": 75,
   "id": "be3b05ad",
   "metadata": {},
   "outputs": [
    {
     "name": "stdout",
     "output_type": "stream",
     "text": [
      "He said,\"I'm a good boy.\" \n"
     ]
    }
   ],
   "source": [
    "s = \"\"\"He said,\"I'm a good boy.\" \"\"\"\n",
    "print(s)"
   ]
  },
  {
   "cell_type": "code",
   "execution_count": 76,
   "id": "850ecabe",
   "metadata": {},
   "outputs": [
    {
     "name": "stdout",
     "output_type": "stream",
     "text": [
      "He said,\"I am a good boy.\"\n"
     ]
    }
   ],
   "source": [
    "s = \"He said,\\\"I am a good boy.\\\"\"\n",
    "print(s)"
   ]
  },
  {
   "cell_type": "code",
   "execution_count": 77,
   "id": "c7a02700",
   "metadata": {},
   "outputs": [
    {
     "name": "stdout",
     "output_type": "stream",
     "text": [
      "Ravi\n",
      "Ramawat\n"
     ]
    }
   ],
   "source": [
    "print(\"Ravi\\nRamawat\")"
   ]
  },
  {
   "cell_type": "code",
   "execution_count": 78,
   "id": "dced46de",
   "metadata": {},
   "outputs": [
    {
     "name": "stdout",
     "output_type": "stream",
     "text": [
      "Ravi\tRamawat\n"
     ]
    }
   ],
   "source": [
    "print(\"Ravi\\tRamawat\")"
   ]
  },
  {
   "cell_type": "code",
   "execution_count": 81,
   "id": "ad69b3a4",
   "metadata": {},
   "outputs": [
    {
     "name": "stdout",
     "output_type": "stream",
     "text": [
      "Python is Awesome\r",
      "123\n"
     ]
    }
   ],
   "source": [
    "print(\"Python is Awesome\\r123\")"
   ]
  },
  {
   "cell_type": "code",
   "execution_count": 83,
   "id": "29fb8410",
   "metadata": {},
   "outputs": [
    {
     "name": "stdout",
     "output_type": "stream",
     "text": [
      "c:\\newfolder\n"
     ]
    }
   ],
   "source": [
    "print(\"c:\\\\newfolder\")"
   ]
  },
  {
   "cell_type": "code",
   "execution_count": 84,
   "id": "546ebe52",
   "metadata": {},
   "outputs": [
    {
     "name": "stdout",
     "output_type": "stream",
     "text": [
      "c:/newfolder\n"
     ]
    }
   ],
   "source": [
    "print(\"c:/newfolder\")"
   ]
  },
  {
   "cell_type": "code",
   "execution_count": 87,
   "id": "79a8798a",
   "metadata": {},
   "outputs": [],
   "source": [
    "#Slicing\n",
    "#methods of String"
   ]
  },
  {
   "cell_type": "code",
   "execution_count": 88,
   "id": "35e20ed1",
   "metadata": {},
   "outputs": [
    {
     "name": "stdout",
     "output_type": "stream",
     "text": [
      "Enter your name --> Ravi Ramawat\n",
      "My name is Ravi Ramawat\n"
     ]
    }
   ],
   "source": [
    "a = input(\"Enter your name --> \")\n",
    "print(f\"My name is {a}\")"
   ]
  },
  {
   "cell_type": "code",
   "execution_count": null,
   "id": "abb83cf4",
   "metadata": {},
   "outputs": [],
   "source": []
  }
 ],
 "metadata": {
  "kernelspec": {
   "display_name": "Python 3 (ipykernel)",
   "language": "python",
   "name": "python3"
  },
  "language_info": {
   "codemirror_mode": {
    "name": "ipython",
    "version": 3
   },
   "file_extension": ".py",
   "mimetype": "text/x-python",
   "name": "python",
   "nbconvert_exporter": "python",
   "pygments_lexer": "ipython3",
   "version": "3.11.4"
  }
 },
 "nbformat": 4,
 "nbformat_minor": 5
}
