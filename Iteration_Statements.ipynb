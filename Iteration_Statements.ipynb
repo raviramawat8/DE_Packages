{
 "cells": [
  {
   "cell_type": "code",
   "execution_count": null,
   "id": "a2bd0172",
   "metadata": {},
   "outputs": [],
   "source": [
    "while \"Ravi\":\n",
    "    print(\"Ravi is Awesome!!\") #INFINITE WHILE LOOP"
   ]
  },
  {
   "cell_type": "code",
   "execution_count": 2,
   "id": "689d4dfa",
   "metadata": {},
   "outputs": [],
   "source": [
    "while None:\n",
    "    print(\"All iz Well!!\")"
   ]
  },
  {
   "cell_type": "code",
   "execution_count": 5,
   "id": "506c2d29",
   "metadata": {},
   "outputs": [
    {
     "name": "stdout",
     "output_type": "stream",
     "text": [
      "Hello World!!\n",
      "Hello World!!\n",
      "Hello World!!\n",
      "Hello World!!\n",
      "Hello World!!\n",
      "Hello World!!\n",
      "Hello World!!\n",
      "Hello World!!\n",
      "Hello World!!\n",
      "Hello World!!\n"
     ]
    }
   ],
   "source": [
    "c = 1\n",
    "while c<=10:\n",
    "    print(\"Hello World!!\")\n",
    "    c+=1 #c=c+1"
   ]
  },
  {
   "cell_type": "code",
   "execution_count": 6,
   "id": "c7e586c8",
   "metadata": {},
   "outputs": [],
   "source": [
    "#WAP to print multiplication table of a given number"
   ]
  },
  {
   "cell_type": "code",
   "execution_count": 14,
   "id": "642eee9a",
   "metadata": {},
   "outputs": [
    {
     "name": "stdout",
     "output_type": "stream",
     "text": [
      "Enter a number --> 50\n",
      "  50  X  1   =  50  \n",
      "  50  X  2   = 100  \n",
      "  50  X  3   = 150  \n",
      "  50  X  4   = 200  \n",
      "  50  X  5   = 250  \n",
      "  50  X  6   = 300  \n",
      "  50  X  7   = 350  \n",
      "  50  X  8   = 400  \n",
      "  50  X  9   = 450  \n",
      "  50  X  10  = 500  \n"
     ]
    }
   ],
   "source": [
    "c = 1\n",
    "n = int(input(\"Enter a number --> \"))\n",
    "while c<=10:\n",
    "    print(f\"{n:^6}X{c:^6}={n*c:^6}\")\n",
    "    c+=1"
   ]
  },
  {
   "cell_type": "code",
   "execution_count": 15,
   "id": "cf595b5d",
   "metadata": {},
   "outputs": [],
   "source": [
    "#WAP to reverse a given string using while loop"
   ]
  },
  {
   "cell_type": "code",
   "execution_count": 23,
   "id": "2e59df5a",
   "metadata": {},
   "outputs": [
    {
     "name": "stdout",
     "output_type": "stream",
     "text": [
      "Enter a string -->Ravi Ramawat\n",
      "tawamaR ivaR"
     ]
    }
   ],
   "source": [
    "s = input(\"Enter a string -->\")\n",
    "c=len(s)-1\n",
    "while c>=0:\n",
    "    print(s[c],end=\"\")\n",
    "    c-=1"
   ]
  },
  {
   "cell_type": "code",
   "execution_count": 18,
   "id": "b799780c",
   "metadata": {},
   "outputs": [
    {
     "name": "stdout",
     "output_type": "stream",
     "text": [
      "Ravi Ramawat 12\n"
     ]
    }
   ],
   "source": [
    "print(s,c)"
   ]
  },
  {
   "cell_type": "code",
   "execution_count": 24,
   "id": "75717757",
   "metadata": {},
   "outputs": [],
   "source": [
    "#WAP to print reverse of a given int number"
   ]
  },
  {
   "cell_type": "code",
   "execution_count": 26,
   "id": "a55a2f01",
   "metadata": {},
   "outputs": [
    {
     "name": "stdout",
     "output_type": "stream",
     "text": [
      "Enter a number -->123456\n",
      "Reverse of 123456 is 654321\n"
     ]
    }
   ],
   "source": [
    "num = int(input(\"Enter a number -->\"))\n",
    "cpy = num\n",
    "res = 0\n",
    "while num!=0:\n",
    "    rem = num%10\n",
    "    res = res * 10 + rem\n",
    "    num = num // 10\n",
    "print(f\"Reverse of {cpy} is {res}\")"
   ]
  },
  {
   "cell_type": "code",
   "execution_count": 27,
   "id": "67775f7b",
   "metadata": {},
   "outputs": [],
   "source": [
    "#FIBONACCI SERIES"
   ]
  },
  {
   "cell_type": "markdown",
   "id": "a1da86d0",
   "metadata": {},
   "source": [
    "0 1 1 2 3 5 8 13 21 34 55 89 144..."
   ]
  },
  {
   "cell_type": "code",
   "execution_count": 30,
   "id": "28f46664",
   "metadata": {},
   "outputs": [
    {
     "name": "stdout",
     "output_type": "stream",
     "text": [
      "Enter the n no of terms --> 10\n",
      "0 1 1 2 3 5 8 13 21 34 "
     ]
    }
   ],
   "source": [
    "n = int(input(\"Enter the n no of terms --> \"))\n",
    "a,b,c = 0,1,1\n",
    "while c<=n:\n",
    "    d = a+b\n",
    "    print(a,end = \" \")\n",
    "    a = b\n",
    "    b = d\n",
    "    c+=1"
   ]
  },
  {
   "cell_type": "code",
   "execution_count": 31,
   "id": "16aa45d7",
   "metadata": {},
   "outputs": [
    {
     "name": "stdout",
     "output_type": "stream",
     "text": [
      "Enter the n no of terms --> 10\n",
      "0 1 1 2 3 5 8 13 21 34 "
     ]
    }
   ],
   "source": [
    "n = int(input(\"Enter the n no of terms --> \"))\n",
    "a,b,c = 0,1,1\n",
    "while c<=n:\n",
    "    print(a,end = \" \")\n",
    "    a,b = b,a+b \n",
    "    c+=1"
   ]
  },
  {
   "cell_type": "code",
   "execution_count": 32,
   "id": "1c67c2f8",
   "metadata": {},
   "outputs": [],
   "source": [
    "a,b = 4,5"
   ]
  },
  {
   "cell_type": "code",
   "execution_count": 33,
   "id": "939aa6c6",
   "metadata": {},
   "outputs": [
    {
     "name": "stdout",
     "output_type": "stream",
     "text": [
      "5 4\n"
     ]
    }
   ],
   "source": [
    "a,b = b,a\n",
    "print(a,b)"
   ]
  },
  {
   "cell_type": "code",
   "execution_count": null,
   "id": "8b03f67d",
   "metadata": {},
   "outputs": [],
   "source": []
  }
 ],
 "metadata": {
  "kernelspec": {
   "display_name": "Python 3 (ipykernel)",
   "language": "python",
   "name": "python3"
  },
  "language_info": {
   "codemirror_mode": {
    "name": "ipython",
    "version": 3
   },
   "file_extension": ".py",
   "mimetype": "text/x-python",
   "name": "python",
   "nbconvert_exporter": "python",
   "pygments_lexer": "ipython3",
   "version": "3.11.4"
  }
 },
 "nbformat": 4,
 "nbformat_minor": 5
}
