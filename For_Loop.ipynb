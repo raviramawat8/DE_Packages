{
 "cells": [
  {
   "cell_type": "code",
   "execution_count": 6,
   "id": "3a150313",
   "metadata": {},
   "outputs": [
    {
     "name": "stdout",
     "output_type": "stream",
     "text": [
      "Enter a string --> Ravi Ramawat is Awesome\n",
      "{'r': 2, 'a': 5, 'v': 1, 'i': 2, 'm': 2, 'w': 2, 't': 1, 's': 2, 'e': 2, 'o': 1}\n"
     ]
    }
   ],
   "source": [
    "s = input('Enter a string --> ').lower().replace(\" \",\"\")\n",
    "d = {}\n",
    "d = d.fromkeys(s,0)\n",
    "c = 0\n",
    "while c<len(s):\n",
    "    if s[c] in d:\n",
    "        d[s[c]]+=1\n",
    "    c+=1\n",
    "print(d)"
   ]
  },
  {
   "cell_type": "code",
   "execution_count": 7,
   "id": "55989a6d",
   "metadata": {},
   "outputs": [
    {
     "name": "stdout",
     "output_type": "stream",
     "text": [
      "raviramawatisawesome\n"
     ]
    }
   ],
   "source": [
    "#Step 1 --> s = Ravi Ramawat is Awesome\n",
    "s = \"Ravi Ramawat is Awesome\".lower().replace(\" \",\"\")\n",
    "print(s)"
   ]
  },
  {
   "cell_type": "code",
   "execution_count": 8,
   "id": "1aa00946",
   "metadata": {},
   "outputs": [
    {
     "name": "stdout",
     "output_type": "stream",
     "text": [
      "{'r': 0, 'a': 0, 'v': 0, 'i': 0, 'm': 0, 'w': 0, 't': 0, 's': 0, 'e': 0, 'o': 0}\n"
     ]
    }
   ],
   "source": [
    "#Step 2 --> \n",
    "d = {}\n",
    "d = d.fromkeys(s,0)\n",
    "print(d)"
   ]
  },
  {
   "cell_type": "code",
   "execution_count": 12,
   "id": "4ee746b6",
   "metadata": {},
   "outputs": [
    {
     "name": "stdout",
     "output_type": "stream",
     "text": [
      "{'r': 7, 'a': 15, 'v': 3, 'i': 6, 'm': 6, 'w': 6, 't': 3, 's': 6, 'e': 6, 'o': 3}\n",
      "{'r': 7, 'a': 16, 'v': 3, 'i': 6, 'm': 6, 'w': 6, 't': 3, 's': 6, 'e': 6, 'o': 3}\n",
      "{'r': 7, 'a': 16, 'v': 4, 'i': 6, 'm': 6, 'w': 6, 't': 3, 's': 6, 'e': 6, 'o': 3}\n",
      "{'r': 7, 'a': 16, 'v': 4, 'i': 7, 'm': 6, 'w': 6, 't': 3, 's': 6, 'e': 6, 'o': 3}\n",
      "{'r': 8, 'a': 16, 'v': 4, 'i': 7, 'm': 6, 'w': 6, 't': 3, 's': 6, 'e': 6, 'o': 3}\n",
      "{'r': 8, 'a': 17, 'v': 4, 'i': 7, 'm': 6, 'w': 6, 't': 3, 's': 6, 'e': 6, 'o': 3}\n",
      "{'r': 8, 'a': 17, 'v': 4, 'i': 7, 'm': 7, 'w': 6, 't': 3, 's': 6, 'e': 6, 'o': 3}\n",
      "{'r': 8, 'a': 18, 'v': 4, 'i': 7, 'm': 7, 'w': 6, 't': 3, 's': 6, 'e': 6, 'o': 3}\n",
      "{'r': 8, 'a': 18, 'v': 4, 'i': 7, 'm': 7, 'w': 7, 't': 3, 's': 6, 'e': 6, 'o': 3}\n",
      "{'r': 8, 'a': 19, 'v': 4, 'i': 7, 'm': 7, 'w': 7, 't': 3, 's': 6, 'e': 6, 'o': 3}\n",
      "{'r': 8, 'a': 19, 'v': 4, 'i': 7, 'm': 7, 'w': 7, 't': 4, 's': 6, 'e': 6, 'o': 3}\n",
      "{'r': 8, 'a': 19, 'v': 4, 'i': 8, 'm': 7, 'w': 7, 't': 4, 's': 6, 'e': 6, 'o': 3}\n",
      "{'r': 8, 'a': 19, 'v': 4, 'i': 8, 'm': 7, 'w': 7, 't': 4, 's': 7, 'e': 6, 'o': 3}\n",
      "{'r': 8, 'a': 20, 'v': 4, 'i': 8, 'm': 7, 'w': 7, 't': 4, 's': 7, 'e': 6, 'o': 3}\n",
      "{'r': 8, 'a': 20, 'v': 4, 'i': 8, 'm': 7, 'w': 8, 't': 4, 's': 7, 'e': 6, 'o': 3}\n",
      "{'r': 8, 'a': 20, 'v': 4, 'i': 8, 'm': 7, 'w': 8, 't': 4, 's': 7, 'e': 7, 'o': 3}\n",
      "{'r': 8, 'a': 20, 'v': 4, 'i': 8, 'm': 7, 'w': 8, 't': 4, 's': 8, 'e': 7, 'o': 3}\n",
      "{'r': 8, 'a': 20, 'v': 4, 'i': 8, 'm': 7, 'w': 8, 't': 4, 's': 8, 'e': 7, 'o': 4}\n",
      "{'r': 8, 'a': 20, 'v': 4, 'i': 8, 'm': 8, 'w': 8, 't': 4, 's': 8, 'e': 7, 'o': 4}\n",
      "{'r': 8, 'a': 20, 'v': 4, 'i': 8, 'm': 8, 'w': 8, 't': 4, 's': 8, 'e': 8, 'o': 4}\n"
     ]
    }
   ],
   "source": [
    "c = 0\n",
    "while c<len(s):\n",
    "    if s[c] in d:\n",
    "        d[s[c]]+=1\n",
    "    print(d)\n",
    "    c+=1"
   ]
  },
  {
   "cell_type": "markdown",
   "id": "6cd281c8",
   "metadata": {},
   "source": [
    "# FOR LOOP"
   ]
  },
  {
   "cell_type": "markdown",
   "id": "4a1b05d8",
   "metadata": {},
   "source": [
    "1. iterables\n",
    "2. range"
   ]
  },
  {
   "cell_type": "code",
   "execution_count": 13,
   "id": "2b8fbf8a",
   "metadata": {},
   "outputs": [],
   "source": [
    "#iterable"
   ]
  },
  {
   "cell_type": "markdown",
   "id": "f48bb69b",
   "metadata": {},
   "source": [
    "    for variable in iterable:\n",
    "        Statement....1\n",
    "        Statement....2\n",
    "        Statement....3\n",
    "        Statement....n"
   ]
  },
  {
   "cell_type": "code",
   "execution_count": 15,
   "id": "d3cca24b",
   "metadata": {},
   "outputs": [
    {
     "name": "stdout",
     "output_type": "stream",
     "text": [
      "I love my India\n",
      "I love my India\n",
      "I love my India\n",
      "I love my India\n"
     ]
    }
   ],
   "source": [
    "for var in \"Ravi\": #length of iterable\n",
    "    print(\"I love my India\")"
   ]
  },
  {
   "cell_type": "code",
   "execution_count": 20,
   "id": "ddb3a7d9",
   "metadata": {},
   "outputs": [],
   "source": [
    "for var in \"\":\n",
    "    print(\"All iz well\")"
   ]
  },
  {
   "cell_type": "code",
   "execution_count": 23,
   "id": "1b3c863d",
   "metadata": {},
   "outputs": [
    {
     "ename": "TypeError",
     "evalue": "'int' object is not iterable",
     "output_type": "error",
     "traceback": [
      "\u001b[1;31m---------------------------------------------------------------------------\u001b[0m",
      "\u001b[1;31mTypeError\u001b[0m                                 Traceback (most recent call last)",
      "Cell \u001b[1;32mIn[23], line 1\u001b[0m\n\u001b[1;32m----> 1\u001b[0m \u001b[38;5;28;01mfor\u001b[39;00m var \u001b[38;5;129;01min\u001b[39;00m \u001b[38;5;241m5\u001b[39m:\n\u001b[0;32m      2\u001b[0m     \u001b[38;5;28mprint\u001b[39m(\u001b[38;5;124m\"\u001b[39m\u001b[38;5;124mHello Hi Bye Bye\u001b[39m\u001b[38;5;124m\"\u001b[39m)\n",
      "\u001b[1;31mTypeError\u001b[0m: 'int' object is not iterable"
     ]
    }
   ],
   "source": [
    "for var in 5:\n",
    "    print(\"Hello Hi Bye Bye\")"
   ]
  },
  {
   "cell_type": "code",
   "execution_count": 30,
   "id": "b1574cb5",
   "metadata": {},
   "outputs": [
    {
     "name": "stdout",
     "output_type": "stream",
     "text": [
      "Enter a given String -->Ravi Ramawat\n",
      "R\n",
      "a\n",
      "v\n",
      "i\n",
      " \n",
      "R\n",
      "a\n",
      "m\n",
      "a\n",
      "w\n",
      "a\n",
      "t\n"
     ]
    }
   ],
   "source": [
    "s = input(\"Enter a given String -->\")\n",
    "for var in s:\n",
    "    print(var)"
   ]
  },
  {
   "cell_type": "code",
   "execution_count": 28,
   "id": "066c6d56",
   "metadata": {},
   "outputs": [],
   "source": [
    "#for loop execution"
   ]
  },
  {
   "cell_type": "code",
   "execution_count": 31,
   "id": "459b2fcb",
   "metadata": {},
   "outputs": [],
   "source": [
    "# var = R\n",
    "# var = a\n",
    "# var = v\n",
    "# var = i\n",
    "# var = \n",
    "# var = R\n",
    "# var = a\n",
    "# var = m\n",
    "# var = a\n",
    "# var = w\n",
    "# var = a\n",
    "# var = t"
   ]
  },
  {
   "cell_type": "code",
   "execution_count": 34,
   "id": "e3d2bdb8",
   "metadata": {},
   "outputs": [
    {
     "name": "stdout",
     "output_type": "stream",
     "text": [
      "* * * * * \n",
      "* * * * * \n",
      "* * * * * \n",
      "* * * * * \n"
     ]
    }
   ],
   "source": [
    "for var in \"RAVI\":\n",
    "    print(\"* \"*5)"
   ]
  },
  {
   "cell_type": "code",
   "execution_count": 35,
   "id": "fcf5deb5",
   "metadata": {},
   "outputs": [],
   "source": [
    "#WAP to fetch 1st letter of all the words given in the string"
   ]
  },
  {
   "cell_type": "code",
   "execution_count": 38,
   "id": "21e8b34b",
   "metadata": {},
   "outputs": [
    {
     "name": "stdout",
     "output_type": "stream",
     "text": [
      "H\n",
      "M\n",
      "n\n",
      "i\n",
      "R\n",
      "R\n",
      "a\n",
      "I\n",
      "a\n",
      "w\n",
      "a\n",
      "a\n",
      "D\n",
      "S\n"
     ]
    }
   ],
   "source": [
    "s = \"Hey My name is Ravi Ramawat and I am working as a Data Scientist.\"\n",
    "for word in s.split():\n",
    "    print(word[0])"
   ]
  },
  {
   "cell_type": "code",
   "execution_count": 39,
   "id": "9686b652",
   "metadata": {},
   "outputs": [],
   "source": [
    "#WAP to check no letters in a given string using for loop (use dict for optimization)"
   ]
  },
  {
   "cell_type": "code",
   "execution_count": 40,
   "id": "6c3a33d9",
   "metadata": {},
   "outputs": [],
   "source": [
    "#WAP to check whether a given character is vowel or not"
   ]
  },
  {
   "cell_type": "code",
   "execution_count": 43,
   "id": "a413f0a0",
   "metadata": {},
   "outputs": [
    {
     "name": "stdout",
     "output_type": "stream",
     "text": [
      "Enter a character -->  b\n",
      "Consonant\n"
     ]
    }
   ],
   "source": [
    "ch = input(\"Enter a character --> \").lower().strip()\n",
    "if ch in \"aeiou\":\n",
    "    print(\"Vowel\")\n",
    "else:\n",
    "    print(\"Consonant\")"
   ]
  },
  {
   "cell_type": "code",
   "execution_count": 44,
   "id": "35f8b468",
   "metadata": {},
   "outputs": [],
   "source": [
    "#WAP to print FIBONACCI SERIES using for loop"
   ]
  },
  {
   "cell_type": "code",
   "execution_count": 45,
   "id": "d850ddee",
   "metadata": {},
   "outputs": [],
   "source": [
    "#WAP to print whether a number is prime or non-prime using for loop(Optimized)"
   ]
  },
  {
   "cell_type": "code",
   "execution_count": null,
   "id": "0e8cbe15",
   "metadata": {},
   "outputs": [],
   "source": []
  }
 ],
 "metadata": {
  "kernelspec": {
   "display_name": "Python 3 (ipykernel)",
   "language": "python",
   "name": "python3"
  },
  "language_info": {
   "codemirror_mode": {
    "name": "ipython",
    "version": 3
   },
   "file_extension": ".py",
   "mimetype": "text/x-python",
   "name": "python",
   "nbconvert_exporter": "python",
   "pygments_lexer": "ipython3",
   "version": "3.11.4"
  }
 },
 "nbformat": 4,
 "nbformat_minor": 5
}
