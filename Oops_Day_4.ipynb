{
 "cells": [
  {
   "cell_type": "code",
   "execution_count": 1,
   "id": "0dc70099",
   "metadata": {},
   "outputs": [],
   "source": [
    "#MRO (Method resolution order)"
   ]
  },
  {
   "cell_type": "code",
   "execution_count": 2,
   "id": "d826772e",
   "metadata": {},
   "outputs": [],
   "source": [
    "#Multiple Inheritance"
   ]
  },
  {
   "cell_type": "code",
   "execution_count": 3,
   "id": "35eb6107",
   "metadata": {},
   "outputs": [],
   "source": [
    "#Base1  #Base2  #Devrived class"
   ]
  },
  {
   "cell_type": "code",
   "execution_count": 11,
   "id": "52982634",
   "metadata": {},
   "outputs": [],
   "source": [
    "class Father:\n",
    "    def Pocket_Money(self):\n",
    "        return \"Father is the source of Money and Love\"\n",
    "    def channel(self):\n",
    "        return \"Father asked to set the channel on News\"\n",
    "    \n",
    "class Mother:\n",
    "    def Food(self):\n",
    "        return \"Mother is the source of food and Love\"\n",
    "    def channel(self):\n",
    "        return \"Mother asked to set the channel on Serials\"\n",
    "        \n",
    "class Child(Mother,Father):\n",
    "    pass"
   ]
  },
  {
   "cell_type": "code",
   "execution_count": 12,
   "id": "671a143e",
   "metadata": {},
   "outputs": [
    {
     "name": "stdout",
     "output_type": "stream",
     "text": [
      "Father is the source of Money and Love\n",
      "Mother is the source of food and Love\n",
      "Mother asked to set the channel on Serials\n"
     ]
    }
   ],
   "source": [
    "c1 = Child()\n",
    "print(c1.Pocket_Money())\n",
    "print(c1.Food())\n",
    "print(c1.channel())"
   ]
  },
  {
   "cell_type": "code",
   "execution_count": null,
   "id": "783a3d84",
   "metadata": {},
   "outputs": [],
   "source": []
  }
 ],
 "metadata": {
  "kernelspec": {
   "display_name": "Python 3 (ipykernel)",
   "language": "python",
   "name": "python3"
  },
  "language_info": {
   "codemirror_mode": {
    "name": "ipython",
    "version": 3
   },
   "file_extension": ".py",
   "mimetype": "text/x-python",
   "name": "python",
   "nbconvert_exporter": "python",
   "pygments_lexer": "ipython3",
   "version": "3.11.4"
  }
 },
 "nbformat": 4,
 "nbformat_minor": 5
}
