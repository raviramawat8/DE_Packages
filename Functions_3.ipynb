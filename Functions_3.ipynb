{
 "cells": [
  {
   "cell_type": "markdown",
   "id": "238055b6",
   "metadata": {},
   "source": [
    "# Scope "
   ]
  },
  {
   "cell_type": "code",
   "execution_count": 1,
   "id": "140b1b72",
   "metadata": {},
   "outputs": [],
   "source": [
    "#NAME_SPACE"
   ]
  },
  {
   "cell_type": "code",
   "execution_count": 4,
   "id": "58015caf",
   "metadata": {},
   "outputs": [
    {
     "name": "stdout",
     "output_type": "stream",
     "text": [
      "__main__\n"
     ]
    }
   ],
   "source": [
    "print(__name__)"
   ]
  },
  {
   "cell_type": "code",
   "execution_count": 5,
   "id": "c435610a",
   "metadata": {},
   "outputs": [
    {
     "name": "stdout",
     "output_type": "stream",
     "text": [
      "55\n"
     ]
    },
    {
     "ename": "NameError",
     "evalue": "name 'x' is not defined",
     "output_type": "error",
     "traceback": [
      "\u001b[1;31m---------------------------------------------------------------------------\u001b[0m",
      "\u001b[1;31mNameError\u001b[0m                                 Traceback (most recent call last)",
      "Cell \u001b[1;32mIn[5], line 5\u001b[0m\n\u001b[0;32m      3\u001b[0m     \u001b[38;5;28mprint\u001b[39m(x)\n\u001b[0;32m      4\u001b[0m hello()\n\u001b[1;32m----> 5\u001b[0m \u001b[38;5;28mprint\u001b[39m(x)\n",
      "\u001b[1;31mNameError\u001b[0m: name 'x' is not defined"
     ]
    }
   ],
   "source": [
    "def hello():\n",
    "    x = 55 #local variable\n",
    "    print(x)\n",
    "hello()\n",
    "print(x)"
   ]
  },
  {
   "cell_type": "code",
   "execution_count": 8,
   "id": "63da0c6b",
   "metadata": {},
   "outputs": [
    {
     "name": "stdout",
     "output_type": "stream",
     "text": [
      "Value of X inside hello function is 5\n",
      "Value of X outside hello function is 5\n"
     ]
    }
   ],
   "source": [
    "x = 5 #global Variable\n",
    "def hello():\n",
    "    print(f\"Value of X inside hello function is {x}\")\n",
    "\n",
    "hello()\n",
    "print(f\"Value of X outside hello function is {x}\")"
   ]
  },
  {
   "cell_type": "code",
   "execution_count": 9,
   "id": "34de1645",
   "metadata": {},
   "outputs": [
    {
     "name": "stdout",
     "output_type": "stream",
     "text": [
      "Value of X inside hello function is 3\n",
      "Value of X outside hello function is 5\n"
     ]
    }
   ],
   "source": [
    "x = 5 #global Variable\n",
    "def hello():\n",
    "    x = 3 #local variable\n",
    "    print(f\"Value of X inside hello function is {x}\")\n",
    "\n",
    "hello()\n",
    "print(f\"Value of X outside hello function is {x}\")"
   ]
  },
  {
   "cell_type": "code",
   "execution_count": 4,
   "id": "dba3b53f",
   "metadata": {},
   "outputs": [
    {
     "name": "stdout",
     "output_type": "stream",
     "text": [
      "Value of X inside hello function is 3\n",
      "Value of X outside hello function is 3\n"
     ]
    }
   ],
   "source": [
    "def hello():\n",
    "    global x\n",
    "    x = 3 #local variable\n",
    "    print(f\"Value of X inside hello function is {x}\")\n",
    "\n",
    "hello()\n",
    "print(f\"Value of X outside hello function is {x}\")"
   ]
  },
  {
   "cell_type": "code",
   "execution_count": 7,
   "id": "82257367",
   "metadata": {},
   "outputs": [
    {
     "name": "stdout",
     "output_type": "stream",
     "text": [
      "Value of X inside hello function is 8\n",
      "Value of X outside hello function is 8\n"
     ]
    }
   ],
   "source": [
    "x = 5 #global Variable\n",
    "def hello():\n",
    "    global x\n",
    "    x+=3 #local variable\n",
    "    print(f\"Value of X inside hello function is {x}\")\n",
    "\n",
    "hello()\n",
    "print(f\"Value of X outside hello function is {x}\")"
   ]
  },
  {
   "cell_type": "markdown",
   "id": "a559c046",
   "metadata": {},
   "source": [
    "# MAP, FILTER, REDUCE"
   ]
  },
  {
   "cell_type": "code",
   "execution_count": 8,
   "id": "de300e85",
   "metadata": {},
   "outputs": [],
   "source": [
    "#MAP"
   ]
  },
  {
   "cell_type": "code",
   "execution_count": 9,
   "id": "87e2c028",
   "metadata": {},
   "outputs": [],
   "source": [
    "#map(func,iterable)"
   ]
  },
  {
   "cell_type": "code",
   "execution_count": 10,
   "id": "f1c8819c",
   "metadata": {},
   "outputs": [],
   "source": [
    "def add_s(word):\n",
    "    return word+\"s\""
   ]
  },
  {
   "cell_type": "code",
   "execution_count": 14,
   "id": "53178e58",
   "metadata": {},
   "outputs": [
    {
     "data": {
      "text/plain": [
       "['Cars', 'Bikes', 'Cycles', 'Pens', 'Pencils']"
      ]
     },
     "execution_count": 14,
     "metadata": {},
     "output_type": "execute_result"
    }
   ],
   "source": [
    "list(map(add_s,[\"Car\",\"Bike\",\"Cycle\",\"Pen\",\"Pencil\"]))"
   ]
  },
  {
   "cell_type": "code",
   "execution_count": 16,
   "id": "b874c164",
   "metadata": {},
   "outputs": [
    {
     "name": "stdout",
     "output_type": "stream",
     "text": [
      "3 4 5 6 7 8 9 3 4 5 6\n"
     ]
    }
   ],
   "source": [
    "a = input().split()\n",
    "l = []\n",
    "for var in a:\n",
    "    l.append(int(var))"
   ]
  },
  {
   "cell_type": "code",
   "execution_count": 19,
   "id": "1f8f83e6",
   "metadata": {},
   "outputs": [
    {
     "name": "stdout",
     "output_type": "stream",
     "text": [
      "3 4 5 6 76 4 3 23 43\n"
     ]
    },
    {
     "data": {
      "text/plain": [
       "[3, 4, 5, 6, 76, 4, 3, 23, 43]"
      ]
     },
     "execution_count": 19,
     "metadata": {},
     "output_type": "execute_result"
    }
   ],
   "source": [
    "list(map(int,input().split()))"
   ]
  },
  {
   "cell_type": "code",
   "execution_count": 18,
   "id": "9e4931b8",
   "metadata": {},
   "outputs": [
    {
     "data": {
      "text/plain": [
       "[3, 4, 5, 6, 7, 8, 9, 3, 4, 5, 6]"
      ]
     },
     "execution_count": 18,
     "metadata": {},
     "output_type": "execute_result"
    }
   ],
   "source": [
    "l"
   ]
  },
  {
   "cell_type": "code",
   "execution_count": 20,
   "id": "206ffc29",
   "metadata": {},
   "outputs": [],
   "source": [
    "check = lambda num: True if num%2==0 else False"
   ]
  },
  {
   "cell_type": "code",
   "execution_count": 21,
   "id": "0cb0454c",
   "metadata": {},
   "outputs": [],
   "source": [
    "from random import randint"
   ]
  },
  {
   "cell_type": "code",
   "execution_count": 23,
   "id": "1abb9d6d",
   "metadata": {},
   "outputs": [
    {
     "name": "stdout",
     "output_type": "stream",
     "text": [
      "[False, True, True, False, False, False, True, True, True, True]\n",
      "[81, 94, 56, 87, 99, 53, 96, 66, 58, 12]\n"
     ]
    }
   ],
   "source": [
    "l = [randint(1,100) for var in range(10)]\n",
    "print(list(map(check,l)))\n",
    "print(l)"
   ]
  },
  {
   "cell_type": "code",
   "execution_count": 24,
   "id": "e5c9c6cf",
   "metadata": {},
   "outputs": [],
   "source": [
    "#filter(func,iterable)"
   ]
  },
  {
   "cell_type": "code",
   "execution_count": 25,
   "id": "5d12e1da",
   "metadata": {},
   "outputs": [
    {
     "name": "stdout",
     "output_type": "stream",
     "text": [
      "[94, 56, 96, 66, 58, 12]\n",
      "[81, 94, 56, 87, 99, 53, 96, 66, 58, 12]\n"
     ]
    }
   ],
   "source": [
    "print(list(filter(check,l)))\n",
    "print(l)"
   ]
  },
  {
   "cell_type": "code",
   "execution_count": 26,
   "id": "4eafc1ac",
   "metadata": {},
   "outputs": [],
   "source": [
    "#reduce"
   ]
  },
  {
   "cell_type": "code",
   "execution_count": 31,
   "id": "02cdaf55",
   "metadata": {},
   "outputs": [],
   "source": [
    "def add(a,b):\n",
    "    return a*b"
   ]
  },
  {
   "cell_type": "code",
   "execution_count": 32,
   "id": "f2c0ba19",
   "metadata": {},
   "outputs": [],
   "source": [
    "from functools import reduce"
   ]
  },
  {
   "cell_type": "code",
   "execution_count": 33,
   "id": "b7d4daef",
   "metadata": {},
   "outputs": [
    {
     "data": {
      "text/plain": [
       "213459046313154969600"
      ]
     },
     "execution_count": 33,
     "metadata": {},
     "output_type": "execute_result"
    }
   ],
   "source": [
    "reduce(add,[12,312,4,1,324,23,5,436,534,5,24,3423,4])"
   ]
  },
  {
   "cell_type": "code",
   "execution_count": 30,
   "id": "ce650f2f",
   "metadata": {},
   "outputs": [
    {
     "data": {
      "text/plain": [
       "5107"
      ]
     },
     "execution_count": 30,
     "metadata": {},
     "output_type": "execute_result"
    }
   ],
   "source": [
    "sum([12,312,4,1,324,23,5,436,534,5,24,3423,4])"
   ]
  },
  {
   "cell_type": "code",
   "execution_count": 34,
   "id": "725f6b1f",
   "metadata": {},
   "outputs": [],
   "source": [
    "#closures"
   ]
  },
  {
   "cell_type": "code",
   "execution_count": 35,
   "id": "cb3ac8ba",
   "metadata": {},
   "outputs": [],
   "source": [
    "#decorators"
   ]
  },
  {
   "cell_type": "code",
   "execution_count": null,
   "id": "46a06bb9",
   "metadata": {},
   "outputs": [],
   "source": []
  }
 ],
 "metadata": {
  "kernelspec": {
   "display_name": "Python 3 (ipykernel)",
   "language": "python",
   "name": "python3"
  },
  "language_info": {
   "codemirror_mode": {
    "name": "ipython",
    "version": 3
   },
   "file_extension": ".py",
   "mimetype": "text/x-python",
   "name": "python",
   "nbconvert_exporter": "python",
   "pygments_lexer": "ipython3",
   "version": "3.11.4"
  }
 },
 "nbformat": 4,
 "nbformat_minor": 5
}
