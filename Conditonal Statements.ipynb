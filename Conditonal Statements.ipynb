{
 "cells": [
  {
   "cell_type": "code",
   "execution_count": 14,
   "id": "c3b0e130",
   "metadata": {},
   "outputs": [
    {
     "name": "stdout",
     "output_type": "stream",
     "text": [
      "Enter the amount --> 200\n",
      "No of 200 notes --> 1\n"
     ]
    }
   ],
   "source": [
    "amount = int(input(\"Enter the amount --> \"))\n",
    "\n",
    "notes_500 = amount//500\n",
    "amount = amount%500\n",
    "\n",
    "notes_200 = amount//200\n",
    "amount = amount%200\n",
    "\n",
    "notes_100 = amount//100\n",
    "amount = amount%100\n",
    "\n",
    "notes_50 = amount//50\n",
    "amount = amount%50\n",
    "\n",
    "notes_20 = amount//20\n",
    "amount = amount%20\n",
    "\n",
    "notes_10 = amount//10\n",
    "amount = amount%10\n",
    "\n",
    "coin_5 = amount//5\n",
    "amount = amount%5\n",
    "\n",
    "coin_2 = amount//2\n",
    "amount = amount%2\n",
    "\n",
    "coin_1 = amount//1\n",
    "amount = amount%1\n",
    "\n",
    "if notes_500:\n",
    "    print(f\"No of 500 notes --> {notes_500}\")\n",
    "if notes_200:\n",
    "    print(f\"No of 200 notes --> {notes_200}\")\n",
    "if notes_100:\n",
    "    print(f\"No of 100 notes --> {notes_100}\")\n",
    "if notes_50:\n",
    "    print(f\"No of 50 notes --> {notes_50}\")\n",
    "if notes_20:\n",
    "    print(f\"No of 20 notes --> {notes_20}\")\n",
    "if notes_10:\n",
    "    print(f\"No of 10 notes --> {notes_10}\")\n",
    "if coin_5:\n",
    "    print(f\"No of 5 Coins --> {coin_5}\")\n",
    "if coin_2:\n",
    "    print(f\"No of 2 Coins --> {coin_2}\")\n",
    "if coin_1:\n",
    "    print(f\"No of 1 Coins --> {coin_1}\")"
   ]
  },
  {
   "cell_type": "code",
   "execution_count": 3,
   "id": "40d63a01",
   "metadata": {},
   "outputs": [
    {
     "data": {
      "text/plain": [
       "11"
      ]
     },
     "execution_count": 3,
     "metadata": {},
     "output_type": "execute_result"
    }
   ],
   "source": [
    "5500 // 500"
   ]
  },
  {
   "cell_type": "code",
   "execution_count": 4,
   "id": "bff37049",
   "metadata": {},
   "outputs": [
    {
     "data": {
      "text/plain": [
       "0"
      ]
     },
     "execution_count": 4,
     "metadata": {},
     "output_type": "execute_result"
    }
   ],
   "source": []
  },
  {
   "cell_type": "code",
   "execution_count": 12,
   "id": "6cb83601",
   "metadata": {},
   "outputs": [
    {
     "data": {
      "text/plain": [
       "555231"
      ]
     },
     "execution_count": 12,
     "metadata": {},
     "output_type": "execute_result"
    }
   ],
   "source": [
    "1110*500+200+20+10+1"
   ]
  },
  {
   "cell_type": "code",
   "execution_count": null,
   "id": "6794f64c",
   "metadata": {},
   "outputs": [],
   "source": []
  }
 ],
 "metadata": {
  "kernelspec": {
   "display_name": "Python 3 (ipykernel)",
   "language": "python",
   "name": "python3"
  },
  "language_info": {
   "codemirror_mode": {
    "name": "ipython",
    "version": 3
   },
   "file_extension": ".py",
   "mimetype": "text/x-python",
   "name": "python",
   "nbconvert_exporter": "python",
   "pygments_lexer": "ipython3",
   "version": "3.11.4"
  }
 },
 "nbformat": 4,
 "nbformat_minor": 5
}
