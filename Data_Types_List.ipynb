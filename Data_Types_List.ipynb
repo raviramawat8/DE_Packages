{
 "cells": [
  {
   "cell_type": "markdown",
   "id": "1215e1a6",
   "metadata": {},
   "source": [
    "# Methods of list "
   ]
  },
  {
   "cell_type": "code",
   "execution_count": 1,
   "id": "71c874de",
   "metadata": {},
   "outputs": [
    {
     "name": "stdout",
     "output_type": "stream",
     "text": [
      "['__add__', '__class__', '__class_getitem__', '__contains__', '__delattr__', '__delitem__', '__dir__', '__doc__', '__eq__', '__format__', '__ge__', '__getattribute__', '__getitem__', '__getstate__', '__gt__', '__hash__', '__iadd__', '__imul__', '__init__', '__init_subclass__', '__iter__', '__le__', '__len__', '__lt__', '__mul__', '__ne__', '__new__', '__reduce__', '__reduce_ex__', '__repr__', '__reversed__', '__rmul__', '__setattr__', '__setitem__', '__sizeof__', '__str__', '__subclasshook__', 'append', 'clear', 'copy', 'count', 'extend', 'index', 'insert', 'pop', 'remove', 'reverse', 'sort']\n"
     ]
    }
   ],
   "source": [
    "l = [1,2,3]\n",
    "print(dir(l))"
   ]
  },
  {
   "cell_type": "code",
   "execution_count": 2,
   "id": "fde6107e",
   "metadata": {},
   "outputs": [
    {
     "name": "stdout",
     "output_type": "stream",
     "text": [
      "[1, 2, 3]\n"
     ]
    }
   ],
   "source": [
    "print(l)"
   ]
  },
  {
   "cell_type": "code",
   "execution_count": 3,
   "id": "a851fd3f",
   "metadata": {},
   "outputs": [],
   "source": [
    "a = l.append(6)"
   ]
  },
  {
   "cell_type": "code",
   "execution_count": 4,
   "id": "87bd05d9",
   "metadata": {},
   "outputs": [
    {
     "name": "stdout",
     "output_type": "stream",
     "text": [
      "None\n"
     ]
    }
   ],
   "source": [
    "print(a)"
   ]
  },
  {
   "cell_type": "code",
   "execution_count": 8,
   "id": "6b356c4c",
   "metadata": {},
   "outputs": [
    {
     "name": "stdout",
     "output_type": "stream",
     "text": [
      "[1, 2, 3, 6]\n"
     ]
    }
   ],
   "source": [
    "print(l)"
   ]
  },
  {
   "cell_type": "code",
   "execution_count": 5,
   "id": "e37c315a",
   "metadata": {},
   "outputs": [
    {
     "name": "stdout",
     "output_type": "stream",
     "text": [
      "Ravi is Awesome!!\n"
     ]
    }
   ],
   "source": [
    "a = print(\"Ravi is Awesome!!\")"
   ]
  },
  {
   "cell_type": "code",
   "execution_count": 6,
   "id": "8e74f384",
   "metadata": {},
   "outputs": [
    {
     "name": "stdout",
     "output_type": "stream",
     "text": [
      "None\n"
     ]
    }
   ],
   "source": [
    "print(a)"
   ]
  },
  {
   "cell_type": "code",
   "execution_count": 7,
   "id": "f68e563a",
   "metadata": {},
   "outputs": [
    {
     "name": "stdout",
     "output_type": "stream",
     "text": [
      "Ravi Ramawat\n",
      "None\n",
      "None\n",
      "None\n",
      "None\n",
      "None\n"
     ]
    }
   ],
   "source": [
    "print(print(print(print(print(print(\"Ravi Ramawat\"))))))"
   ]
  },
  {
   "cell_type": "code",
   "execution_count": 9,
   "id": "89dad2b2",
   "metadata": {},
   "outputs": [
    {
     "name": "stdout",
     "output_type": "stream",
     "text": [
      "[1, 321, 24, 12, 4123, 999]\n"
     ]
    }
   ],
   "source": [
    "l1 = [1,321,24,12,4123]\n",
    "l1.append(999)\n",
    "print(l1)"
   ]
  },
  {
   "cell_type": "code",
   "execution_count": 11,
   "id": "d38d8417",
   "metadata": {},
   "outputs": [],
   "source": [
    "l1.append([1,2])"
   ]
  },
  {
   "cell_type": "code",
   "execution_count": 12,
   "id": "b817973f",
   "metadata": {},
   "outputs": [
    {
     "name": "stdout",
     "output_type": "stream",
     "text": [
      "[1, 321, 24, 12, 4123, 999, [1, 2]]\n"
     ]
    }
   ],
   "source": [
    "print(l1)"
   ]
  },
  {
   "cell_type": "code",
   "execution_count": 14,
   "id": "406a3507",
   "metadata": {},
   "outputs": [],
   "source": [
    "#extend <-- iterables"
   ]
  },
  {
   "cell_type": "code",
   "execution_count": 17,
   "id": "5ac807c8",
   "metadata": {},
   "outputs": [
    {
     "name": "stdout",
     "output_type": "stream",
     "text": [
      "1\n",
      "2\n",
      "3\n"
     ]
    }
   ],
   "source": [
    "# for var in [1,2,3]:\n",
    "#     print(var)"
   ]
  },
  {
   "cell_type": "code",
   "execution_count": 19,
   "id": "674ef582",
   "metadata": {},
   "outputs": [
    {
     "name": "stdout",
     "output_type": "stream",
     "text": [
      "[1, 321, 24, 12, 4123, 999, [1, 2]]\n"
     ]
    }
   ],
   "source": [
    "print(l1)\n",
    "l1.extend(\"Ravi\")"
   ]
  },
  {
   "cell_type": "code",
   "execution_count": 20,
   "id": "401d513c",
   "metadata": {},
   "outputs": [
    {
     "name": "stdout",
     "output_type": "stream",
     "text": [
      "[1, 321, 24, 12, 4123, 999, [1, 2], 'R', 'a', 'v', 'i']\n"
     ]
    }
   ],
   "source": [
    "print(l1)"
   ]
  },
  {
   "cell_type": "code",
   "execution_count": 21,
   "id": "e2379375",
   "metadata": {},
   "outputs": [],
   "source": [
    "l1.extend([\"Hello\",\"Hi\",\"Bye\"])"
   ]
  },
  {
   "cell_type": "code",
   "execution_count": 22,
   "id": "42864e37",
   "metadata": {},
   "outputs": [
    {
     "name": "stdout",
     "output_type": "stream",
     "text": [
      "[1, 321, 24, 12, 4123, 999, [1, 2], 'R', 'a', 'v', 'i', 'Hello', 'Hi', 'Bye']\n"
     ]
    }
   ],
   "source": [
    "print(l1)"
   ]
  },
  {
   "cell_type": "code",
   "execution_count": 24,
   "id": "68131d08",
   "metadata": {},
   "outputs": [],
   "source": [
    "l1.extend([11,12])"
   ]
  },
  {
   "cell_type": "code",
   "execution_count": 25,
   "id": "1d4b0ee7",
   "metadata": {},
   "outputs": [
    {
     "name": "stdout",
     "output_type": "stream",
     "text": [
      "[1, 321, 24, 12, 4123, 999, [1, 2], 'R', 'a', 'v', 'i', 'Hello', 'Hi', 'Bye', 11, 12]\n"
     ]
    }
   ],
   "source": [
    "print(l1)"
   ]
  },
  {
   "cell_type": "code",
   "execution_count": 26,
   "id": "bac1b283",
   "metadata": {},
   "outputs": [
    {
     "name": "stdout",
     "output_type": "stream",
     "text": [
      "[1, 2, 3, 6]\n"
     ]
    }
   ],
   "source": [
    "print(l)"
   ]
  },
  {
   "cell_type": "code",
   "execution_count": 27,
   "id": "41cc388e",
   "metadata": {},
   "outputs": [],
   "source": [
    "l.clear()"
   ]
  },
  {
   "cell_type": "code",
   "execution_count": 28,
   "id": "3640a415",
   "metadata": {},
   "outputs": [
    {
     "name": "stdout",
     "output_type": "stream",
     "text": [
      "[]\n"
     ]
    }
   ],
   "source": [
    "print(l)"
   ]
  },
  {
   "cell_type": "code",
   "execution_count": 29,
   "id": "84671064",
   "metadata": {},
   "outputs": [],
   "source": [
    "#copy"
   ]
  },
  {
   "cell_type": "code",
   "execution_count": 30,
   "id": "8fdbc870",
   "metadata": {},
   "outputs": [],
   "source": [
    "#shallow copy and deep copy"
   ]
  },
  {
   "cell_type": "code",
   "execution_count": 31,
   "id": "a543e6be",
   "metadata": {},
   "outputs": [],
   "source": [
    "#l.copy() --> shallow copy\n",
    "#from copy import copy\n",
    "#newcopy = copy(object) --> shallow copy\n",
    "#newcopy = deepcopy(object) --> deep copy"
   ]
  },
  {
   "cell_type": "code",
   "execution_count": 33,
   "id": "6cf76a50",
   "metadata": {},
   "outputs": [
    {
     "name": "stdout",
     "output_type": "stream",
     "text": [
      "[1, 321, 24, 12, 4123, 999, [1, 2], 'R', 'a', 'v', 'i', 'Hello', 'Hi', 'Bye', 11, 12]\n",
      "[1, 321, 24, 12, 4123, 999, [1, 2], 'R', 'a', 'v', 'i', 'Hello', 'Hi', 'Bye', 11, 12]\n"
     ]
    }
   ],
   "source": [
    "v = l1.copy()\n",
    "print(l1)\n",
    "print(v) #shallow copy"
   ]
  },
  {
   "cell_type": "code",
   "execution_count": 36,
   "id": "1487af37",
   "metadata": {},
   "outputs": [],
   "source": [
    "#import copy\n",
    "from copy import copy, deepcopy"
   ]
  },
  {
   "cell_type": "code",
   "execution_count": null,
   "id": "427132a9",
   "metadata": {},
   "outputs": [],
   "source": [
    "# copy.copy() or copy()\n",
    "# copy.deepcopy() or deepcopy()"
   ]
  },
  {
   "cell_type": "code",
   "execution_count": 39,
   "id": "b1b075b4",
   "metadata": {},
   "outputs": [],
   "source": [
    "l1 = [1,2,3,4,5] #orignal list\n",
    "l2 = l1 #reference\n",
    "l3 = copy(l1) #shallow copy\n",
    "l4 = deepcopy(l1) #deep copy"
   ]
  },
  {
   "cell_type": "code",
   "execution_count": 38,
   "id": "bb4ebaa3",
   "metadata": {},
   "outputs": [
    {
     "name": "stdout",
     "output_type": "stream",
     "text": [
      "l1 --> [1, 2, 3, 4, 5]\n",
      "l2 --> [1, 2, 3, 4, 5]\n",
      "l3 --> [1, 2, 3, 4, 5]\n",
      "l4 --> [1, 2, 3, 4, 5]\n"
     ]
    }
   ],
   "source": [
    "print(f\"l1 --> {l1}\")\n",
    "print(f\"l2 --> {l2}\")\n",
    "print(f\"l3 --> {l3}\")\n",
    "print(f\"l4 --> {l4}\")"
   ]
  },
  {
   "cell_type": "code",
   "execution_count": 40,
   "id": "87cee46c",
   "metadata": {},
   "outputs": [],
   "source": [
    "l1.append(\"Ravi\")"
   ]
  },
  {
   "cell_type": "code",
   "execution_count": 41,
   "id": "1a83a318",
   "metadata": {},
   "outputs": [
    {
     "name": "stdout",
     "output_type": "stream",
     "text": [
      "l1 --> [1, 2, 3, 4, 5, 'Ravi']\n",
      "l2 --> [1, 2, 3, 4, 5, 'Ravi']\n",
      "l3 --> [1, 2, 3, 4, 5]\n",
      "l4 --> [1, 2, 3, 4, 5]\n"
     ]
    }
   ],
   "source": [
    "print(f\"l1 --> {l1}\")\n",
    "print(f\"l2 --> {l2}\")\n",
    "print(f\"l3 --> {l3}\")\n",
    "print(f\"l4 --> {l4}\")"
   ]
  },
  {
   "cell_type": "code",
   "execution_count": 42,
   "id": "1aa7ec0e",
   "metadata": {},
   "outputs": [
    {
     "name": "stdout",
     "output_type": "stream",
     "text": [
      "l1 --> [1, 2, 3, [4, 5, 6]]\n",
      "l2 --> [1, 2, 3, [4, 5, 6]]\n",
      "l3 --> [1, 2, 3, [4, 5, 6]]\n"
     ]
    }
   ],
   "source": [
    "#shallow copy\n",
    "\n",
    "l1 = [1,2,3,[4,5,6]]\n",
    "l2 = copy(l1)\n",
    "\n",
    "#deep copy\n",
    "l3 = deepcopy(l1)\n",
    "\n",
    "print(f\"l1 --> {l1}\")\n",
    "print(f\"l2 --> {l2}\")\n",
    "print(f\"l3 --> {l3}\")"
   ]
  },
  {
   "cell_type": "code",
   "execution_count": 43,
   "id": "44504a5a",
   "metadata": {},
   "outputs": [],
   "source": [
    "l1.append(\"Ravi\")"
   ]
  },
  {
   "cell_type": "code",
   "execution_count": 44,
   "id": "933e55af",
   "metadata": {},
   "outputs": [
    {
     "name": "stdout",
     "output_type": "stream",
     "text": [
      "l1 --> [1, 2, 3, [4, 5, 6], 'Ravi']\n",
      "l2 --> [1, 2, 3, [4, 5, 6]]\n",
      "l3 --> [1, 2, 3, [4, 5, 6]]\n"
     ]
    }
   ],
   "source": [
    "print(f\"l1 --> {l1}\")\n",
    "print(f\"l2 --> {l2}\")\n",
    "print(f\"l3 --> {l3}\")"
   ]
  },
  {
   "cell_type": "code",
   "execution_count": 45,
   "id": "e89454d6",
   "metadata": {},
   "outputs": [],
   "source": [
    "l1[-2].append(\"Ramawat\")"
   ]
  },
  {
   "cell_type": "code",
   "execution_count": 46,
   "id": "92c68234",
   "metadata": {},
   "outputs": [
    {
     "name": "stdout",
     "output_type": "stream",
     "text": [
      "l1 --> [1, 2, 3, [4, 5, 6, 'Ramawat'], 'Ravi']\n",
      "l2 --> [1, 2, 3, [4, 5, 6, 'Ramawat']]\n",
      "l3 --> [1, 2, 3, [4, 5, 6]]\n"
     ]
    }
   ],
   "source": [
    "print(f\"l1 --> {l1}\")\n",
    "print(f\"l2 --> {l2}\")\n",
    "print(f\"l3 --> {l3}\")"
   ]
  },
  {
   "cell_type": "code",
   "execution_count": 53,
   "id": "593740ff",
   "metadata": {},
   "outputs": [
    {
     "name": "stdout",
     "output_type": "stream",
     "text": [
      "Enter the month --> 8\n",
      "Current Month --> Aug\n",
      "Before Months --> Jan Feb Mar Apr May Jun Jul\n",
      "After Months --> Sep Oct Nov Dec\n"
     ]
    }
   ],
   "source": [
    "l = [\"Jan\",\"Feb\",\"Mar\",\"Apr\",\"May\",\"Jun\",\"Jul\",\"Aug\",\"Sep\",\"Oct\",\"Nov\",\"Dec\"]\n",
    "month = int(input(\"Enter the month --> \"))\n",
    "print(\"Current Month -->\",l[month-1])#Your code goes here\n",
    "print(\"Before Months -->\",*l[:month-1])#Your code goes here\n",
    "print(\"After Months -->\",*l[month:])#Your code goes here"
   ]
  },
  {
   "cell_type": "code",
   "execution_count": 54,
   "id": "cbda070d",
   "metadata": {},
   "outputs": [],
   "source": [
    "a = \"                      ***************hElLO              wOrLD***********                    \""
   ]
  },
  {
   "cell_type": "code",
   "execution_count": 55,
   "id": "2959b067",
   "metadata": {},
   "outputs": [
    {
     "name": "stdout",
     "output_type": "stream",
     "text": [
      "                      ***************hElLO              wOrLD***********                    \n"
     ]
    }
   ],
   "source": [
    "print(a)"
   ]
  },
  {
   "cell_type": "code",
   "execution_count": 60,
   "id": "e09898c3",
   "metadata": {},
   "outputs": [
    {
     "data": {
      "text/plain": [
       "'Hello World'"
      ]
     },
     "execution_count": 60,
     "metadata": {},
     "output_type": "execute_result"
    }
   ],
   "source": [
    "\" \".join(a.strip().strip(\"*\").title().split())"
   ]
  },
  {
   "cell_type": "code",
   "execution_count": 62,
   "id": "30233199",
   "metadata": {},
   "outputs": [],
   "source": [
    "b = a.strip()"
   ]
  },
  {
   "cell_type": "code",
   "execution_count": 65,
   "id": "b0271618",
   "metadata": {},
   "outputs": [],
   "source": [
    "c = b.strip(\"*\")"
   ]
  },
  {
   "cell_type": "code",
   "execution_count": 68,
   "id": "d697780d",
   "metadata": {},
   "outputs": [],
   "source": [
    "d = c.title()"
   ]
  },
  {
   "cell_type": "code",
   "execution_count": 70,
   "id": "cd826d0f",
   "metadata": {},
   "outputs": [
    {
     "name": "stdout",
     "output_type": "stream",
     "text": [
      "Hello              World\n"
     ]
    }
   ],
   "source": [
    "print(d)"
   ]
  },
  {
   "cell_type": "code",
   "execution_count": 72,
   "id": "628264f3",
   "metadata": {},
   "outputs": [],
   "source": [
    "l = d.split()"
   ]
  },
  {
   "cell_type": "code",
   "execution_count": 74,
   "id": "5f7d80c9",
   "metadata": {},
   "outputs": [],
   "source": [
    "final_result = \" \".join(l)"
   ]
  },
  {
   "cell_type": "code",
   "execution_count": 75,
   "id": "0626100e",
   "metadata": {},
   "outputs": [
    {
     "name": "stdout",
     "output_type": "stream",
     "text": [
      "Hello World\n"
     ]
    }
   ],
   "source": [
    "print(final_result)"
   ]
  },
  {
   "cell_type": "code",
   "execution_count": null,
   "id": "0b912a15",
   "metadata": {},
   "outputs": [],
   "source": []
  }
 ],
 "metadata": {
  "kernelspec": {
   "display_name": "Python 3 (ipykernel)",
   "language": "python",
   "name": "python3"
  },
  "language_info": {
   "codemirror_mode": {
    "name": "ipython",
    "version": 3
   },
   "file_extension": ".py",
   "mimetype": "text/x-python",
   "name": "python",
   "nbconvert_exporter": "python",
   "pygments_lexer": "ipython3",
   "version": "3.11.4"
  }
 },
 "nbformat": 4,
 "nbformat_minor": 5
}
