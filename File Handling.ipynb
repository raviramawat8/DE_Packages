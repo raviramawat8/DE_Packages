{
 "cells": [
  {
   "cell_type": "markdown",
   "id": "4d1be352",
   "metadata": {},
   "source": [
    "# File Handling in Python "
   ]
  },
  {
   "cell_type": "markdown",
   "id": "5ceabfa5",
   "metadata": {},
   "source": [
    "So in python file handling is a way to store data in a file, File is a persistant collection of Data."
   ]
  },
  {
   "cell_type": "code",
   "execution_count": 1,
   "id": "f844fdbd",
   "metadata": {},
   "outputs": [],
   "source": [
    "#Data Store using data Types ---> RAM (Temporary)"
   ]
  },
  {
   "cell_type": "markdown",
   "id": "b71abade",
   "metadata": {},
   "source": [
    "#### File System"
   ]
  },
  {
   "cell_type": "markdown",
   "id": "15d19b09",
   "metadata": {},
   "source": [
    "It is a way to store the files"
   ]
  },
  {
   "cell_type": "markdown",
   "id": "7323bccb",
   "metadata": {},
   "source": [
    "Types of Files"
   ]
  },
  {
   "cell_type": "markdown",
   "id": "ac847938",
   "metadata": {},
   "source": [
    "1. Text Files\n",
    "2. Audio Files\n",
    "3. Video Files\n",
    "4. Document Files\n",
    "5. Image Files\n",
    "7. Database Files\n",
    "8. System Files\n",
    "9. Compressed Files"
   ]
  },
  {
   "cell_type": "code",
   "execution_count": 3,
   "id": "517138cc",
   "metadata": {},
   "outputs": [],
   "source": [
    "#Extensions never defines file type"
   ]
  },
  {
   "cell_type": "markdown",
   "id": "b972ac7c",
   "metadata": {},
   "source": [
    "# file type\n",
    "\n",
    "- t --> text(default)\n",
    "- b --> byte file"
   ]
  },
  {
   "cell_type": "markdown",
   "id": "e91c3dcd",
   "metadata": {},
   "source": [
    "#Operations\n",
    "- Read\n",
    "- Write"
   ]
  },
  {
   "cell_type": "markdown",
   "id": "1bc8f0c6",
   "metadata": {},
   "source": [
    "1. Read Modes\n",
    " \n",
    " \n",
    "     - 'r'  --> Read-Only Mode(default) (File must Exist)\n",
    "     - 'rb' --> Read-Only in binary mode (File must Exist)\n",
    "     \n",
    "2. Write Modes\n",
    "    \n",
    "     - 'w' --> Write-Only Mode (Creates new file or overwrites the existing file)\n",
    "     - 'wb' --> Write in Binary Mode (Creates new file or overwrites the existing file)\n",
    "     \n",
    "3. Append Modes\n",
    "\n",
    "     - 'a' --> Append Mode (Append content at the end of the file)\n",
    "     - 'ab' --> Append in Binary mode\n",
    "     \n",
    "4. Other Modes\n",
    "\n",
    "    - 'r+' --> read and write mode (File must Exist)\n",
    "    - 'w+' --> write and read (Creates new file or overwrites the existing file)\n",
    "    - 'a+'-->  append and read\n",
    "    - 'rb+' --> read and write in binary\n",
    "    - 'wb+' --> write and read in binary\n",
    "    - 'ab+' --> append and read in binary"
   ]
  },
  {
   "cell_type": "code",
   "execution_count": 5,
   "id": "37fc8c8e",
   "metadata": {},
   "outputs": [
    {
     "name": "stdout",
     "output_type": "stream",
     "text": [
      "Overwriting hello.py\n"
     ]
    }
   ],
   "source": [
    "%%writefile hello.py\n",
    "for var in range(1,51):\n",
    "    print(f\"{var} times Ravi is Awesome\")"
   ]
  },
  {
   "cell_type": "code",
   "execution_count": 6,
   "id": "7727496a",
   "metadata": {},
   "outputs": [
    {
     "name": "stdout",
     "output_type": "stream",
     "text": [
      "1 times Ravi is Awesome\n",
      "2 times Ravi is Awesome\n",
      "3 times Ravi is Awesome\n",
      "4 times Ravi is Awesome\n",
      "5 times Ravi is Awesome\n",
      "6 times Ravi is Awesome\n",
      "7 times Ravi is Awesome\n",
      "8 times Ravi is Awesome\n",
      "9 times Ravi is Awesome\n",
      "10 times Ravi is Awesome\n",
      "11 times Ravi is Awesome\n",
      "12 times Ravi is Awesome\n",
      "13 times Ravi is Awesome\n",
      "14 times Ravi is Awesome\n",
      "15 times Ravi is Awesome\n",
      "16 times Ravi is Awesome\n",
      "17 times Ravi is Awesome\n",
      "18 times Ravi is Awesome\n",
      "19 times Ravi is Awesome\n",
      "20 times Ravi is Awesome\n",
      "21 times Ravi is Awesome\n",
      "22 times Ravi is Awesome\n",
      "23 times Ravi is Awesome\n",
      "24 times Ravi is Awesome\n",
      "25 times Ravi is Awesome\n",
      "26 times Ravi is Awesome\n",
      "27 times Ravi is Awesome\n",
      "28 times Ravi is Awesome\n",
      "29 times Ravi is Awesome\n",
      "30 times Ravi is Awesome\n",
      "31 times Ravi is Awesome\n",
      "32 times Ravi is Awesome\n",
      "33 times Ravi is Awesome\n",
      "34 times Ravi is Awesome\n",
      "35 times Ravi is Awesome\n",
      "36 times Ravi is Awesome\n",
      "37 times Ravi is Awesome\n",
      "38 times Ravi is Awesome\n",
      "39 times Ravi is Awesome\n",
      "40 times Ravi is Awesome\n",
      "41 times Ravi is Awesome\n",
      "42 times Ravi is Awesome\n",
      "43 times Ravi is Awesome\n",
      "44 times Ravi is Awesome\n",
      "45 times Ravi is Awesome\n",
      "46 times Ravi is Awesome\n",
      "47 times Ravi is Awesome\n",
      "48 times Ravi is Awesome\n",
      "49 times Ravi is Awesome\n",
      "50 times Ravi is Awesome\n"
     ]
    }
   ],
   "source": [
    "!python hello.py"
   ]
  },
  {
   "cell_type": "code",
   "execution_count": 7,
   "id": "6631a71d",
   "metadata": {},
   "outputs": [
    {
     "data": {
      "text/plain": [
       "True"
      ]
     },
     "execution_count": 7,
     "metadata": {},
     "output_type": "execute_result"
    }
   ],
   "source": [
    "f = open(\"students.txt\",'xt')\n",
    "f.writable()"
   ]
  },
  {
   "cell_type": "code",
   "execution_count": 8,
   "id": "8706d6a2",
   "metadata": {},
   "outputs": [
    {
     "data": {
      "text/plain": [
       "74"
      ]
     },
     "execution_count": 8,
     "metadata": {},
     "output_type": "execute_result"
    }
   ],
   "source": [
    "f.write(\"Hello This is students file used to calculate the results of upcoming exam\")"
   ]
  },
  {
   "cell_type": "code",
   "execution_count": 9,
   "id": "cad4e210",
   "metadata": {},
   "outputs": [
    {
     "data": {
      "text/plain": [
       "30"
      ]
     },
     "execution_count": 9,
     "metadata": {},
     "output_type": "execute_result"
    }
   ],
   "source": [
    "f.write(\"\\nHello My name is Ravi Ramawat\")"
   ]
  },
  {
   "cell_type": "code",
   "execution_count": 10,
   "id": "027fd4ca",
   "metadata": {},
   "outputs": [],
   "source": [
    "f.close()"
   ]
  },
  {
   "cell_type": "code",
   "execution_count": 14,
   "id": "6428d616",
   "metadata": {},
   "outputs": [],
   "source": [
    "f = open(\"students.txt\",'w')\n",
    "f.write(\"\"\"To,\n",
    "The Principal,\n",
    "DPS,\n",
    "Guwahati- 781001\n",
    "\n",
    "    Sub:- Leave Request for Online Classes\n",
    "    \n",
    "    Respected Sir,\n",
    "    \n",
    "        ........................................................................\n",
    "        .................................................................\n",
    "        ....................................................................\n",
    "        \n",
    "        \n",
    "    Yours Sincerely,\n",
    "    XYZ\"\"\")\n",
    "f.close()"
   ]
  },
  {
   "cell_type": "code",
   "execution_count": 15,
   "id": "127d66cc",
   "metadata": {},
   "outputs": [
    {
     "name": "stdout",
     "output_type": "stream",
     "text": [
      "To,\n",
      "The Principal,\n",
      "DPS,\n",
      "Guwahati- 781001\n",
      "\n",
      "    Sub:- Leave Request for Online Classes\n",
      "    \n",
      "    Respected Sir,\n",
      "    \n",
      "        ........................................................................\n",
      "        .................................................................\n",
      "        ....................................................................\n",
      "        \n",
      "        \n",
      "    Yours Sincerely,\n",
      "    XYZ\n"
     ]
    }
   ],
   "source": [
    "f = open(\"students.txt\",'r')\n",
    "data = f.read()\n",
    "print(data)"
   ]
  },
  {
   "cell_type": "code",
   "execution_count": 56,
   "id": "82451939",
   "metadata": {},
   "outputs": [],
   "source": [
    "f= open(\"C:\\\\Users\\\\Ravi Ramawat\\\\OneDrive - Grras Solution Pvt. Ltd\\\\DOCX\\\\Data\\\\tips.csv\",'r')\n",
    "data = f.read()\n",
    "data = data.split(\"\\n\")\n",
    "l = []\n",
    "for var in range(1,len(data)-1):\n",
    "    l.append(float(data[var].split(\",\")[0]))"
   ]
  },
  {
   "cell_type": "code",
   "execution_count": 59,
   "id": "66b8d723",
   "metadata": {},
   "outputs": [
    {
     "data": {
      "text/plain": [
       "19.785942622950824"
      ]
     },
     "execution_count": 59,
     "metadata": {},
     "output_type": "execute_result"
    }
   ],
   "source": [
    "sum(l)/len(l)"
   ]
  },
  {
   "cell_type": "code",
   "execution_count": 60,
   "id": "9d72457e",
   "metadata": {},
   "outputs": [
    {
     "ename": "NameError",
     "evalue": "name 'students' is not defined",
     "output_type": "error",
     "traceback": [
      "\u001b[1;31m---------------------------------------------------------------------------\u001b[0m",
      "\u001b[1;31mNameError\u001b[0m                                 Traceback (most recent call last)",
      "Cell \u001b[1;32mIn[60], line 1\u001b[0m\n\u001b[1;32m----> 1\u001b[0m students\u001b[38;5;241m.\u001b[39mtxt\n",
      "\u001b[1;31mNameError\u001b[0m: name 'students' is not defined"
     ]
    }
   ],
   "source": [
    "students.txt\n",
    "\n",
    "Name,English,Math,Hindi,Grammar,Science\n",
    "Ravi,33,22,11,1,56"
   ]
  },
  {
   "cell_type": "code",
   "execution_count": null,
   "id": "732d6902",
   "metadata": {},
   "outputs": [],
   "source": []
  }
 ],
 "metadata": {
  "kernelspec": {
   "display_name": "Python 3 (ipykernel)",
   "language": "python",
   "name": "python3"
  },
  "language_info": {
   "codemirror_mode": {
    "name": "ipython",
    "version": 3
   },
   "file_extension": ".py",
   "mimetype": "text/x-python",
   "name": "python",
   "nbconvert_exporter": "python",
   "pygments_lexer": "ipython3",
   "version": "3.11.4"
  }
 },
 "nbformat": 4,
 "nbformat_minor": 5
}
