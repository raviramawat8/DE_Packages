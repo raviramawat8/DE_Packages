{
 "cells": [
  {
   "cell_type": "markdown",
   "id": "38b33222",
   "metadata": {},
   "source": [
    "# Methods of Strings "
   ]
  },
  {
   "cell_type": "code",
   "execution_count": 1,
   "id": "98aea4b7",
   "metadata": {},
   "outputs": [],
   "source": [
    "#1. Magic methods or Dundder Methods --> __add__\n",
    "#2. Normal Methods --> capitalize"
   ]
  },
  {
   "cell_type": "code",
   "execution_count": 2,
   "id": "25cebc26",
   "metadata": {},
   "outputs": [],
   "source": [
    "a = 12\n",
    "b = \"Ravi\""
   ]
  },
  {
   "cell_type": "code",
   "execution_count": 3,
   "id": "e60d3afa",
   "metadata": {},
   "outputs": [
    {
     "name": "stdout",
     "output_type": "stream",
     "text": [
      "['__abs__', '__add__', '__and__', '__bool__', '__ceil__', '__class__', '__delattr__', '__dir__', '__divmod__', '__doc__', '__eq__', '__float__', '__floor__', '__floordiv__', '__format__', '__ge__', '__getattribute__', '__getnewargs__', '__getstate__', '__gt__', '__hash__', '__index__', '__init__', '__init_subclass__', '__int__', '__invert__', '__le__', '__lshift__', '__lt__', '__mod__', '__mul__', '__ne__', '__neg__', '__new__', '__or__', '__pos__', '__pow__', '__radd__', '__rand__', '__rdivmod__', '__reduce__', '__reduce_ex__', '__repr__', '__rfloordiv__', '__rlshift__', '__rmod__', '__rmul__', '__ror__', '__round__', '__rpow__', '__rrshift__', '__rshift__', '__rsub__', '__rtruediv__', '__rxor__', '__setattr__', '__sizeof__', '__str__', '__sub__', '__subclasshook__', '__truediv__', '__trunc__', '__xor__', 'as_integer_ratio', 'bit_count', 'bit_length', 'conjugate', 'denominator', 'from_bytes', 'imag', 'numerator', 'real', 'to_bytes']\n"
     ]
    }
   ],
   "source": [
    "print(dir(a))"
   ]
  },
  {
   "cell_type": "code",
   "execution_count": 4,
   "id": "2b7e9f59",
   "metadata": {},
   "outputs": [
    {
     "name": "stdout",
     "output_type": "stream",
     "text": [
      "['__add__', '__class__', '__contains__', '__delattr__', '__dir__', '__doc__', '__eq__', '__format__', '__ge__', '__getattribute__', '__getitem__', '__getnewargs__', '__getstate__', '__gt__', '__hash__', '__init__', '__init_subclass__', '__iter__', '__le__', '__len__', '__lt__', '__mod__', '__mul__', '__ne__', '__new__', '__reduce__', '__reduce_ex__', '__repr__', '__rmod__', '__rmul__', '__setattr__', '__sizeof__', '__str__', '__subclasshook__', 'capitalize', 'casefold', 'center', 'count', 'encode', 'endswith', 'expandtabs', 'find', 'format', 'format_map', 'index', 'isalnum', 'isalpha', 'isascii', 'isdecimal', 'isdigit', 'isidentifier', 'islower', 'isnumeric', 'isprintable', 'isspace', 'istitle', 'isupper', 'join', 'ljust', 'lower', 'lstrip', 'maketrans', 'partition', 'removeprefix', 'removesuffix', 'replace', 'rfind', 'rindex', 'rjust', 'rpartition', 'rsplit', 'rstrip', 'split', 'splitlines', 'startswith', 'strip', 'swapcase', 'title', 'translate', 'upper', 'zfill']\n"
     ]
    }
   ],
   "source": [
    "print(dir(b))"
   ]
  },
  {
   "cell_type": "code",
   "execution_count": 6,
   "id": "83cb89dd",
   "metadata": {},
   "outputs": [
    {
     "name": "stdout",
     "output_type": "stream",
     "text": [
      "23\n"
     ]
    }
   ],
   "source": [
    "a = 12\n",
    "b = 11\n",
    "print(a+b)"
   ]
  },
  {
   "cell_type": "code",
   "execution_count": 8,
   "id": "4580d472",
   "metadata": {},
   "outputs": [
    {
     "name": "stdout",
     "output_type": "stream",
     "text": [
      "23\n"
     ]
    }
   ],
   "source": [
    "print(a.__add__(b))"
   ]
  },
  {
   "cell_type": "code",
   "execution_count": 10,
   "id": "8394751a",
   "metadata": {},
   "outputs": [
    {
     "name": "stdout",
     "output_type": "stream",
     "text": [
      "Ravi Ramawat\n",
      "Ravi Ramawat\n"
     ]
    }
   ],
   "source": [
    "s1 = \"Ravi \"\n",
    "s2 = \"Ramawat\"\n",
    "\n",
    "print(s1+s2) #concat\n",
    "print(s1.__add__(s2))"
   ]
  },
  {
   "cell_type": "code",
   "execution_count": 11,
   "id": "66e0065a",
   "metadata": {},
   "outputs": [
    {
     "name": "stdout",
     "output_type": "stream",
     "text": [
      "['__new__', '__repr__', '__hash__', '__str__', '__getattribute__', '__lt__', '__le__', '__eq__', '__ne__', '__gt__', '__ge__', '__iter__', '__mod__', '__rmod__', '__len__', '__getitem__', '__add__', '__mul__', '__rmul__', '__contains__', 'encode', 'replace', 'split', 'rsplit', 'join', 'capitalize', 'casefold', 'title', 'center', 'count', 'expandtabs', 'find', 'partition', 'index', 'ljust', 'lower', 'lstrip', 'rfind', 'rindex', 'rjust', 'rstrip', 'rpartition', 'splitlines', 'strip', 'swapcase', 'translate', 'upper', 'startswith', 'endswith', 'removeprefix', 'removesuffix', 'isascii', 'islower', 'isupper', 'istitle', 'isspace', 'isdecimal', 'isdigit', 'isnumeric', 'isalpha', 'isalnum', 'isidentifier', 'isprintable', 'zfill', 'format', 'format_map', '__format__', 'maketrans', '__sizeof__', '__getnewargs__', '__doc__', '__setattr__', '__delattr__', '__init__', '__reduce_ex__', '__reduce__', '__getstate__', '__subclasshook__', '__init_subclass__', '__dir__', '__class__']\n"
     ]
    }
   ],
   "source": [
    "print(s1.__dir__())"
   ]
  },
  {
   "cell_type": "code",
   "execution_count": 12,
   "id": "1dbb8992",
   "metadata": {},
   "outputs": [],
   "source": [
    "#methods"
   ]
  },
  {
   "cell_type": "code",
   "execution_count": 14,
   "id": "5b8a8303",
   "metadata": {},
   "outputs": [],
   "source": [
    "s = \"heLlO mY naMe Is pYthOn.\""
   ]
  },
  {
   "cell_type": "code",
   "execution_count": 15,
   "id": "b04ca72a",
   "metadata": {},
   "outputs": [
    {
     "name": "stdout",
     "output_type": "stream",
     "text": [
      "heLlO mY naMe Is pYthOn.\n"
     ]
    }
   ],
   "source": [
    "print(s)"
   ]
  },
  {
   "cell_type": "code",
   "execution_count": 16,
   "id": "41fe1c83",
   "metadata": {},
   "outputs": [
    {
     "data": {
      "text/plain": [
       "'Hello my name is python.'"
      ]
     },
     "execution_count": 16,
     "metadata": {},
     "output_type": "execute_result"
    }
   ],
   "source": [
    "s.capitalize()"
   ]
  },
  {
   "cell_type": "code",
   "execution_count": 17,
   "id": "5565aaea",
   "metadata": {},
   "outputs": [
    {
     "data": {
      "text/plain": [
       "'HELLO MY NAME IS PYTHON.'"
      ]
     },
     "execution_count": 17,
     "metadata": {},
     "output_type": "execute_result"
    }
   ],
   "source": [
    "s.upper()"
   ]
  },
  {
   "cell_type": "code",
   "execution_count": 18,
   "id": "9e641863",
   "metadata": {},
   "outputs": [
    {
     "data": {
      "text/plain": [
       "'hello my name is python.'"
      ]
     },
     "execution_count": 18,
     "metadata": {},
     "output_type": "execute_result"
    }
   ],
   "source": [
    "s.lower()"
   ]
  },
  {
   "cell_type": "code",
   "execution_count": 21,
   "id": "11c1e3ed",
   "metadata": {},
   "outputs": [
    {
     "data": {
      "text/plain": [
       "'HElLo My NAmE iS PyTHoN.'"
      ]
     },
     "execution_count": 21,
     "metadata": {},
     "output_type": "execute_result"
    }
   ],
   "source": [
    "s.swapcase()"
   ]
  },
  {
   "cell_type": "code",
   "execution_count": 20,
   "id": "27f23510",
   "metadata": {},
   "outputs": [
    {
     "name": "stdout",
     "output_type": "stream",
     "text": [
      "heLlO mY naMe Is pYthOn.\n"
     ]
    }
   ],
   "source": [
    "print(s)"
   ]
  },
  {
   "cell_type": "code",
   "execution_count": 34,
   "id": "aa045fb5",
   "metadata": {},
   "outputs": [
    {
     "name": "stdout",
     "output_type": "stream",
     "text": [
      "*************************************heLlO mY naMe Is pYthOn.************************************\n"
     ]
    }
   ],
   "source": [
    "print(s.center(97,'*'))"
   ]
  },
  {
   "cell_type": "code",
   "execution_count": 27,
   "id": "e64728e4",
   "metadata": {},
   "outputs": [
    {
     "data": {
      "text/plain": [
       "24"
      ]
     },
     "execution_count": 27,
     "metadata": {},
     "output_type": "execute_result"
    }
   ],
   "source": [
    "len(s)"
   ]
  },
  {
   "cell_type": "code",
   "execution_count": 35,
   "id": "b8ce9168",
   "metadata": {},
   "outputs": [
    {
     "name": "stdout",
     "output_type": "stream",
     "text": [
      "heLlO mY naMe Is pYthOn.*************************************************************************\n"
     ]
    }
   ],
   "source": [
    "print(s.ljust(97,'*'))"
   ]
  },
  {
   "cell_type": "code",
   "execution_count": 36,
   "id": "aad0599e",
   "metadata": {},
   "outputs": [
    {
     "name": "stdout",
     "output_type": "stream",
     "text": [
      "*************************************************************************heLlO mY naMe Is pYthOn.\n"
     ]
    }
   ],
   "source": [
    "print(s.rjust(97,'*'))"
   ]
  },
  {
   "cell_type": "code",
   "execution_count": 40,
   "id": "2bf9ac95",
   "metadata": {},
   "outputs": [
    {
     "data": {
      "text/plain": [
       "2"
      ]
     },
     "execution_count": 40,
     "metadata": {},
     "output_type": "execute_result"
    }
   ],
   "source": [
    "s.lower().count('l')"
   ]
  },
  {
   "cell_type": "code",
   "execution_count": 42,
   "id": "6d9c86b6",
   "metadata": {},
   "outputs": [
    {
     "name": "stdout",
     "output_type": "stream",
     "text": [
      "<class 'bytes'>\n"
     ]
    }
   ],
   "source": [
    "print(type(s.encode()))"
   ]
  },
  {
   "cell_type": "code",
   "execution_count": 44,
   "id": "305f27ab",
   "metadata": {},
   "outputs": [
    {
     "data": {
      "text/plain": [
       "'heLlO mY naMe Is pYthOn.'"
      ]
     },
     "execution_count": 44,
     "metadata": {},
     "output_type": "execute_result"
    }
   ],
   "source": [
    "s.encode().decode()"
   ]
  },
  {
   "cell_type": "code",
   "execution_count": 46,
   "id": "6fda743b",
   "metadata": {},
   "outputs": [
    {
     "data": {
      "text/plain": [
       "True"
      ]
     },
     "execution_count": 46,
     "metadata": {},
     "output_type": "execute_result"
    }
   ],
   "source": [
    "s.endswith('.')"
   ]
  },
  {
   "cell_type": "code",
   "execution_count": 48,
   "id": "2f1bbe21",
   "metadata": {},
   "outputs": [
    {
     "data": {
      "text/plain": [
       "False"
      ]
     },
     "execution_count": 48,
     "metadata": {},
     "output_type": "execute_result"
    }
   ],
   "source": [
    "s.startswith('H')"
   ]
  },
  {
   "cell_type": "code",
   "execution_count": 49,
   "id": "80fd16a3",
   "metadata": {},
   "outputs": [
    {
     "name": "stdout",
     "output_type": "stream",
     "text": [
      "heLlO mY naMe Is pYthOn.\n"
     ]
    }
   ],
   "source": [
    "print(s)"
   ]
  },
  {
   "cell_type": "code",
   "execution_count": 50,
   "id": "49246b68",
   "metadata": {},
   "outputs": [
    {
     "data": {
      "text/plain": [
       "9"
      ]
     },
     "execution_count": 50,
     "metadata": {},
     "output_type": "execute_result"
    }
   ],
   "source": [
    "s.find('n')"
   ]
  },
  {
   "cell_type": "code",
   "execution_count": 51,
   "id": "cbcf82df",
   "metadata": {},
   "outputs": [
    {
     "data": {
      "text/plain": [
       "9"
      ]
     },
     "execution_count": 51,
     "metadata": {},
     "output_type": "execute_result"
    }
   ],
   "source": [
    "s.index('n')"
   ]
  },
  {
   "cell_type": "code",
   "execution_count": 52,
   "id": "7417d080",
   "metadata": {},
   "outputs": [
    {
     "data": {
      "text/plain": [
       "-1"
      ]
     },
     "execution_count": 52,
     "metadata": {},
     "output_type": "execute_result"
    }
   ],
   "source": [
    "s.find('z')"
   ]
  },
  {
   "cell_type": "code",
   "execution_count": 53,
   "id": "63d79b69",
   "metadata": {},
   "outputs": [
    {
     "ename": "ValueError",
     "evalue": "substring not found",
     "output_type": "error",
     "traceback": [
      "\u001b[1;31m---------------------------------------------------------------------------\u001b[0m",
      "\u001b[1;31mValueError\u001b[0m                                Traceback (most recent call last)",
      "Cell \u001b[1;32mIn[53], line 1\u001b[0m\n\u001b[1;32m----> 1\u001b[0m s\u001b[38;5;241m.\u001b[39mindex(\u001b[38;5;124m'\u001b[39m\u001b[38;5;124mz\u001b[39m\u001b[38;5;124m'\u001b[39m)\n",
      "\u001b[1;31mValueError\u001b[0m: substring not found"
     ]
    }
   ],
   "source": [
    "s.index('z')"
   ]
  },
  {
   "cell_type": "code",
   "execution_count": 54,
   "id": "ddcf14b0",
   "metadata": {},
   "outputs": [
    {
     "data": {
      "text/plain": [
       "22"
      ]
     },
     "execution_count": 54,
     "metadata": {},
     "output_type": "execute_result"
    }
   ],
   "source": [
    "s.rfind('n')"
   ]
  },
  {
   "cell_type": "code",
   "execution_count": 55,
   "id": "45ad0fe1",
   "metadata": {},
   "outputs": [
    {
     "data": {
      "text/plain": [
       "22"
      ]
     },
     "execution_count": 55,
     "metadata": {},
     "output_type": "execute_result"
    }
   ],
   "source": [
    "s.rindex('n')"
   ]
  },
  {
   "cell_type": "code",
   "execution_count": 58,
   "id": "576bff0a",
   "metadata": {},
   "outputs": [
    {
     "data": {
      "text/plain": [
       "True"
      ]
     },
     "execution_count": 58,
     "metadata": {},
     "output_type": "execute_result"
    }
   ],
   "source": [
    "\"dfdsfsd34\".isalnum()"
   ]
  },
  {
   "cell_type": "code",
   "execution_count": 60,
   "id": "5d0274de",
   "metadata": {},
   "outputs": [
    {
     "data": {
      "text/plain": [
       "False"
      ]
     },
     "execution_count": 60,
     "metadata": {},
     "output_type": "execute_result"
    }
   ],
   "source": [
    "\"243ad\".isdigit()"
   ]
  },
  {
   "cell_type": "code",
   "execution_count": 61,
   "id": "38f86876",
   "metadata": {},
   "outputs": [
    {
     "data": {
      "text/plain": [
       "False"
      ]
     },
     "execution_count": 61,
     "metadata": {},
     "output_type": "execute_result"
    }
   ],
   "source": [
    "\"1324\".isalpha()"
   ]
  },
  {
   "cell_type": "code",
   "execution_count": 63,
   "id": "06d86ea5",
   "metadata": {},
   "outputs": [
    {
     "data": {
      "text/plain": [
       "True"
      ]
     },
     "execution_count": 63,
     "metadata": {},
     "output_type": "execute_result"
    }
   ],
   "source": [
    "\" \".isspace()"
   ]
  },
  {
   "cell_type": "code",
   "execution_count": 65,
   "id": "2400710d",
   "metadata": {},
   "outputs": [
    {
     "data": {
      "text/plain": [
       "True"
      ]
     },
     "execution_count": 65,
     "metadata": {},
     "output_type": "execute_result"
    }
   ],
   "source": [
    "\"abc\".isidentifier()"
   ]
  },
  {
   "cell_type": "code",
   "execution_count": 66,
   "id": "9449b01b",
   "metadata": {},
   "outputs": [],
   "source": [
    "d = \"                            Ravi Ramawat                                 \""
   ]
  },
  {
   "cell_type": "code",
   "execution_count": 67,
   "id": "6cd6006a",
   "metadata": {},
   "outputs": [
    {
     "data": {
      "text/plain": [
       "'Ravi Ramawat'"
      ]
     },
     "execution_count": 67,
     "metadata": {},
     "output_type": "execute_result"
    }
   ],
   "source": [
    "d.strip()"
   ]
  },
  {
   "cell_type": "code",
   "execution_count": 68,
   "id": "85f05314",
   "metadata": {},
   "outputs": [
    {
     "data": {
      "text/plain": [
       "'Ravi Ramawat                                 '"
      ]
     },
     "execution_count": 68,
     "metadata": {},
     "output_type": "execute_result"
    }
   ],
   "source": [
    "d.lstrip()"
   ]
  },
  {
   "cell_type": "code",
   "execution_count": 69,
   "id": "9ba6dc3f",
   "metadata": {},
   "outputs": [
    {
     "data": {
      "text/plain": [
       "'                            Ravi Ramawat'"
      ]
     },
     "execution_count": 69,
     "metadata": {},
     "output_type": "execute_result"
    }
   ],
   "source": [
    "d.rstrip()"
   ]
  },
  {
   "cell_type": "code",
   "execution_count": 70,
   "id": "1d2b581b",
   "metadata": {},
   "outputs": [],
   "source": [
    "#Split"
   ]
  },
  {
   "cell_type": "code",
   "execution_count": 71,
   "id": "da416104",
   "metadata": {},
   "outputs": [],
   "source": [
    "#Join"
   ]
  },
  {
   "cell_type": "code",
   "execution_count": 72,
   "id": "0d6fdd3f",
   "metadata": {},
   "outputs": [
    {
     "data": {
      "text/plain": [
       "'heLlO mY naMe Is pYthOn.'"
      ]
     },
     "execution_count": 72,
     "metadata": {},
     "output_type": "execute_result"
    }
   ],
   "source": [
    "s"
   ]
  },
  {
   "cell_type": "code",
   "execution_count": 74,
   "id": "ea4e9eda",
   "metadata": {},
   "outputs": [
    {
     "name": "stdout",
     "output_type": "stream",
     "text": [
      "['heLlO', 'mY', 'naMe', 'Is', 'pYthOn.']\n"
     ]
    }
   ],
   "source": [
    "print(s.split()) #split and #type conversion"
   ]
  },
  {
   "cell_type": "code",
   "execution_count": 77,
   "id": "d2708ca1",
   "metadata": {},
   "outputs": [
    {
     "name": "stdout",
     "output_type": "stream",
     "text": [
      "['heLlO mY ', 'aMe Is pYthO', '.']\n"
     ]
    }
   ],
   "source": [
    "print(s.split('n'))"
   ]
  },
  {
   "cell_type": "code",
   "execution_count": 79,
   "id": "0f7bc1ec",
   "metadata": {},
   "outputs": [],
   "source": [
    "s1= \"\"\"Hello my name is Python.\n",
    "And I am a multipurpose programming language.\"\"\""
   ]
  },
  {
   "cell_type": "code",
   "execution_count": 81,
   "id": "fc823793",
   "metadata": {},
   "outputs": [
    {
     "name": "stdout",
     "output_type": "stream",
     "text": [
      "['Hello my name is Python.', 'And I am a multipurpose programming language.']\n"
     ]
    }
   ],
   "source": [
    "print(s1.split('\\n'))"
   ]
  },
  {
   "cell_type": "code",
   "execution_count": 82,
   "id": "5f8190b3",
   "metadata": {},
   "outputs": [
    {
     "name": "stdout",
     "output_type": "stream",
     "text": [
      "['Hello my name is Python.', 'And I am a multipurpose programming language.']\n"
     ]
    }
   ],
   "source": [
    "print(s1.splitlines())"
   ]
  },
  {
   "cell_type": "code",
   "execution_count": 83,
   "id": "082aa8a8",
   "metadata": {},
   "outputs": [],
   "source": [
    "#join"
   ]
  },
  {
   "cell_type": "code",
   "execution_count": 85,
   "id": "9542b320",
   "metadata": {},
   "outputs": [
    {
     "name": "stdout",
     "output_type": "stream",
     "text": [
      "heLlO mY naMe Is pYthOn.\n"
     ]
    }
   ],
   "source": [
    "print(\" \".join(['heLlO', 'mY', 'naMe', 'Is', 'pYthOn.']))"
   ]
  },
  {
   "cell_type": "code",
   "execution_count": 86,
   "id": "4da2025f",
   "metadata": {},
   "outputs": [
    {
     "name": "stdout",
     "output_type": "stream",
     "text": [
      "heLlO,mY,naMe,Is,pYthOn.\n"
     ]
    }
   ],
   "source": [
    "print(\",\".join(['heLlO', 'mY', 'naMe', 'Is', 'pYthOn.']))"
   ]
  },
  {
   "cell_type": "code",
   "execution_count": 88,
   "id": "82513c7b",
   "metadata": {},
   "outputs": [
    {
     "name": "stdout",
     "output_type": "stream",
     "text": [
      "heLlO Ravi mY Ravi naMe Ravi Is Ravi pYthOn.\n"
     ]
    }
   ],
   "source": [
    "l=['heLlO', 'mY', 'naMe', 'Is', 'pYthOn.']\n",
    "print(\" Ravi \".join(l))"
   ]
  },
  {
   "cell_type": "code",
   "execution_count": 89,
   "id": "9e10b299",
   "metadata": {},
   "outputs": [],
   "source": [
    "#format"
   ]
  },
  {
   "cell_type": "code",
   "execution_count": 90,
   "id": "caae69c2",
   "metadata": {},
   "outputs": [],
   "source": [
    "#sum of two nos"
   ]
  },
  {
   "cell_type": "code",
   "execution_count": 102,
   "id": "c178b20a",
   "metadata": {},
   "outputs": [
    {
     "name": "stdout",
     "output_type": "stream",
     "text": [
      "Enter the value of a --> 4\n",
      "Enter the value of b --> 6\n",
      "4 + 6 = 10\n",
      "6 + 4 = 10\n",
      "4 + 6 = 10\n",
      "4 + 6 = 10\n"
     ]
    }
   ],
   "source": [
    "a,b = int(input('Enter the value of a --> ')),int(input(\"Enter the value of b --> \"))\n",
    "c = a+b\n",
    "print(a,\"+\",b,\"=\",c)\n",
    "print(\"{} + {} = {}\".format(b,a,c)) #python 2\n",
    "print(\"{1} + {0} = {2}\".format(b,a,c)) #python 2\n",
    "print(f\"{a} + {b} = {c}\") #python 3"
   ]
  },
  {
   "cell_type": "code",
   "execution_count": 117,
   "id": "fb363d26",
   "metadata": {},
   "outputs": [
    {
     "name": "stdout",
     "output_type": "stream",
     "text": [
      "0         0         0         0         \n",
      "1         1         1         1         \n",
      "2         10        2         2         \n",
      "3         11        3         3         \n",
      "4         100       4         4         \n",
      "5         101       5         5         \n",
      "6         110       6         6         \n",
      "7         111       7         7         \n",
      "8         1000      10        8         \n",
      "9         1001      11        9         \n",
      "10        1010      12        A         \n",
      "11        1011      13        B         \n",
      "12        1100      14        C         \n",
      "13        1101      15        D         \n",
      "14        1110      16        E         \n",
      "15        1111      17        F         \n",
      "16        10000     20        10        \n",
      "17        10001     21        11        \n",
      "18        10010     22        12        \n",
      "19        10011     23        13        \n",
      "20        10100     24        14        \n",
      "21        10101     25        15        \n",
      "22        10110     26        16        \n",
      "23        10111     27        17        \n",
      "24        11000     30        18        \n",
      "25        11001     31        19        \n",
      "26        11010     32        1A        \n",
      "27        11011     33        1B        \n",
      "28        11100     34        1C        \n",
      "29        11101     35        1D        \n",
      "30        11110     36        1E        \n",
      "31        11111     37        1F        \n",
      "32        100000    40        20        \n",
      "33        100001    41        21        \n",
      "34        100010    42        22        \n",
      "35        100011    43        23        \n",
      "36        100100    44        24        \n",
      "37        100101    45        25        \n",
      "38        100110    46        26        \n",
      "39        100111    47        27        \n",
      "40        101000    50        28        \n",
      "41        101001    51        29        \n",
      "42        101010    52        2A        \n",
      "43        101011    53        2B        \n",
      "44        101100    54        2C        \n",
      "45        101101    55        2D        \n",
      "46        101110    56        2E        \n",
      "47        101111    57        2F        \n",
      "48        110000    60        30        \n",
      "49        110001    61        31        \n",
      "50        110010    62        32        \n"
     ]
    }
   ],
   "source": [
    "for var in range(51):\n",
    "    print(\"{:<10}{:<10b}{:<10o}{:<10X}\".format(var,var,var,var))"
   ]
  },
  {
   "cell_type": "code",
   "execution_count": 118,
   "id": "1eccf552",
   "metadata": {},
   "outputs": [],
   "source": [
    "a = 22/7"
   ]
  },
  {
   "cell_type": "code",
   "execution_count": 119,
   "id": "ab00fbac",
   "metadata": {},
   "outputs": [
    {
     "name": "stdout",
     "output_type": "stream",
     "text": [
      "3.142857142857143\n"
     ]
    }
   ],
   "source": [
    "print(a)"
   ]
  },
  {
   "cell_type": "code",
   "execution_count": 124,
   "id": "5513db77",
   "metadata": {},
   "outputs": [
    {
     "name": "stdout",
     "output_type": "stream",
     "text": [
      "The exact value for PIE is 3.1429\n"
     ]
    }
   ],
   "source": [
    "print(f\"The exact value for PIE is {a:.4f}\")"
   ]
  },
  {
   "cell_type": "markdown",
   "id": "abcbb170",
   "metadata": {},
   "source": [
    "# List"
   ]
  },
  {
   "cell_type": "code",
   "execution_count": 125,
   "id": "32108389",
   "metadata": {},
   "outputs": [
    {
     "name": "stdout",
     "output_type": "stream",
     "text": [
      "[]\n",
      "<class 'list'>\n"
     ]
    }
   ],
   "source": [
    "l = []\n",
    "print(l) #empty list\n",
    "print(type(l))"
   ]
  },
  {
   "cell_type": "code",
   "execution_count": 126,
   "id": "f23a6ebf",
   "metadata": {},
   "outputs": [],
   "source": [
    "#It is collection elements having same or differet data types"
   ]
  },
  {
   "cell_type": "code",
   "execution_count": 127,
   "id": "befdedfe",
   "metadata": {},
   "outputs": [
    {
     "name": "stdout",
     "output_type": "stream",
     "text": [
      "[12, 312, 4, 23, 534, 65, 54, 67, 567, 456, 54, 34, 32, 4] <class 'list'>\n"
     ]
    }
   ],
   "source": [
    "l = [12,312,4,23,534,65,54,67,567,456,54,34,32,4] #homogenous list\n",
    "print(l,type(l))"
   ]
  },
  {
   "cell_type": "code",
   "execution_count": 128,
   "id": "de82eec3",
   "metadata": {},
   "outputs": [],
   "source": [
    "l1 = [12,12,412,3,213.213,32.2121,321.1235,\"Ravi\",\"Ramawat\",\"Hello\",\"hi\",\"bye\"] #heterogenous list"
   ]
  },
  {
   "cell_type": "code",
   "execution_count": 129,
   "id": "984050e2",
   "metadata": {},
   "outputs": [
    {
     "name": "stdout",
     "output_type": "stream",
     "text": [
      "[12, 12, 412, 3, 213.213, 32.2121, 321.1235, 'Ravi', 'Ramawat', 'Hello', 'hi', 'bye']\n"
     ]
    }
   ],
   "source": [
    "print(l1)"
   ]
  },
  {
   "cell_type": "code",
   "execution_count": 130,
   "id": "6c8ede88",
   "metadata": {},
   "outputs": [],
   "source": [
    "#On the basis of dimensions"
   ]
  },
  {
   "cell_type": "code",
   "execution_count": 131,
   "id": "362c63ef",
   "metadata": {},
   "outputs": [],
   "source": [
    "#1D\n",
    "#2D\n",
    "#3D"
   ]
  },
  {
   "cell_type": "code",
   "execution_count": 132,
   "id": "6ae3a6b6",
   "metadata": {},
   "outputs": [
    {
     "name": "stdout",
     "output_type": "stream",
     "text": [
      "[1, 2, 3, 4, 5, 6, 7, 8, 9]\n",
      "[[1, 2, 3], [4, 5, 6], [7, 8, 9]]\n",
      "[[[1, 2, 3], [4, 5, 6], [7, 8, 9]], [[1, 2, 3], [4, 5, 6], [7, 8, 9]]]\n"
     ]
    }
   ],
   "source": [
    "l1 = [1,2,3,4,5,6,7,8,9] #1d\n",
    "l2 = [\n",
    "    [1,2,3],\n",
    "    [4,5,6],\n",
    "    [7,8,9],\n",
    "]\n",
    "l3 = [\n",
    "    [\n",
    "        [1,2,3],\n",
    "        [4,5,6],\n",
    "        [7,8,9],\n",
    "    ],\n",
    "    [\n",
    "        [1,2,3],\n",
    "        [4,5,6],\n",
    "        [7,8,9],\n",
    "    ]\n",
    "]\n",
    "print(l1)#1D\n",
    "print(l2)#2D\n",
    "print(l3)#3D"
   ]
  },
  {
   "cell_type": "code",
   "execution_count": 133,
   "id": "225ded36",
   "metadata": {},
   "outputs": [],
   "source": [
    "#SEQUENTIAL\n",
    "#ORDERED\n",
    "#MUTABLE"
   ]
  },
  {
   "cell_type": "code",
   "execution_count": 136,
   "id": "64b19f40",
   "metadata": {},
   "outputs": [],
   "source": [
    "l[0] = 55"
   ]
  },
  {
   "cell_type": "code",
   "execution_count": 137,
   "id": "c5f9ee5d",
   "metadata": {},
   "outputs": [
    {
     "name": "stdout",
     "output_type": "stream",
     "text": [
      "[55, 312, 4, 23, 534, 65, 54, 67, 567, 456, 54, 34, 32, 4]\n"
     ]
    }
   ],
   "source": [
    "print(l)"
   ]
  },
  {
   "cell_type": "code",
   "execution_count": 140,
   "id": "445cb239",
   "metadata": {},
   "outputs": [
    {
     "name": "stdout",
     "output_type": "stream",
     "text": [
      "[1, 2, 3, 4, 5, 6, 7, 8, 9]\n",
      "[9, 8, 7, 6, 5, 4, 3, 2, 1]\n",
      "[5, 3, 1]\n"
     ]
    }
   ],
   "source": [
    "#slicing\n",
    "print(l1)\n",
    "print(l1[::-1])\n",
    "print(l1[-5::-2])"
   ]
  },
  {
   "cell_type": "code",
   "execution_count": 141,
   "id": "082de1f3",
   "metadata": {},
   "outputs": [
    {
     "name": "stdout",
     "output_type": "stream",
     "text": [
      "[1, 2, 3]\n"
     ]
    }
   ],
   "source": [
    "a = 1\n",
    "b = 2\n",
    "c = 3\n",
    "a1 = [a,b,c]\n",
    "print(a1)"
   ]
  },
  {
   "cell_type": "code",
   "execution_count": 142,
   "id": "b1957e9e",
   "metadata": {},
   "outputs": [
    {
     "name": "stdout",
     "output_type": "stream",
     "text": [
      "[4, 5, 6] 2931536962816\n",
      "[4, 5, 6] 2931559400320\n"
     ]
    }
   ],
   "source": [
    "a1 = [4,5,6]\n",
    "a2 = [4,5,6]\n",
    "print(a1,id(a1))\n",
    "print(a2,id(a2))"
   ]
  },
  {
   "cell_type": "code",
   "execution_count": 143,
   "id": "00be8eaa",
   "metadata": {},
   "outputs": [
    {
     "name": "stdout",
     "output_type": "stream",
     "text": [
      "4 140710058562440\n",
      "4 140710058562440\n"
     ]
    }
   ],
   "source": [
    "print(a1[0],id(a1[0]))\n",
    "print(a2[0],id(a2[0]))"
   ]
  },
  {
   "cell_type": "code",
   "execution_count": null,
   "id": "b7eb3a66",
   "metadata": {},
   "outputs": [],
   "source": []
  }
 ],
 "metadata": {
  "kernelspec": {
   "display_name": "Python 3 (ipykernel)",
   "language": "python",
   "name": "python3"
  },
  "language_info": {
   "codemirror_mode": {
    "name": "ipython",
    "version": 3
   },
   "file_extension": ".py",
   "mimetype": "text/x-python",
   "name": "python",
   "nbconvert_exporter": "python",
   "pygments_lexer": "ipython3",
   "version": "3.11.4"
  }
 },
 "nbformat": 4,
 "nbformat_minor": 5
}
