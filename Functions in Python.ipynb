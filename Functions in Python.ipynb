{
 "cells": [
  {
   "cell_type": "markdown",
   "id": "5244c8b2",
   "metadata": {},
   "source": [
    "# What is Function?"
   ]
  },
  {
   "cell_type": "markdown",
   "id": "41af9f39",
   "metadata": {},
   "source": [
    "It is a block of code which provides reusablity to our program."
   ]
  },
  {
   "cell_type": "markdown",
   "id": "cb4c4d9d",
   "metadata": {},
   "source": [
    "1. Definition\n",
    "2. Return\n",
    "3. Calling"
   ]
  },
  {
   "cell_type": "markdown",
   "id": "8b060ce0",
   "metadata": {},
   "source": [
    "- Types of Functions\n",
    "    - Builtins or Predefined Functions\n",
    "    - User Defined Functions"
   ]
  },
  {
   "cell_type": "markdown",
   "id": "cda4d00d",
   "metadata": {},
   "source": [
    "###  Builtins"
   ]
  },
  {
   "cell_type": "code",
   "execution_count": 2,
   "id": "52168976",
   "metadata": {},
   "outputs": [],
   "source": [
    "import builtins"
   ]
  },
  {
   "cell_type": "code",
   "execution_count": 5,
   "id": "522fc1b6",
   "metadata": {},
   "outputs": [
    {
     "name": "stdout",
     "output_type": "stream",
     "text": [
      "['abs', 'aiter', 'all', 'anext', 'any', 'ascii', 'bin', 'bool', 'breakpoint', 'bytearray', 'bytes', 'callable', 'chr', 'classmethod', 'compile', 'complex', 'copyright', 'credits', 'delattr', 'dict', 'dir', 'display', 'divmod', 'enumerate', 'eval', 'exec', 'execfile', 'filter', 'float', 'format', 'frozenset', 'get_ipython', 'getattr', 'globals', 'hasattr', 'hash', 'help', 'hex', 'id', 'input', 'int', 'isinstance', 'issubclass', 'iter', 'len', 'license', 'list', 'locals', 'map', 'max', 'memoryview', 'min', 'next', 'object', 'oct', 'open', 'ord', 'pow', 'print', 'property', 'range', 'repr', 'reversed', 'round', 'runfile', 'set', 'setattr', 'slice', 'sorted', 'staticmethod', 'str', 'sum', 'super', 'tuple', 'type', 'vars', 'zip']\n"
     ]
    }
   ],
   "source": [
    "l = dir(builtins)\n",
    "l = l[l.index('abs'):]\n",
    "print(l)"
   ]
  },
  {
   "cell_type": "markdown",
   "id": "ea2e3764",
   "metadata": {},
   "source": [
    "    print()\n",
    "    id()\n",
    "    abs()\n",
    "    int()\n",
    "    list()\n",
    "    tuple()\n",
    "    dict()\n",
    "    str()\n",
    "    set()\n",
    "    frozenset()\n",
    "    bin()\n",
    "    id()\n",
    "    type()\n",
    "    dir()"
   ]
  },
  {
   "cell_type": "code",
   "execution_count": 7,
   "id": "b42afcde",
   "metadata": {},
   "outputs": [
    {
     "data": {
      "text/plain": [
       "True"
      ]
     },
     "execution_count": 7,
     "metadata": {},
     "output_type": "execute_result"
    }
   ],
   "source": [
    "any([True,True,False,True]) #Any True --> True"
   ]
  },
  {
   "cell_type": "code",
   "execution_count": 8,
   "id": "aad1441b",
   "metadata": {},
   "outputs": [
    {
     "data": {
      "text/plain": [
       "False"
      ]
     },
     "execution_count": 8,
     "metadata": {},
     "output_type": "execute_result"
    }
   ],
   "source": [
    "all([True,True,True,False]) #All True --> True"
   ]
  },
  {
   "cell_type": "code",
   "execution_count": 10,
   "id": "23d41866",
   "metadata": {},
   "outputs": [
    {
     "data": {
      "text/plain": [
       "True"
      ]
     },
     "execution_count": 10,
     "metadata": {},
     "output_type": "execute_result"
    }
   ],
   "source": [
    "bool(\"Ravi\")"
   ]
  },
  {
   "cell_type": "code",
   "execution_count": 21,
   "id": "7fb4f3a6",
   "metadata": {},
   "outputs": [
    {
     "name": "stdout",
     "output_type": "stream",
     "text": [
      "['A', 'B', 'C', 'D', 'E', 'F', 'G', 'H', 'I', 'J', 'K', 'L', 'M', 'N', 'O', 'P', 'Q', 'R', 'S', 'T', 'U', 'V', 'W', 'X', 'Y', 'Z']\n"
     ]
    }
   ],
   "source": [
    "l = [chr(var) for var in range(65,91)] ; print(l)"
   ]
  },
  {
   "cell_type": "code",
   "execution_count": 22,
   "id": "90071bcb",
   "metadata": {},
   "outputs": [
    {
     "name": "stdout",
     "output_type": "stream",
     "text": [
      "['a', 'b', 'c', 'd', 'e', 'f', 'g', 'h', 'i', 'j', 'k', 'l', 'm', 'n', 'o', 'p', 'q', 'r', 's', 't', 'u', 'v', 'w', 'x', 'y', 'z']\n"
     ]
    }
   ],
   "source": [
    "l = [chr(var) for var in range(97,123)] ; print(l)"
   ]
  },
  {
   "cell_type": "code",
   "execution_count": 26,
   "id": "5c83b53a",
   "metadata": {},
   "outputs": [
    {
     "name": "stdout",
     "output_type": "stream",
     "text": [
      "['क', 'ख', 'ग', 'घ', 'ङ', 'च', 'छ', 'ज', 'झ', 'ञ', 'ट', 'ठ', 'ड', 'ढ', 'ण', 'त', 'थ', 'द', 'ध', 'न', 'ऩ', 'प', 'फ', 'ब', 'भ', 'म', 'य', 'र', 'ऱ', 'ल', 'ळ', 'ऴ', 'व', 'श', 'ष', 'स', 'ह']\n"
     ]
    }
   ],
   "source": [
    "l = [chr(var) for var in range(ord('क'),ord('क')+37)];print(l)"
   ]
  },
  {
   "cell_type": "code",
   "execution_count": null,
   "id": "5bda1e2b",
   "metadata": {},
   "outputs": [],
   "source": [
    "l = [chr(var) for var in range(50000)] ; print(l)"
   ]
  },
  {
   "cell_type": "code",
   "execution_count": 30,
   "id": "7f197158",
   "metadata": {},
   "outputs": [
    {
     "data": {
      "text/plain": [
       "(3, 1)"
      ]
     },
     "execution_count": 30,
     "metadata": {},
     "output_type": "execute_result"
    }
   ],
   "source": [
    "divmod(10,3)"
   ]
  },
  {
   "cell_type": "code",
   "execution_count": 34,
   "id": "5a88ef54",
   "metadata": {},
   "outputs": [
    {
     "name": "stdout",
     "output_type": "stream",
     "text": [
      "0 R\n",
      "1 a\n",
      "2 v\n",
      "3 i\n",
      "4  \n",
      "5 R\n",
      "6 a\n",
      "7 m\n",
      "8 a\n",
      "9 w\n",
      "10 a\n",
      "11 t\n"
     ]
    }
   ],
   "source": [
    "for var1,var2 in list(enumerate(\"Ravi Ramawat\")):\n",
    "    print(var1,var2)"
   ]
  },
  {
   "cell_type": "code",
   "execution_count": 51,
   "id": "b9415b23",
   "metadata": {},
   "outputs": [],
   "source": [
    "d=dict(enumerate(\"Ravi Ramawat\"))"
   ]
  },
  {
   "cell_type": "code",
   "execution_count": 39,
   "id": "b017d7e2",
   "metadata": {},
   "outputs": [
    {
     "name": "stdout",
     "output_type": "stream",
     "text": [
      "0 --> R\n",
      "1 --> a\n",
      "2 --> v\n",
      "3 --> i\n",
      "4 -->  \n",
      "5 --> R\n",
      "6 --> a\n",
      "7 --> m\n",
      "8 --> a\n",
      "9 --> w\n",
      "10 --> a\n",
      "11 --> t\n"
     ]
    }
   ],
   "source": [
    "for key,value in d.items():\n",
    "    print(f\"{key} --> {value}\")"
   ]
  },
  {
   "cell_type": "code",
   "execution_count": 40,
   "id": "a3516856",
   "metadata": {},
   "outputs": [
    {
     "name": "stdout",
     "output_type": "stream",
     "text": [
      "{0: 'Ravi', 1: 'Ramawat'}\n"
     ]
    }
   ],
   "source": [
    "d=dict(enumerate(\"Ravi Ramawat\".split()))\n",
    "print(d)"
   ]
  },
  {
   "cell_type": "code",
   "execution_count": 41,
   "id": "621c411f",
   "metadata": {},
   "outputs": [
    {
     "name": "stdout",
     "output_type": "stream",
     "text": [
      "3.5\n"
     ]
    }
   ],
   "source": [
    "a,b,c,d = 1,2,3,4\n",
    "e = 'a+b*c/d+a**2'\n",
    "print(eval(e))"
   ]
  },
  {
   "cell_type": "code",
   "execution_count": 49,
   "id": "ddccb9aa",
   "metadata": {},
   "outputs": [
    {
     "name": "stdout",
     "output_type": "stream",
     "text": [
      "[2142,32,54325,23,542]\n",
      "[2142, 32, 54325, 23, 542] <class 'list'>\n"
     ]
    }
   ],
   "source": [
    "a = eval(input())\n",
    "print(a,type(a))"
   ]
  },
  {
   "cell_type": "code",
   "execution_count": 53,
   "id": "45551fab",
   "metadata": {},
   "outputs": [],
   "source": [
    "s = str(d)"
   ]
  },
  {
   "cell_type": "code",
   "execution_count": 54,
   "id": "e7e82597",
   "metadata": {},
   "outputs": [
    {
     "name": "stdout",
     "output_type": "stream",
     "text": [
      "{0: 'R', 1: 'a', 2: 'v', 3: 'i', 4: ' ', 5: 'R', 6: 'a', 7: 'm', 8: 'a', 9: 'w', 10: 'a', 11: 't'} <class 'str'>\n"
     ]
    }
   ],
   "source": [
    "print(s,type(s))"
   ]
  },
  {
   "cell_type": "code",
   "execution_count": 58,
   "id": "8531178b",
   "metadata": {},
   "outputs": [
    {
     "name": "stdout",
     "output_type": "stream",
     "text": [
      "<class 'dict'>\n"
     ]
    }
   ],
   "source": [
    "print(type(eval(s)))"
   ]
  },
  {
   "cell_type": "code",
   "execution_count": 61,
   "id": "88db2597",
   "metadata": {},
   "outputs": [
    {
     "data": {
      "text/plain": [
       "5469290895521987353"
      ]
     },
     "execution_count": 61,
     "metadata": {},
     "output_type": "execute_result"
    }
   ],
   "source": [
    "hash(\"Ravi \")"
   ]
  },
  {
   "cell_type": "code",
   "execution_count": 62,
   "id": "d2742530",
   "metadata": {},
   "outputs": [
    {
     "data": {
      "text/plain": [
       "3995396972952631789"
      ]
     },
     "execution_count": 62,
     "metadata": {},
     "output_type": "execute_result"
    }
   ],
   "source": [
    "hash(\"Ravi\")"
   ]
  },
  {
   "cell_type": "code",
   "execution_count": 63,
   "id": "941d4891",
   "metadata": {},
   "outputs": [
    {
     "data": {
      "text/plain": [
       "123412"
      ]
     },
     "execution_count": 63,
     "metadata": {},
     "output_type": "execute_result"
    }
   ],
   "source": [
    "max([123412,432,5,23,54,13,4,3125,234])"
   ]
  },
  {
   "cell_type": "code",
   "execution_count": 64,
   "id": "757c7ceb",
   "metadata": {},
   "outputs": [
    {
     "data": {
      "text/plain": [
       "1"
      ]
     },
     "execution_count": 64,
     "metadata": {},
     "output_type": "execute_result"
    }
   ],
   "source": [
    "min([213,21,4,124,1,4,12,3,12,412,3,12])"
   ]
  },
  {
   "cell_type": "code",
   "execution_count": null,
   "id": "18b1b3c7",
   "metadata": {},
   "outputs": [],
   "source": []
  }
 ],
 "metadata": {
  "kernelspec": {
   "display_name": "Python 3 (ipykernel)",
   "language": "python",
   "name": "python3"
  },
  "language_info": {
   "codemirror_mode": {
    "name": "ipython",
    "version": 3
   },
   "file_extension": ".py",
   "mimetype": "text/x-python",
   "name": "python",
   "nbconvert_exporter": "python",
   "pygments_lexer": "ipython3",
   "version": "3.11.4"
  }
 },
 "nbformat": 4,
 "nbformat_minor": 5
}
