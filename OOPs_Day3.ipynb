{
 "cells": [
  {
   "cell_type": "markdown",
   "id": "4fd66099",
   "metadata": {},
   "source": [
    "# Inheritance"
   ]
  },
  {
   "cell_type": "code",
   "execution_count": 10,
   "id": "8745d611",
   "metadata": {},
   "outputs": [],
   "source": [
    "#Single Level\n",
    "class Parent:\n",
    "    def Haveli(self):\n",
    "        return \"Purani Haveli\"\n",
    "    def car(self):\n",
    "        return \"Wagon-R\"\n",
    "    def bike(self):\n",
    "        return \"Splendor\""
   ]
  },
  {
   "cell_type": "code",
   "execution_count": 11,
   "id": "fa91e7b0",
   "metadata": {},
   "outputs": [],
   "source": [
    "class Child(Parent):\n",
    "    def phone(self):\n",
    "        return \"Iphone 15\""
   ]
  },
  {
   "cell_type": "code",
   "execution_count": 12,
   "id": "861e251b",
   "metadata": {},
   "outputs": [
    {
     "name": "stdout",
     "output_type": "stream",
     "text": [
      "['Haveli', '__class__', '__delattr__', '__dict__', '__dir__', '__doc__', '__eq__', '__format__', '__ge__', '__getattribute__', '__getstate__', '__gt__', '__hash__', '__init__', '__init_subclass__', '__le__', '__lt__', '__module__', '__ne__', '__new__', '__reduce__', '__reduce_ex__', '__repr__', '__setattr__', '__sizeof__', '__str__', '__subclasshook__', '__weakref__', 'bike', 'car', 'phone']\n"
     ]
    }
   ],
   "source": [
    "c1 = Child()\n",
    "print(dir(c1))"
   ]
  },
  {
   "cell_type": "code",
   "execution_count": 17,
   "id": "a12bf32e",
   "metadata": {},
   "outputs": [
    {
     "name": "stdout",
     "output_type": "stream",
     "text": [
      "Purani Haveli\n",
      "Wagon-R\n",
      "Splendor\n",
      "Iphone 15\n"
     ]
    }
   ],
   "source": [
    "print(c1.Haveli())\n",
    "print(c1.car())\n",
    "print(c1.bike())\n",
    "print(c1.phone())"
   ]
  },
  {
   "cell_type": "code",
   "execution_count": 20,
   "id": "037f4541",
   "metadata": {},
   "outputs": [],
   "source": [
    "#multilevel\n",
    "class GrandFather:\n",
    "    def Bullet(self):\n",
    "        return f\"Grand-Father has Royal Enfield bullet model 1997\"\n",
    "class Father(GrandFather):\n",
    "    def Fortuner(self):\n",
    "        return f\"Father has Toyota Fortuner model 2017\"\n",
    "class Son(Father):\n",
    "    def Audi(self):\n",
    "        return f\"Son has Audi A8 model 2024\""
   ]
  },
  {
   "cell_type": "code",
   "execution_count": 21,
   "id": "5153c422",
   "metadata": {},
   "outputs": [],
   "source": [
    "s1 = Son()"
   ]
  },
  {
   "cell_type": "code",
   "execution_count": 23,
   "id": "a5e70dd3",
   "metadata": {},
   "outputs": [
    {
     "name": "stdout",
     "output_type": "stream",
     "text": [
      "['Audi', 'Bullet', 'Fortuner', '__class__', '__delattr__', '__dict__', '__dir__', '__doc__', '__eq__', '__format__', '__ge__', '__getattribute__', '__getstate__', '__gt__', '__hash__', '__init__', '__init_subclass__', '__le__', '__lt__', '__module__', '__ne__', '__new__', '__reduce__', '__reduce_ex__', '__repr__', '__setattr__', '__sizeof__', '__str__', '__subclasshook__', '__weakref__']\n"
     ]
    }
   ],
   "source": [
    "print(dir(s1))"
   ]
  },
  {
   "cell_type": "code",
   "execution_count": 24,
   "id": "3d20b793",
   "metadata": {},
   "outputs": [
    {
     "data": {
      "text/plain": [
       "'Son has Audi A8 model 2024'"
      ]
     },
     "execution_count": 24,
     "metadata": {},
     "output_type": "execute_result"
    }
   ],
   "source": [
    "s1.Audi()"
   ]
  },
  {
   "cell_type": "code",
   "execution_count": 25,
   "id": "f548741c",
   "metadata": {},
   "outputs": [
    {
     "data": {
      "text/plain": [
       "'Father has Toyota Fortuner model 2017'"
      ]
     },
     "execution_count": 25,
     "metadata": {},
     "output_type": "execute_result"
    }
   ],
   "source": [
    "s1.Fortuner()"
   ]
  },
  {
   "cell_type": "code",
   "execution_count": 26,
   "id": "8fd9c5f0",
   "metadata": {},
   "outputs": [
    {
     "data": {
      "text/plain": [
       "'Grand-Father has Royal Enfield bullet model 1997'"
      ]
     },
     "execution_count": 26,
     "metadata": {},
     "output_type": "execute_result"
    }
   ],
   "source": [
    "s1.Bullet()"
   ]
  },
  {
   "cell_type": "code",
   "execution_count": 8,
   "id": "5081d77e",
   "metadata": {},
   "outputs": [],
   "source": [
    "#\n",
    "\n",
    "class A:\n",
    "    def __init__(self,x,y,z):\n",
    "        self.x = x #public member\n",
    "        self._y = y #protected member\n",
    "        self.__z = z #private member\n",
    "    def __get_values(self):\n",
    "        print(f\"\"\"\n",
    "        x --> {self.x}\n",
    "        y --> {self._y}\n",
    "        z --> {self.__z}\"\"\")\n",
    "    def change(self,x,y,z):\n",
    "        self.x = x\n",
    "        self._y = y\n",
    "        self.__z = z"
   ]
  },
  {
   "cell_type": "code",
   "execution_count": 9,
   "id": "92750e76",
   "metadata": {},
   "outputs": [],
   "source": [
    "a1 = A(\"Hi this is X\",\"This is Y\",\"This is Z\")"
   ]
  },
  {
   "cell_type": "code",
   "execution_count": 10,
   "id": "67e03c6d",
   "metadata": {},
   "outputs": [
    {
     "name": "stdout",
     "output_type": "stream",
     "text": [
      "Hi this is X\n",
      "This is Y\n"
     ]
    },
    {
     "ename": "AttributeError",
     "evalue": "'A' object has no attribute '__z'",
     "output_type": "error",
     "traceback": [
      "\u001b[1;31m---------------------------------------------------------------------------\u001b[0m",
      "\u001b[1;31mAttributeError\u001b[0m                            Traceback (most recent call last)",
      "Cell \u001b[1;32mIn[10], line 3\u001b[0m\n\u001b[0;32m      1\u001b[0m \u001b[38;5;28mprint\u001b[39m(a1\u001b[38;5;241m.\u001b[39mx)\n\u001b[0;32m      2\u001b[0m \u001b[38;5;28mprint\u001b[39m(a1\u001b[38;5;241m.\u001b[39m_y)\n\u001b[1;32m----> 3\u001b[0m \u001b[38;5;28mprint\u001b[39m(a1\u001b[38;5;241m.\u001b[39m__z)\n",
      "\u001b[1;31mAttributeError\u001b[0m: 'A' object has no attribute '__z'"
     ]
    }
   ],
   "source": [
    "print(a1.x)\n",
    "print(a1._y)\n",
    "print(a1.__z)"
   ]
  },
  {
   "cell_type": "code",
   "execution_count": 4,
   "id": "34569dbb",
   "metadata": {},
   "outputs": [
    {
     "name": "stdout",
     "output_type": "stream",
     "text": [
      "\n",
      "        x --> Hi this is X\n",
      "        y --> This is Y\n",
      "        z --> This is Z\n"
     ]
    }
   ],
   "source": [
    "a1.get_values()"
   ]
  },
  {
   "cell_type": "code",
   "execution_count": 34,
   "id": "850033f6",
   "metadata": {},
   "outputs": [],
   "source": [
    "a1.x = \"X is Hacked\"\n",
    "a1._y = \"Y is Hacked\"\n",
    "a1.__z = \"Z is Hacked\""
   ]
  },
  {
   "cell_type": "code",
   "execution_count": 38,
   "id": "c7555ad1",
   "metadata": {},
   "outputs": [
    {
     "name": "stdout",
     "output_type": "stream",
     "text": [
      "\n",
      "        x --> X is Hacked\n",
      "        y --> Y is Hacked\n",
      "        z --> This is Z\n"
     ]
    }
   ],
   "source": [
    "a1.get_values()"
   ]
  },
  {
   "cell_type": "code",
   "execution_count": 11,
   "id": "31317bba",
   "metadata": {},
   "outputs": [
    {
     "name": "stdout",
     "output_type": "stream",
     "text": [
      "['_A__get_values', '_A__z', '__class__', '__delattr__', '__dict__', '__dir__', '__doc__', '__eq__', '__format__', '__ge__', '__getattribute__', '__getstate__', '__gt__', '__hash__', '__init__', '__init_subclass__', '__le__', '__lt__', '__module__', '__ne__', '__new__', '__reduce__', '__reduce_ex__', '__repr__', '__setattr__', '__sizeof__', '__str__', '__subclasshook__', '__weakref__', '_y', 'change', 'x']\n"
     ]
    }
   ],
   "source": [
    "print(dir(a1))"
   ]
  },
  {
   "cell_type": "code",
   "execution_count": 37,
   "id": "74a56a93",
   "metadata": {},
   "outputs": [
    {
     "data": {
      "text/plain": [
       "'Z is Hacked'"
      ]
     },
     "execution_count": 37,
     "metadata": {},
     "output_type": "execute_result"
    }
   ],
   "source": [
    "a1.__z"
   ]
  },
  {
   "cell_type": "code",
   "execution_count": 39,
   "id": "3d802446",
   "metadata": {},
   "outputs": [
    {
     "data": {
      "text/plain": [
       "'This is Z'"
      ]
     },
     "execution_count": 39,
     "metadata": {},
     "output_type": "execute_result"
    }
   ],
   "source": [
    "a1._A__z"
   ]
  },
  {
   "cell_type": "code",
   "execution_count": 6,
   "id": "54850d19",
   "metadata": {},
   "outputs": [],
   "source": [
    "a1.change(\"Ravi\",\"Sachin\",\"Jayant\")"
   ]
  },
  {
   "cell_type": "code",
   "execution_count": 7,
   "id": "32b43c24",
   "metadata": {},
   "outputs": [
    {
     "name": "stdout",
     "output_type": "stream",
     "text": [
      "\n",
      "        x --> Ravi\n",
      "        y --> Sachin\n",
      "        z --> Jayant\n"
     ]
    }
   ],
   "source": [
    "a1.get_values()"
   ]
  },
  {
   "cell_type": "code",
   "execution_count": 14,
   "id": "d6c23fa9",
   "metadata": {},
   "outputs": [],
   "source": [
    "#hierarchical inhertance"
   ]
  },
  {
   "cell_type": "code",
   "execution_count": 18,
   "id": "1b20839c",
   "metadata": {},
   "outputs": [],
   "source": [
    "class A:\n",
    "    def base(self):\n",
    "        return \"hi this is the base function of class A\"\n",
    "class B(A):\n",
    "    def derived1(self):\n",
    "        return \"hi this is the derived1 function of class B\"\n",
    "class C(A):\n",
    "    def derived2(self):\n",
    "        return \"hi this is the derived2 function of class C\""
   ]
  },
  {
   "cell_type": "code",
   "execution_count": 19,
   "id": "65cd2014",
   "metadata": {},
   "outputs": [],
   "source": [
    "b1 = B()\n",
    "c1 = C()"
   ]
  },
  {
   "cell_type": "code",
   "execution_count": 20,
   "id": "2b869b4b",
   "metadata": {},
   "outputs": [
    {
     "data": {
      "text/plain": [
       "'hi this is the base function of class A'"
      ]
     },
     "execution_count": 20,
     "metadata": {},
     "output_type": "execute_result"
    }
   ],
   "source": [
    "b1.base()"
   ]
  },
  {
   "cell_type": "code",
   "execution_count": 21,
   "id": "8ede20f2",
   "metadata": {},
   "outputs": [
    {
     "data": {
      "text/plain": [
       "'hi this is the base function of class A'"
      ]
     },
     "execution_count": 21,
     "metadata": {},
     "output_type": "execute_result"
    }
   ],
   "source": [
    "c1.base()"
   ]
  },
  {
   "cell_type": "code",
   "execution_count": 22,
   "id": "bc27ddf1",
   "metadata": {},
   "outputs": [
    {
     "data": {
      "text/plain": [
       "'hi this is the derived1 function of class B'"
      ]
     },
     "execution_count": 22,
     "metadata": {},
     "output_type": "execute_result"
    }
   ],
   "source": [
    "b1.derived1()"
   ]
  },
  {
   "cell_type": "code",
   "execution_count": 23,
   "id": "a2e7d3e7",
   "metadata": {},
   "outputs": [
    {
     "ename": "AttributeError",
     "evalue": "'B' object has no attribute 'derived2'",
     "output_type": "error",
     "traceback": [
      "\u001b[1;31m---------------------------------------------------------------------------\u001b[0m",
      "\u001b[1;31mAttributeError\u001b[0m                            Traceback (most recent call last)",
      "Cell \u001b[1;32mIn[23], line 1\u001b[0m\n\u001b[1;32m----> 1\u001b[0m b1\u001b[38;5;241m.\u001b[39mderived2()\n",
      "\u001b[1;31mAttributeError\u001b[0m: 'B' object has no attribute 'derived2'"
     ]
    }
   ],
   "source": [
    "b1.derived2()"
   ]
  },
  {
   "cell_type": "code",
   "execution_count": 24,
   "id": "f0db2e69",
   "metadata": {},
   "outputs": [],
   "source": [
    "#polymorphism"
   ]
  },
  {
   "cell_type": "code",
   "execution_count": 25,
   "id": "d80f5771",
   "metadata": {},
   "outputs": [],
   "source": [
    "#function overloading\n",
    "#function overriding"
   ]
  },
  {
   "cell_type": "code",
   "execution_count": 29,
   "id": "07fe9b1a",
   "metadata": {},
   "outputs": [],
   "source": [
    "def hello(a):\n",
    "    return \"hi\"\n",
    "def hello(a,b):\n",
    "    return \"hey\""
   ]
  },
  {
   "cell_type": "code",
   "execution_count": 30,
   "id": "2708bb4a",
   "metadata": {},
   "outputs": [],
   "source": [
    "def area(a,b,c,d):\n",
    "    if a is not None and b is not None and c is not None and d is None:\n",
    "        print(\"Triangle\")\n",
    "    elif a is not None and b is not None and c is not None and d is not None:\n",
    "        print(\"Quardilateral\")"
   ]
  },
  {
   "cell_type": "code",
   "execution_count": 33,
   "id": "b329799d",
   "metadata": {},
   "outputs": [
    {
     "name": "stdout",
     "output_type": "stream",
     "text": [
      "Quardilateral\n"
     ]
    }
   ],
   "source": [
    "area(1,2,3,4)"
   ]
  },
  {
   "cell_type": "code",
   "execution_count": 36,
   "id": "075fae3b",
   "metadata": {},
   "outputs": [],
   "source": [
    "class Parent:\n",
    "    def home(self):\n",
    "        return \"Parents has a bunglow\"\n",
    "    def car(self):\n",
    "        return \"Parents has a ROllS ROYCE\"\n",
    "\n",
    "class Child(Parent):\n",
    "    def home(self):\n",
    "        return \"Child live in Rented Flat\"\n",
    "    def car(self):\n",
    "        return \"Chlid has rented Maruti 800\"\n",
    "    def phone(self):\n",
    "        return \"Child has Chinese Phone\""
   ]
  },
  {
   "cell_type": "code",
   "execution_count": 40,
   "id": "63433ab4",
   "metadata": {},
   "outputs": [
    {
     "name": "stdout",
     "output_type": "stream",
     "text": [
      "Child live in Rented Flat\n",
      "Chlid has rented Maruti 800\n",
      "Child has Chinese Phone\n"
     ]
    }
   ],
   "source": [
    "c1 = Child()\n",
    "print(c1.home())\n",
    "print(c1.car())\n",
    "print(c1.phone())"
   ]
  },
  {
   "cell_type": "code",
   "execution_count": null,
   "id": "48638978",
   "metadata": {},
   "outputs": [],
   "source": []
  }
 ],
 "metadata": {
  "kernelspec": {
   "display_name": "Python 3 (ipykernel)",
   "language": "python",
   "name": "python3"
  },
  "language_info": {
   "codemirror_mode": {
    "name": "ipython",
    "version": 3
   },
   "file_extension": ".py",
   "mimetype": "text/x-python",
   "name": "python",
   "nbconvert_exporter": "python",
   "pygments_lexer": "ipython3",
   "version": "3.11.4"
  }
 },
 "nbformat": 4,
 "nbformat_minor": 5
}
