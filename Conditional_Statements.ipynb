{
 "cells": [
  {
   "cell_type": "markdown",
   "id": "d5b906a0",
   "metadata": {},
   "source": [
    "# Conditional Statements "
   ]
  },
  {
   "cell_type": "markdown",
   "id": "79291ad6",
   "metadata": {},
   "source": [
    "    Syntax\n",
    "    \n",
    "    if condition:\n",
    "        Statement.....\n",
    "        ..............\n",
    "        ..............\n",
    "        ..............\n",
    "        ..............\n",
    "    else:\n",
    "        Statements\n",
    "        .............\n",
    "        .............\n",
    "        .............\n",
    "        ............."
   ]
  },
  {
   "cell_type": "code",
   "execution_count": 3,
   "id": "e28300e4",
   "metadata": {},
   "outputs": [],
   "source": [
    "#Indentations --> Spacing"
   ]
  },
  {
   "cell_type": "code",
   "execution_count": 4,
   "id": "7785eedc",
   "metadata": {},
   "outputs": [],
   "source": [
    "#SCOPE"
   ]
  },
  {
   "cell_type": "code",
   "execution_count": 5,
   "id": "f37ab9de",
   "metadata": {},
   "outputs": [
    {
     "name": "stdout",
     "output_type": "stream",
     "text": [
      "Hello World!!\n",
      "Hi World!!\n"
     ]
    }
   ],
   "source": [
    "if \"All iz Well\": #true\n",
    "    print(\"Hello World!!\") #inside if\n",
    "print(\"Hi World!!\") #outside if"
   ]
  },
  {
   "cell_type": "code",
   "execution_count": 6,
   "id": "211e49d0",
   "metadata": {},
   "outputs": [
    {
     "name": "stdout",
     "output_type": "stream",
     "text": [
      "Hi World!!\n"
     ]
    }
   ],
   "source": [
    "if \"\": #False\n",
    "    print(\"Hello World!!\") #inside if\n",
    "print(\"Hi World!!\") #outside if"
   ]
  },
  {
   "cell_type": "code",
   "execution_count": 8,
   "id": "ee199762",
   "metadata": {},
   "outputs": [
    {
     "name": "stdout",
     "output_type": "stream",
     "text": [
      "Hi World!!\n"
     ]
    }
   ],
   "source": [
    "if \"\": #False\n",
    "    print(\"Hello World!!\") #inside if\n",
    "else:\n",
    "    print(\"Hi World!!\") #inside else"
   ]
  },
  {
   "cell_type": "code",
   "execution_count": 7,
   "id": "f71e071a",
   "metadata": {},
   "outputs": [],
   "source": [
    "#WAP to check whether a number is even or odd"
   ]
  },
  {
   "cell_type": "code",
   "execution_count": 16,
   "id": "55a04c83",
   "metadata": {},
   "outputs": [
    {
     "name": "stdout",
     "output_type": "stream",
     "text": [
      "Enter a number -->6\n",
      "6 is Even\n"
     ]
    }
   ],
   "source": [
    "num = int(input(\"Enter a number -->\"))\n",
    "if num%2:\n",
    "    print(f\"{num} is Odd\")\n",
    "else:\n",
    "    print(f\"{num} is Even\")"
   ]
  },
  {
   "cell_type": "code",
   "execution_count": 17,
   "id": "0d20d449",
   "metadata": {},
   "outputs": [
    {
     "name": "stdout",
     "output_type": "stream",
     "text": [
      "Enter a number -->2\n",
      "2 is Even\n"
     ]
    }
   ],
   "source": [
    "num = int(input(\"Enter a number -->\"))\n",
    "print(f\"{num} is Odd\") if num%2 else print(f\"{num} is Even\")"
   ]
  },
  {
   "cell_type": "code",
   "execution_count": 18,
   "id": "3fc49c0e",
   "metadata": {},
   "outputs": [],
   "source": [
    "#TRUE if Condition else False"
   ]
  },
  {
   "cell_type": "code",
   "execution_count": 19,
   "id": "3da9c81a",
   "metadata": {},
   "outputs": [],
   "source": [
    "#WAP to check whether a year is leap or common year"
   ]
  },
  {
   "cell_type": "code",
   "execution_count": 23,
   "id": "736eac22",
   "metadata": {},
   "outputs": [
    {
     "name": "stdout",
     "output_type": "stream",
     "text": [
      "Enter a year -->2019\n",
      "Common Year\n"
     ]
    }
   ],
   "source": [
    "year = int(input(\"Enter a year -->\"))\n",
    "if year%100!=0:\n",
    "    if year%4==0:\n",
    "        print(\"Leap Year\")\n",
    "    else:\n",
    "        print(\"Common Year\")\n",
    "else:\n",
    "    if year%400==0:\n",
    "        print(\"Leap\")\n",
    "    else:\n",
    "        print(\"Common\")"
   ]
  },
  {
   "cell_type": "code",
   "execution_count": 24,
   "id": "4f917f3b",
   "metadata": {},
   "outputs": [],
   "source": [
    "#Greatest among 3 nos using if-else"
   ]
  },
  {
   "cell_type": "code",
   "execution_count": 27,
   "id": "a65d9450",
   "metadata": {},
   "outputs": [
    {
     "name": "stdout",
     "output_type": "stream",
     "text": [
      "Enter the value of x,y,z (space separated) --> 22 5 9\n",
      "22 is Greatest!!\n"
     ]
    }
   ],
   "source": [
    "x,y,z = map(int,input(\"Enter the value of x,y,z (space separated) --> \").split())\n",
    "if x>y and x>z:\n",
    "    print(f\"{x} is Greatest!!\")\n",
    "elif y>z:\n",
    "    print(f\"{y} is Greatest!!\")\n",
    "else:\n",
    "    print(f\"{z} is Greatest!!\")"
   ]
  },
  {
   "cell_type": "code",
   "execution_count": 28,
   "id": "953492f0",
   "metadata": {},
   "outputs": [],
   "source": [
    "#map(func,iterable)"
   ]
  },
  {
   "cell_type": "code",
   "execution_count": 32,
   "id": "dec34646",
   "metadata": {},
   "outputs": [
    {
     "name": "stdout",
     "output_type": "stream",
     "text": [
      "Enter x,y,z(space separated --> )4 8 99\n"
     ]
    },
    {
     "data": {
      "text/plain": [
       "[4, 8, 99]"
      ]
     },
     "execution_count": 32,
     "metadata": {},
     "output_type": "execute_result"
    }
   ],
   "source": [
    "a,b,c = map(int,input(\"Enter x,y,z(space separated --> )\").split())"
   ]
  },
  {
   "cell_type": "code",
   "execution_count": 39,
   "id": "9e84a2db",
   "metadata": {},
   "outputs": [],
   "source": [
    "#CALC"
   ]
  },
  {
   "cell_type": "markdown",
   "id": "79ccfa37",
   "metadata": {},
   "source": [
    "+ - * / // ** %"
   ]
  },
  {
   "cell_type": "code",
   "execution_count": 40,
   "id": "f0de7e1d",
   "metadata": {},
   "outputs": [
    {
     "ename": "ZeroDivisionError",
     "evalue": "division by zero",
     "output_type": "error",
     "traceback": [
      "\u001b[1;31m---------------------------------------------------------------------------\u001b[0m",
      "\u001b[1;31mZeroDivisionError\u001b[0m                         Traceback (most recent call last)",
      "Cell \u001b[1;32mIn[40], line 1\u001b[0m\n\u001b[1;32m----> 1\u001b[0m \u001b[38;5;241m2\u001b[39m\u001b[38;5;241m/\u001b[39m\u001b[38;5;241m0\u001b[39m\n",
      "\u001b[1;31mZeroDivisionError\u001b[0m: division by zero"
     ]
    }
   ],
   "source": [
    "2/0"
   ]
  },
  {
   "cell_type": "code",
   "execution_count": 42,
   "id": "9b605120",
   "metadata": {},
   "outputs": [
    {
     "ename": "ZeroDivisionError",
     "evalue": "integer modulo by zero",
     "output_type": "error",
     "traceback": [
      "\u001b[1;31m---------------------------------------------------------------------------\u001b[0m",
      "\u001b[1;31mZeroDivisionError\u001b[0m                         Traceback (most recent call last)",
      "Cell \u001b[1;32mIn[42], line 1\u001b[0m\n\u001b[1;32m----> 1\u001b[0m \u001b[38;5;241m4\u001b[39m\u001b[38;5;241m%\u001b[39m\u001b[38;5;241m0\u001b[39m\n",
      "\u001b[1;31mZeroDivisionError\u001b[0m: integer modulo by zero"
     ]
    }
   ],
   "source": [
    "4%0"
   ]
  },
  {
   "cell_type": "code",
   "execution_count": 43,
   "id": "8778cc97",
   "metadata": {},
   "outputs": [
    {
     "ename": "ZeroDivisionError",
     "evalue": "integer division or modulo by zero",
     "output_type": "error",
     "traceback": [
      "\u001b[1;31m---------------------------------------------------------------------------\u001b[0m",
      "\u001b[1;31mZeroDivisionError\u001b[0m                         Traceback (most recent call last)",
      "Cell \u001b[1;32mIn[43], line 1\u001b[0m\n\u001b[1;32m----> 1\u001b[0m \u001b[38;5;241m5\u001b[39m\u001b[38;5;241m/\u001b[39m\u001b[38;5;241m/\u001b[39m\u001b[38;5;241m0\u001b[39m\n",
      "\u001b[1;31mZeroDivisionError\u001b[0m: integer division or modulo by zero"
     ]
    }
   ],
   "source": [
    "5//0"
   ]
  },
  {
   "cell_type": "code",
   "execution_count": 50,
   "id": "59262861",
   "metadata": {},
   "outputs": [
    {
     "name": "stdout",
     "output_type": "stream",
     "text": [
      "Enter the 2 operands space separated -->4 8\n",
      "Operator --> +\n",
      "4 + 8 = 12\n"
     ]
    }
   ],
   "source": [
    "a,b = map(int,input(\"Enter the 2 operands space separated -->\").split())\n",
    "op = input(\"Operator --> \")\n",
    "if op == \"+\": \n",
    "    print(f\"{a} + {b} = {a+b}\")\n",
    "elif op == \"-\": \n",
    "    print(f\"{a} - {b} = {a-b}\")\n",
    "elif op == \"*\": \n",
    "    print(f\"{a} * {b} = {a*b}\")\n",
    "elif op == \"**\": \n",
    "    print(f\"{a} ** {b} = {a**b}\")\n",
    "elif op == \"/\" or op ==\"%\" or op ==\"//\":\n",
    "    if b==0:\n",
    "        print(\"Can't divide a number by 0!!\")\n",
    "    elif op == \"/\": \n",
    "        print(f\"{a} / {b} = {a/b}\")\n",
    "    elif op == \"//\": \n",
    "        print(f\"{a} // {b} = {a//b}\")\n",
    "    else: \n",
    "        print(f\"{a} % {b} = {a%b}\")\n",
    "else:\n",
    "    print(\"\\nInvalid Operator!!\")"
   ]
  },
  {
   "cell_type": "code",
   "execution_count": null,
   "id": "890dbec3",
   "metadata": {},
   "outputs": [],
   "source": []
  }
 ],
 "metadata": {
  "kernelspec": {
   "display_name": "Python 3 (ipykernel)",
   "language": "python",
   "name": "python3"
  },
  "language_info": {
   "codemirror_mode": {
    "name": "ipython",
    "version": 3
   },
   "file_extension": ".py",
   "mimetype": "text/x-python",
   "name": "python",
   "nbconvert_exporter": "python",
   "pygments_lexer": "ipython3",
   "version": "3.11.4"
  }
 },
 "nbformat": 4,
 "nbformat_minor": 5
}
