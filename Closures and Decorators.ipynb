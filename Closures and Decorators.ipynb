{
 "cells": [
  {
   "cell_type": "code",
   "execution_count": 1,
   "id": "671bd980",
   "metadata": {},
   "outputs": [],
   "source": [
    "#function inside a function and it returns a function"
   ]
  },
  {
   "cell_type": "code",
   "execution_count": 5,
   "id": "05f8a39a",
   "metadata": {},
   "outputs": [
    {
     "name": "stdout",
     "output_type": "stream",
     "text": [
      "Value of x inside hello function is 44\n",
      "Value of x inside hi function is 44\n"
     ]
    }
   ],
   "source": [
    "x = 44\n",
    "def hello():\n",
    "    print(f\"Value of x inside hello function is {x}\")\n",
    "    def hi():\n",
    "        print(f\"Value of x inside hi function is {x}\")\n",
    "    return hi\n",
    "\n",
    "f = hello()\n",
    "f()"
   ]
  },
  {
   "cell_type": "code",
   "execution_count": 6,
   "id": "ea8e70ef",
   "metadata": {},
   "outputs": [
    {
     "name": "stdout",
     "output_type": "stream",
     "text": [
      "Value of x inside hello function is 44\n",
      "Value of x inside hi function is 44\n"
     ]
    }
   ],
   "source": [
    "hello()()"
   ]
  },
  {
   "cell_type": "code",
   "execution_count": 39,
   "id": "8b93da9e",
   "metadata": {},
   "outputs": [],
   "source": [
    "x = 33 #global space\n",
    "def hello():\n",
    "    x=5\n",
    "    print(f\"Value of x inside hello function is {x}\")\n",
    "    def hi():\n",
    "        nonlocal x\n",
    "        x+=6\n",
    "        print(f\"Value of x inside hello function is {x}\")\n",
    "    return hi"
   ]
  },
  {
   "cell_type": "code",
   "execution_count": 41,
   "id": "5162a3a3",
   "metadata": {},
   "outputs": [
    {
     "name": "stdout",
     "output_type": "stream",
     "text": [
      "Value of x inside hello function is 5\n",
      "Value of x inside hello function is 11\n",
      "33\n"
     ]
    }
   ],
   "source": [
    "hello()()\n",
    "print(x)"
   ]
  },
  {
   "cell_type": "code",
   "execution_count": 42,
   "id": "453329fb",
   "metadata": {},
   "outputs": [],
   "source": [
    "#Decorator"
   ]
  },
  {
   "cell_type": "code",
   "execution_count": 57,
   "id": "7ad90b7c",
   "metadata": {},
   "outputs": [],
   "source": [
    "def outer(func):\n",
    "    def inner(n):\n",
    "        print(\"*\"*97)\n",
    "        print(\"-\"*97)\n",
    "        func(n)\n",
    "        print(\"-\"*97)\n",
    "        print(\"*\"*97)\n",
    "    return inner"
   ]
  },
  {
   "cell_type": "code",
   "execution_count": 49,
   "id": "9e5d9044",
   "metadata": {},
   "outputs": [
    {
     "name": "stdout",
     "output_type": "stream",
     "text": [
      "*************************************************************************************************\n",
      "-------------------------------------------------------------------------------------------------\n",
      "                                            4 + 5 = 9                                            \n",
      "-------------------------------------------------------------------------------------------------\n",
      "*************************************************************************************************\n"
     ]
    }
   ],
   "source": [
    "add = lambda x,y:print(f\"{x} + {y} = {x+y}\".center(97))\n",
    "f = outer(add)\n",
    "f(4,5)"
   ]
  },
  {
   "cell_type": "code",
   "execution_count": 61,
   "id": "d3dea885",
   "metadata": {},
   "outputs": [],
   "source": [
    "@outer\n",
    "def fibo(n):\n",
    "    a,b = 0,1\n",
    "    for var in range(n):\n",
    "        print(a,end=\"\\t\")\n",
    "        b,a = a+b,b"
   ]
  },
  {
   "cell_type": "code",
   "execution_count": 62,
   "id": "8fe63478",
   "metadata": {},
   "outputs": [
    {
     "name": "stdout",
     "output_type": "stream",
     "text": [
      "*************************************************************************************************\n",
      "-------------------------------------------------------------------------------------------------\n",
      "0\t1\t1\t2\t3\t5\t8\t13\t21\t34\t55\t89\t144\t233\t377\t-------------------------------------------------------------------------------------------------\n",
      "*************************************************************************************************\n"
     ]
    }
   ],
   "source": [
    "fibo(15)"
   ]
  },
  {
   "cell_type": "code",
   "execution_count": 112,
   "id": "f1ee1c69",
   "metadata": {},
   "outputs": [],
   "source": [
    "def dec(start,end):\n",
    "    def outer(func):\n",
    "        def inner():\n",
    "            for num in range(start,end+1):\n",
    "                func(num)\n",
    "        return inner\n",
    "    return outer"
   ]
  },
  {
   "cell_type": "code",
   "execution_count": 132,
   "id": "1a2bbb67",
   "metadata": {},
   "outputs": [
    {
     "name": "stdout",
     "output_type": "stream",
     "text": [
      "Enter starting and ending point space separated --> 5 5000\n",
      "5\t7\t11\t13\t17\t19\t23\t29\t31\t37\t41\t43\t47\t53\t59\t61\t67\t71\t73\t79\t83\t89\t97\t101\t103\t107\t109\t113\t127\t131\t137\t139\t149\t151\t157\t163\t167\t173\t179\t181\t191\t193\t197\t199\t211\t223\t227\t229\t233\t239\t241\t251\t257\t263\t269\t271\t277\t281\t283\t293\t307\t311\t313\t317\t331\t337\t347\t349\t353\t359\t367\t373\t379\t383\t389\t397\t401\t409\t419\t421\t431\t433\t439\t443\t449\t457\t461\t463\t467\t479\t487\t491\t499\t503\t509\t521\t523\t541\t547\t557\t563\t569\t571\t577\t587\t593\t599\t601\t607\t613\t617\t619\t631\t641\t643\t647\t653\t659\t661\t673\t677\t683\t691\t701\t709\t719\t727\t733\t739\t743\t751\t757\t761\t769\t773\t787\t797\t809\t811\t821\t823\t827\t829\t839\t853\t857\t859\t863\t877\t881\t883\t887\t907\t911\t919\t929\t937\t941\t947\t953\t967\t971\t977\t983\t991\t997\t1009\t1013\t1019\t1021\t1031\t1033\t1039\t1049\t1051\t1061\t1063\t1069\t1087\t1091\t1093\t1097\t1103\t1109\t1117\t1123\t1129\t1151\t1153\t1163\t1171\t1181\t1187\t1193\t1201\t1213\t1217\t1223\t1229\t1231\t1237\t1249\t1259\t1277\t1279\t1283\t1289\t1291\t1297\t1301\t1303\t1307\t1319\t1321\t1327\t1361\t1367\t1373\t1381\t1399\t1409\t1423\t1427\t1429\t1433\t1439\t1447\t1451\t1453\t1459\t1471\t1481\t1483\t1487\t1489\t1493\t1499\t1511\t1523\t1531\t1543\t1549\t1553\t1559\t1567\t1571\t1579\t1583\t1597\t1601\t1607\t1609\t1613\t1619\t1621\t1627\t1637\t1657\t1663\t1667\t1669\t1693\t1697\t1699\t1709\t1721\t1723\t1733\t1741\t1747\t1753\t1759\t1777\t1783\t1787\t1789\t1801\t1811\t1823\t1831\t1847\t1861\t1867\t1871\t1873\t1877\t1879\t1889\t1901\t1907\t1913\t1931\t1933\t1949\t1951\t1973\t1979\t1987\t1993\t1997\t1999\t2003\t2011\t2017\t2027\t2029\t2039\t2053\t2063\t2069\t2081\t2083\t2087\t2089\t2099\t2111\t2113\t2129\t2131\t2137\t2141\t2143\t2153\t2161\t2179\t2203\t2207\t2213\t2221\t2237\t2239\t2243\t2251\t2267\t2269\t2273\t2281\t2287\t2293\t2297\t2309\t2311\t2333\t2339\t2341\t2347\t2351\t2357\t2371\t2377\t2381\t2383\t2389\t2393\t2399\t2411\t2417\t2423\t2437\t2441\t2447\t2459\t2467\t2473\t2477\t2503\t2521\t2531\t2539\t2543\t2549\t2551\t2557\t2579\t2591\t2593\t2609\t2617\t2621\t2633\t2647\t2657\t2659\t2663\t2671\t2677\t2683\t2687\t2689\t2693\t2699\t2707\t2711\t2713\t2719\t2729\t2731\t2741\t2749\t2753\t2767\t2777\t2789\t2791\t2797\t2801\t2803\t2819\t2833\t2837\t2843\t2851\t2857\t2861\t2879\t2887\t2897\t2903\t2909\t2917\t2927\t2939\t2953\t2957\t2963\t2969\t2971\t2999\t3001\t3011\t3019\t3023\t3037\t3041\t3049\t3061\t3067\t3079\t3083\t3089\t3109\t3119\t3121\t3137\t3163\t3167\t3169\t3181\t3187\t3191\t3203\t3209\t3217\t3221\t3229\t3251\t3253\t3257\t3259\t3271\t3299\t3301\t3307\t3313\t3319\t3323\t3329\t3331\t3343\t3347\t3359\t3361\t3371\t3373\t3389\t3391\t3407\t3413\t3433\t3449\t3457\t3461\t3463\t3467\t3469\t3491\t3499\t3511\t3517\t3527\t3529\t3533\t3539\t3541\t3547\t3557\t3559\t3571\t3581\t3583\t3593\t3607\t3613\t3617\t3623\t3631\t3637\t3643\t3659\t3671\t3673\t3677\t3691\t3697\t3701\t3709\t3719\t3727\t3733\t3739\t3761\t3767\t3769\t3779\t3793\t3797\t3803\t3821\t3823\t3833\t3847\t3851\t3853\t3863\t3877\t3881\t3889\t3907\t3911\t3917\t3919\t3923\t3929\t3931\t3943\t3947\t3967\t3989\t4001\t4003\t4007\t4013\t4019\t4021\t4027\t4049\t4051\t4057\t4073\t4079\t4091\t4093\t4099\t4111\t4127\t4129\t4133\t4139\t4153\t4157\t4159\t4177\t4201\t4211\t4217\t4219\t4229\t4231\t4241\t4243\t4253\t4259\t4261\t4271\t4273\t4283\t4289\t4297\t4327\t4337\t4339\t4349\t4357\t4363\t4373\t4391\t4397\t4409\t4421\t4423\t4441\t4447\t4451\t4457\t4463\t4481\t4483\t4493\t4507\t4513\t4517\t4519\t4523\t4547\t4549\t4561\t4567\t4583\t4591\t4597\t4603\t4621\t4637\t4639\t4643\t4649\t4651\t4657\t4663\t4673\t4679\t4691\t4703\t4721\t4723\t4729\t4733\t4751\t4759\t4783\t4787\t4789\t4793\t4799\t4801\t4813\t4817\t4831\t4861\t4871\t4877\t4889\t4903\t4909\t4919\t4931\t4933\t4937\t4943\t4951\t4957\t4967\t4969\t4973\t4987\t4993\t4999\t"
     ]
    }
   ],
   "source": [
    "from math import sqrt\n",
    "s,e = map(int,input(\"Enter starting and ending point space separated --> \").split())\n",
    "@dec(s,e)\n",
    "def prime(num):\n",
    "    check = round(sqrt(num))\n",
    "    for var in range(2,check+1):\n",
    "        if num%var==0:\n",
    "            return\n",
    "    print(num,end=\"\\t\")\n",
    "prime()"
   ]
  },
  {
   "cell_type": "code",
   "execution_count": 133,
   "id": "38841d89",
   "metadata": {},
   "outputs": [
    {
     "name": "stdout",
     "output_type": "stream",
     "text": [
      "1\t2\t3\t4\t5\t6\t7\t8\t9\t153\t"
     ]
    }
   ],
   "source": [
    "@dec(1,200)\n",
    "def arm(num):\n",
    "    digits = [int(var) for var in str(num)]\n",
    "    if sum([i**len(digits) for i in digits]) == num:\n",
    "        print(num,end=\"\\t\")\n",
    "arm()"
   ]
  },
  {
   "cell_type": "code",
   "execution_count": 12,
   "id": "8e32c9d5",
   "metadata": {},
   "outputs": [
    {
     "name": "stdout",
     "output_type": "stream",
     "text": [
      "hello\n"
     ]
    }
   ],
   "source": [
    "def f(x):\n",
    "    def f1(*args, **kwargs):\n",
    "        print(\"*\", 5)\n",
    "        x(*args, **kwargs)\n",
    "        print(\"*\", 5)\n",
    "    return f1\n",
    "@f\n",
    "def p(m):\n",
    "    p(m)\n",
    "\n",
    "\n",
    "print(\"hello\")"
   ]
  },
  {
   "cell_type": "code",
   "execution_count": 8,
   "id": "a2d9cada",
   "metadata": {},
   "outputs": [],
   "source": [
    "def c(f):\n",
    "    def inner(*args, **kargs):\n",
    "        inner.co += 1\n",
    "        print(dir(inner))\n",
    "        return f(*args, **kargs)\n",
    "    inner.co = 0\n",
    "    return inner\n",
    "@c\n",
    "def fnc():\n",
    "    pass"
   ]
  },
  {
   "cell_type": "code",
   "execution_count": 21,
   "id": "1873b505",
   "metadata": {},
   "outputs": [
    {
     "name": "stdout",
     "output_type": "stream",
     "text": [
      "<class 'function'>\n"
     ]
    }
   ],
   "source": [
    "print(type(fnc))"
   ]
  }
 ],
 "metadata": {
  "kernelspec": {
   "display_name": "Python 3 (ipykernel)",
   "language": "python",
   "name": "python3"
  },
  "language_info": {
   "codemirror_mode": {
    "name": "ipython",
    "version": 3
   },
   "file_extension": ".py",
   "mimetype": "text/x-python",
   "name": "python",
   "nbconvert_exporter": "python",
   "pygments_lexer": "ipython3",
   "version": "3.11.4"
  }
 },
 "nbformat": 4,
 "nbformat_minor": 5
}
