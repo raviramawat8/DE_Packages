{
 "cells": [
  {
   "cell_type": "code",
   "execution_count": 4,
   "id": "496f2070",
   "metadata": {},
   "outputs": [],
   "source": [
    "class Human:\n",
    "    def read():\n",
    "        pass\n",
    "    def think():\n",
    "        pass\n",
    "    def dance():\n",
    "        pass"
   ]
  },
  {
   "cell_type": "code",
   "execution_count": 5,
   "id": "7c7cc6b1",
   "metadata": {},
   "outputs": [
    {
     "name": "stdout",
     "output_type": "stream",
     "text": [
      "<class '__main__.Human'>\n",
      "<class 'type'>\n"
     ]
    }
   ],
   "source": [
    "print(Human)\n",
    "print(type(Human))"
   ]
  },
  {
   "cell_type": "code",
   "execution_count": 6,
   "id": "ed5e2ed3",
   "metadata": {},
   "outputs": [
    {
     "name": "stdout",
     "output_type": "stream",
     "text": [
      "['__class__', '__delattr__', '__dict__', '__dir__', '__doc__', '__eq__', '__format__', '__ge__', '__getattribute__', '__getstate__', '__gt__', '__hash__', '__init__', '__init_subclass__', '__le__', '__lt__', '__module__', '__ne__', '__new__', '__reduce__', '__reduce_ex__', '__repr__', '__setattr__', '__sizeof__', '__str__', '__subclasshook__', '__weakref__', 'dance', 'read', 'think']\n"
     ]
    }
   ],
   "source": [
    "print(dir(Human))"
   ]
  },
  {
   "cell_type": "markdown",
   "id": "452ac54d",
   "metadata": {},
   "source": [
    "### Object Creation (Instantiazation)"
   ]
  },
  {
   "cell_type": "code",
   "execution_count": 7,
   "id": "f907f888",
   "metadata": {},
   "outputs": [
    {
     "name": "stdout",
     "output_type": "stream",
     "text": [
      "<__main__.Human object at 0x00000269E62D9410>\n"
     ]
    }
   ],
   "source": [
    "h1 = Human() #object of Human class\n",
    "print(h1)"
   ]
  },
  {
   "cell_type": "code",
   "execution_count": 8,
   "id": "43a07684",
   "metadata": {},
   "outputs": [
    {
     "name": "stdout",
     "output_type": "stream",
     "text": [
      "['__class__', '__delattr__', '__dict__', '__dir__', '__doc__', '__eq__', '__format__', '__ge__', '__getattribute__', '__getstate__', '__gt__', '__hash__', '__init__', '__init_subclass__', '__le__', '__lt__', '__module__', '__ne__', '__new__', '__reduce__', '__reduce_ex__', '__repr__', '__setattr__', '__sizeof__', '__str__', '__subclasshook__', '__weakref__', 'dance', 'read', 'think']\n"
     ]
    }
   ],
   "source": [
    "print(dir(h1))"
   ]
  },
  {
   "cell_type": "code",
   "execution_count": 9,
   "id": "653da38b",
   "metadata": {},
   "outputs": [],
   "source": [
    "h1.name =\"Ravi Ramawat\""
   ]
  },
  {
   "cell_type": "code",
   "execution_count": 10,
   "id": "0d501d18",
   "metadata": {},
   "outputs": [
    {
     "name": "stdout",
     "output_type": "stream",
     "text": [
      "['__class__', '__delattr__', '__dict__', '__dir__', '__doc__', '__eq__', '__format__', '__ge__', '__getattribute__', '__getstate__', '__gt__', '__hash__', '__init__', '__init_subclass__', '__le__', '__lt__', '__module__', '__ne__', '__new__', '__reduce__', '__reduce_ex__', '__repr__', '__setattr__', '__sizeof__', '__str__', '__subclasshook__', '__weakref__', 'dance', 'name', 'read', 'think']\n"
     ]
    }
   ],
   "source": [
    "print(dir(h1))"
   ]
  },
  {
   "cell_type": "code",
   "execution_count": 11,
   "id": "cb5a70ec",
   "metadata": {},
   "outputs": [
    {
     "name": "stdout",
     "output_type": "stream",
     "text": [
      "Ravi Ramawat\n"
     ]
    }
   ],
   "source": [
    "print(h1.name)"
   ]
  },
  {
   "cell_type": "code",
   "execution_count": 13,
   "id": "44c198a2",
   "metadata": {},
   "outputs": [
    {
     "name": "stdout",
     "output_type": "stream",
     "text": [
      "<bound method Human.read of <__main__.Human object at 0x00000269E62D9410>>\n"
     ]
    }
   ],
   "source": [
    "print(h1.read)"
   ]
  },
  {
   "cell_type": "code",
   "execution_count": 18,
   "id": "ef2e5a10",
   "metadata": {},
   "outputs": [
    {
     "name": "stdout",
     "output_type": "stream",
     "text": [
      "<class 'list'>\n",
      "<built-in method append of list object at 0x00000269E743EC40>\n"
     ]
    }
   ],
   "source": [
    "l = [1,2,3]\n",
    "print(type(l))\n",
    "print(l.append)"
   ]
  },
  {
   "cell_type": "code",
   "execution_count": 19,
   "id": "c379fe66",
   "metadata": {},
   "outputs": [
    {
     "name": "stdout",
     "output_type": "stream",
     "text": [
      "2653856568336\n"
     ]
    }
   ],
   "source": [
    "print(id(h1))"
   ]
  },
  {
   "cell_type": "code",
   "execution_count": 20,
   "id": "23fcbd48",
   "metadata": {},
   "outputs": [
    {
     "data": {
      "text/plain": [
       "2653856568336"
      ]
     },
     "execution_count": 20,
     "metadata": {},
     "output_type": "execute_result"
    }
   ],
   "source": [
    "0x00000269E62D9410"
   ]
  },
  {
   "cell_type": "code",
   "execution_count": 22,
   "id": "7e5cd6d8",
   "metadata": {},
   "outputs": [],
   "source": [
    "def hello():\n",
    "    pass"
   ]
  },
  {
   "cell_type": "code",
   "execution_count": 23,
   "id": "e7fed588",
   "metadata": {},
   "outputs": [
    {
     "name": "stdout",
     "output_type": "stream",
     "text": [
      "<function hello at 0x00000269E6C58860>\n"
     ]
    }
   ],
   "source": [
    "print(hello)"
   ]
  },
  {
   "cell_type": "code",
   "execution_count": 42,
   "id": "d43701e5",
   "metadata": {},
   "outputs": [
    {
     "name": "stdout",
     "output_type": "stream",
     "text": [
      "<__main__.Robot object at 0x00000269E7458C50> 2653874916432\n",
      "<__main__.Robot object at 0x00000269E7433110> 2653874762000\n"
     ]
    }
   ],
   "source": [
    "class Robot:\n",
    "    def set_values(self,n,c,m):\n",
    "        self.name = n\n",
    "        self.color = c\n",
    "        self.model = m\n",
    "    def get_values(self):\n",
    "        print(self,id(self),\"<-- Printing self\")\n",
    "\n",
    "r1 = Robot()\n",
    "r2 = Robot()\n",
    "print(r1,id(r1))\n",
    "print(r2,id(r2))"
   ]
  },
  {
   "cell_type": "code",
   "execution_count": 43,
   "id": "a579c1c7",
   "metadata": {},
   "outputs": [
    {
     "name": "stdout",
     "output_type": "stream",
     "text": [
      "<__main__.Robot object at 0x00000269E7458C50> 2653874916432 <-- Printing self\n"
     ]
    }
   ],
   "source": [
    "r1.get_values()"
   ]
  },
  {
   "cell_type": "code",
   "execution_count": 26,
   "id": "fbf6442c",
   "metadata": {},
   "outputs": [
    {
     "name": "stdout",
     "output_type": "stream",
     "text": [
      "<__main__.Robot object at 0x00000269E743EAD0> <-- Printing self\n"
     ]
    }
   ],
   "source": [
    "r2.get_values()"
   ]
  },
  {
   "cell_type": "code",
   "execution_count": 31,
   "id": "6b1ad094",
   "metadata": {},
   "outputs": [],
   "source": [
    "l = [12,31,4,13,24,13,4,1]"
   ]
  },
  {
   "cell_type": "code",
   "execution_count": 33,
   "id": "8da4a0f2",
   "metadata": {},
   "outputs": [
    {
     "name": "stdout",
     "output_type": "stream",
     "text": [
      "Help on built-in function append:\n",
      "\n",
      "append(object, /) method of builtins.list instance\n",
      "    Append object to the end of the list.\n",
      "\n"
     ]
    }
   ],
   "source": [
    "help(l.append)"
   ]
  },
  {
   "cell_type": "code",
   "execution_count": 34,
   "id": "515fdc56",
   "metadata": {},
   "outputs": [
    {
     "name": "stdout",
     "output_type": "stream",
     "text": [
      "Help on method_descriptor:\n",
      "\n",
      "append(self, object, /)\n",
      "    Append object to the end of the list.\n",
      "\n"
     ]
    }
   ],
   "source": [
    "help(list.append)"
   ]
  },
  {
   "cell_type": "code",
   "execution_count": 35,
   "id": "79c3bbb6",
   "metadata": {},
   "outputs": [],
   "source": [
    "l.append(99)"
   ]
  },
  {
   "cell_type": "code",
   "execution_count": 36,
   "id": "41f0b42f",
   "metadata": {},
   "outputs": [
    {
     "name": "stdout",
     "output_type": "stream",
     "text": [
      "[12, 31, 4, 13, 24, 13, 4, 1, 99]\n"
     ]
    }
   ],
   "source": [
    "print(l)"
   ]
  },
  {
   "cell_type": "code",
   "execution_count": 38,
   "id": "19100a89",
   "metadata": {},
   "outputs": [],
   "source": [
    "list.append(l,'Ravi')"
   ]
  },
  {
   "cell_type": "code",
   "execution_count": 39,
   "id": "def94a66",
   "metadata": {},
   "outputs": [
    {
     "name": "stdout",
     "output_type": "stream",
     "text": [
      "[12, 31, 4, 13, 24, 13, 4, 1, 99, 'Ravi']\n"
     ]
    }
   ],
   "source": [
    "print(l)"
   ]
  },
  {
   "cell_type": "code",
   "execution_count": 47,
   "id": "97301fd5",
   "metadata": {},
   "outputs": [
    {
     "name": "stdout",
     "output_type": "stream",
     "text": [
      "<__main__.Robot object at 0x00000269E7538510> 2653875832080\n",
      "<__main__.Robot object at 0x00000269E7538A90> 2653875833488\n"
     ]
    }
   ],
   "source": [
    "class Robot:\n",
    "    def set_values(self,n,c,m):\n",
    "        self.name = n\n",
    "        self.color = c\n",
    "        self.model = m\n",
    "    def get_values(self):\n",
    "        print(self,id(self),\"<-- Printing self\")\n",
    "        print(\"Name -->\",self.name)\n",
    "        print(\"Color -->\",self.color)\n",
    "        print(\"Model -->\",self.model)\n",
    "\n",
    "r1 = Robot()\n",
    "r2 = Robot()\n",
    "print(r1,id(r1))\n",
    "print(r2,id(r2))"
   ]
  },
  {
   "cell_type": "code",
   "execution_count": 48,
   "id": "db2b6efd",
   "metadata": {},
   "outputs": [],
   "source": [
    "r1.set_values('Iron Man','Golden-Red','MARK-45')"
   ]
  },
  {
   "cell_type": "code",
   "execution_count": 49,
   "id": "356ce17f",
   "metadata": {},
   "outputs": [],
   "source": [
    "r2.set_values(\"Chiiti\",\"Human-color\",'2.0')"
   ]
  },
  {
   "cell_type": "code",
   "execution_count": 50,
   "id": "6a5c9396",
   "metadata": {},
   "outputs": [
    {
     "name": "stdout",
     "output_type": "stream",
     "text": [
      "<__main__.Robot object at 0x00000269E7538510> 2653875832080 <-- Printing self\n",
      "Name --> Iron Man\n",
      "Color --> Golden-Red\n",
      "Model --> MARK-45\n"
     ]
    }
   ],
   "source": [
    "r1.get_values()"
   ]
  },
  {
   "cell_type": "code",
   "execution_count": 51,
   "id": "a8591474",
   "metadata": {},
   "outputs": [
    {
     "name": "stdout",
     "output_type": "stream",
     "text": [
      "<__main__.Robot object at 0x00000269E7538A90> 2653875833488 <-- Printing self\n",
      "Name --> Chiiti\n",
      "Color --> Human-color\n",
      "Model --> 2.0\n"
     ]
    }
   ],
   "source": [
    "r2.get_values()"
   ]
  },
  {
   "cell_type": "code",
   "execution_count": 52,
   "id": "e5bf9f66",
   "metadata": {},
   "outputs": [
    {
     "name": "stdout",
     "output_type": "stream",
     "text": [
      "['__class__', '__delattr__', '__dict__', '__dir__', '__doc__', '__eq__', '__format__', '__ge__', '__getattribute__', '__getstate__', '__gt__', '__hash__', '__init__', '__init_subclass__', '__le__', '__lt__', '__module__', '__ne__', '__new__', '__reduce__', '__reduce_ex__', '__repr__', '__setattr__', '__sizeof__', '__str__', '__subclasshook__', '__weakref__', 'color', 'get_values', 'model', 'name', 'set_values']\n"
     ]
    }
   ],
   "source": [
    "print(dir(r1))"
   ]
  },
  {
   "cell_type": "code",
   "execution_count": 53,
   "id": "74bbe864",
   "metadata": {},
   "outputs": [
    {
     "name": "stdout",
     "output_type": "stream",
     "text": [
      "['__class__', '__delattr__', '__dict__', '__dir__', '__doc__', '__eq__', '__format__', '__ge__', '__getattribute__', '__getstate__', '__gt__', '__hash__', '__init__', '__init_subclass__', '__le__', '__lt__', '__module__', '__ne__', '__new__', '__reduce__', '__reduce_ex__', '__repr__', '__setattr__', '__sizeof__', '__str__', '__subclasshook__', '__weakref__', 'color', 'get_values', 'model', 'name', 'set_values']\n"
     ]
    }
   ],
   "source": [
    "print(dir(r2))"
   ]
  },
  {
   "cell_type": "code",
   "execution_count": null,
   "id": "c09ed5dd",
   "metadata": {},
   "outputs": [],
   "source": []
  }
 ],
 "metadata": {
  "kernelspec": {
   "display_name": "Python 3 (ipykernel)",
   "language": "python",
   "name": "python3"
  },
  "language_info": {
   "codemirror_mode": {
    "name": "ipython",
    "version": 3
   },
   "file_extension": ".py",
   "mimetype": "text/x-python",
   "name": "python",
   "nbconvert_exporter": "python",
   "pygments_lexer": "ipython3",
   "version": "3.11.4"
  }
 },
 "nbformat": 4,
 "nbformat_minor": 5
}
